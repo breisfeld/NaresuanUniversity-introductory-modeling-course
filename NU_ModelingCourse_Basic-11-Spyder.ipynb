{
 "metadata": {
  "name": ""
 },
 "nbformat": 3,
 "nbformat_minor": 0,
 "worksheets": [
  {
   "cells": [
    {
     "cell_type": "markdown",
     "metadata": {},
     "source": [
      "![Naresuan University logo](files/graphics/nu_logo.png)"
     ]
    },
    {
     "cell_type": "markdown",
     "metadata": {
      "module": {
       "author": "Brad Reisfeld",
       "author_email": "brad.reisfeld@colostate.edu",
       "notebook_title": "Spyder"
      }
     },
     "source": [
      "# Spyder: Programming Editor / Interactive Development Environment"
     ]
    },
    {
     "cell_type": "markdown",
     "metadata": {},
     "source": [
      "## Major Topics\n",
      "\n",
      "* Overview of Spyder\n",
      "* The code editor\n",
      "* The command shell\n",
      "* The variable explorer\n",
      "* Saving and running programs"
     ]
    },
    {
     "cell_type": "markdown",
     "metadata": {},
     "source": [
      "## Learning Objectives\n",
      "\n",
      "Students successfully completing this session will be able to...\n",
      "\n",
      "* list the major features of Spyder;\n",
      "* create, save and run a Python program using the Spyder code editor;\n",
      "* use the Spyder command shell to execute lines and snippets of Python code; and\n",
      "* explain the use of the Spyder variable explorer."
     ]
    },
    {
     "cell_type": "markdown",
     "metadata": {},
     "source": [
      "---"
     ]
    },
    {
     "cell_type": "markdown",
     "metadata": {},
     "source": [
      "![Spyder logo](files/graphics/spyder_logo.png)\n",
      "\n",
      "The IPython notebook is ideal for smaller scripts and programs and exploratory studies.\n",
      "\n",
      "When larger programs are necessary, a programmer's editor is extremely useful.\n",
      "\n",
      "There are many editors and programming environments available. Here, we will make use of a MATLAB-like environment for Python called **Spyder**.\n",
      "\n",
      "Spyder is an **IDE** (interactive development environment) for writing, running, and debugging Python code."
     ]
    },
    {
     "cell_type": "markdown",
     "metadata": {},
     "source": [
      "![](files/graphics/spyder.png)\n",
      "\n",
      "A reference manual for Spyder is [available](http://pythonhosted.org/spyder/)."
     ]
    },
    {
     "cell_type": "markdown",
     "metadata": {},
     "source": [
      "## Components\n",
      "\n",
      "**Editor**\n",
      "\n",
      "* Syntax coloring for Python, C/C++ and Fortran files\n",
      "* Powerful dynamic code introspection features (powered by rope):\n",
      "    * Code completion and calltips\n",
      "    * Go to an object definition with a mouse click \n",
      "* Class and function browser.\n",
      "* Occurrence highlighting.\n",
      "* To-do lists (TODO, FIXME, XXX).\n",
      "* Get errors and warnings on the fly (provided by pyflakes)\n",
      "* Breakpoints and conditional breakpoints to use with the python debugger (pdb). \n",
      "\n",
      "**Console**\n",
      "\n",
      "* Open as many Python and Ipython consoles as you want\n",
      "* Run a whole script or any portion of it from the Editor\n",
      "* Have code completion and automatic link to documentation through the Object Inspector\n",
      "* Execute all consoles in a separate process so they don't block the application \n",
      "\n",
      "\t\n",
      "**Variable Explorer**\n",
      "\n",
      "* Edit variables with Spyder's Array Editor, which has support for a lot of data types (numbers, strings, lists, arrays, dictionaries)\n",
      "* Have multiple Array Editors open at once, thus allowing to compare variable contents\n",
      "* Import/Export data from/to a lot of file types (text files, numpy files, MATLAB files)\n",
      "* Generate 2D plots of list and arrays\n",
      "* View local variables while you're debugging \n",
      "\n",
      "**Object Inspector** \n",
      "\n",
      "**History Log**\n",
      "\n",
      "**Array Editor**\n",
      "\n",
      "**Online Help**\n",
      "\n",
      "**Project Explorer**"
     ]
    },
    {
     "cell_type": "markdown",
     "metadata": {},
     "source": [
      "---"
     ]
    },
    {
     "cell_type": "markdown",
     "metadata": {},
     "source": [
      "## The Spyder IDE Compared to the IPython Notebook\n",
      "\n",
      "**IPython Notebook**\n",
      "\n",
      "* easy to use for exploratory studies\n",
      "* can use it to document an entire workflow using text, equations, graphics, code, etc.\n",
      "* easy to share notebooks with other people\n",
      "\n",
      "**Spyder IDE**\n",
      "\n",
      "* powerful tools to edit code\n",
      "* easy to develop, debug, and run large programs\n",
      "* projects allow program modules to be logically grouped together\n",
      "* good integration between the command line and the editor\n",
      "\n",
      "\n",
      "**An optimal strategy is to use both the Spyder IDE (or alternative IDE or editor) along with the IPython notebook.**\n"
     ]
    },
    {
     "cell_type": "markdown",
     "metadata": {},
     "source": [
      "---"
     ]
    },
    {
     "cell_type": "markdown",
     "metadata": {},
     "source": [
      "##### Exercise\n",
      "\n",
      "**1. Create a folder/directory for your code**\n",
      "\n",
      "First, decide on a directory location at which you will store your Python code, e.g.,\n",
      "\n",
      "`C:\\projects\\python_code`\n",
      "\n",
      "Create this directory.\n",
      "\n",
      "\n",
      "**2. Start up the Spyder IDE**\n",
      "\n",
      "Navigate to the course materials you downloaded and then into `\\ModelingCourses\\Python\\WinPython-32bit-2.7.5.1`\n",
      "\n",
      "Double click `Spyder.exe` to start it up.\n",
      "\n",
      "It may be convenient to also set up a file association so that when you double click on a file ending in '.py', the Spyder IDE starts up.\n",
      "\n",
      "**3. Set the path to your Python code**\n",
      "\n",
      "It is important that Spyder be able to find and `import` the programs you write.\n",
      "\n",
      "Spyder and other Python tools use the `PYTHONPATH` environmental variable for this. Therefore, you need to set this variable appropriately.\n",
      "\n",
      "In Spyder, select the following menu item\n",
      "\n",
      "`Tools | PYTHONPATH Manager`\n",
      "\n",
      "Click on the `Add path` button and enter the path to the directory you created in step 1.\n",
      "\n",
      "Finally, close Spyder and reopen it."
     ]
    },
    {
     "cell_type": "markdown",
     "metadata": {},
     "source": [
      "---"
     ]
    },
    {
     "cell_type": "markdown",
     "metadata": {},
     "source": [
      "The majority of this session will be focused on writing and running code in this interactive development environment.\n",
      "\n",
      "Our examples will focus on simple problems, but will show some of the power of Spyder and of writing python modules.\n",
      "\n",
      "One of our aims will be to create our own module and `import` and use some of the functions.\n",
      "\n",
      "We will also examine and edit some of the Python programs in the following folder:\n",
      "\n",
      "`ModelingCourses\\CourseMaterials\\MathematicalModeling\\BasicCourse\\IPythonNotebooks\\code\\`\n"
     ]
    },
    {
     "cell_type": "markdown",
     "metadata": {},
     "source": [
      "---"
     ]
    },
    {
     "cell_type": "markdown",
     "metadata": {},
     "source": [
      "#### Note\n",
      "\n",
      "If we are using Spyder's command line and have imported our module\n",
      "\n",
      "`>> import my_module`\n",
      "\n",
      "we may have to reload it after we make changes to the code:\n",
      "\n",
      "`>> reload(my_module)`"
     ]
    },
    {
     "cell_type": "code",
     "collapsed": false,
     "input": [],
     "language": "python",
     "metadata": {},
     "outputs": []
    }
   ],
   "metadata": {}
  }
 ]
}