{
 "metadata": {
  "name": ""
 },
 "nbformat": 3,
 "nbformat_minor": 0,
 "worksheets": [
  {
   "cells": [
    {
     "cell_type": "markdown",
     "metadata": {},
     "source": [
      "![Naresuan University logo](files/graphics/nu_logo.png)"
     ]
    },
    {
     "cell_type": "markdown",
     "metadata": {
      "module": {
       "author": "Brad Reisfeld",
       "author_email": "brad.reisfeld@colostate.edu",
       "notebook_title": "IPython Notebook"
      }
     },
     "source": [
      "# IPython Notebook - part 2"
     ]
    },
    {
     "cell_type": "markdown",
     "metadata": {},
     "source": [
      "## Major Topics\n",
      "\n",
      "* Overview of the IPython notebook\n",
      "* Creating headings and text\n",
      "* Including equations\n",
      "* Including and running computer code\n",
      "* Other useful things we can include in notebooks\n"
     ]
    },
    {
     "cell_type": "markdown",
     "metadata": {},
     "source": [
      "## Learning Objectives\n",
      "\n",
      "Students successfully completing this session will be able to...\n",
      "\n",
      "* explain major features of the IPython notebook \n",
      "* list some advantages and disadvantages of the IPython notebook compared to other means of recording modeling- and computational-related activities \n",
      "* create an IPython notebook embodying several important features, including headers, explanatory text, Python code, and plots\n"
     ]
    },
    {
     "cell_type": "markdown",
     "metadata": {},
     "source": [
      "---"
     ]
    },
    {
     "cell_type": "markdown",
     "metadata": {},
     "source": [
      "![IPython logo](files/graphics/ipython_logo.png)\n",
      "\n",
      "The **IPython Notebook** is a web-based interactive computational environment where you can combine code execution, text, mathematics, plots and rich media into a single document.\n",
      "\n",
      "In many senses, the IPython notebook is like a conventional lab notebook. It can be used to record and track your modeling and computational activities.\n",
      "\n",
      "These notebooks are normal files that can be shared with colleagues, converted to other formats such as HTML or PDF, etc. You can share any publicly available notebook by using the IPython Notebook Viewer service which will render it as a static web page. This makes it easy to give your colleagues a document they can read immediately without having to install anything."
     ]
    },
    {
     "cell_type": "markdown",
     "metadata": {},
     "source": [
      "The reference manual for the IPython notebook is [here](http://ipython.org/ipython-doc/rel-0.13.1/index.html).\n",
      "\n",
      "In addition a gallery of interesting IPython Notebooks is [here](https://github.com/ipython/ipython/wiki/A-gallery-of-interesting-IPython-Notebooks)."
     ]
    },
    {
     "cell_type": "markdown",
     "metadata": {},
     "source": [
      "![IPython notebook](files/graphics/ipython_notebook.png)"
     ]
    },
    {
     "cell_type": "markdown",
     "metadata": {},
     "source": [
      "An IPython notebook can contain many types of content, including\n",
      "\n",
      "* text and headings to make your notebook a form of self-contained documentation\n",
      "* Python code\n",
      "* the output from Python code (e.g. calculation results, plots)\n",
      "* equations\n",
      "* images\n",
      "* data tables\n",
      "* movies\n",
      "* and much more..."
     ]
    },
    {
     "cell_type": "markdown",
     "metadata": {},
     "source": [
      "## Notebook Manager\n",
      "\n",
      "**Create, start, stop, and delete notebooks:**\n",
      "\n",
      "![IPython notebook](files/graphics/ipython_notebook_manager.png)\n",
      "\n"
     ]
    },
    {
     "cell_type": "markdown",
     "metadata": {},
     "source": [
      "## Notebooks\n",
      "\n",
      "**Renaming:**\n",
      "\n",
      "![rename IPython notebook](files/graphics/ipython_rename_notebook.png)"
     ]
    },
    {
     "cell_type": "markdown",
     "metadata": {},
     "source": [
      "---"
     ]
    },
    {
     "cell_type": "markdown",
     "metadata": {},
     "source": [
      "**IMPORTANT NOTE:**\n",
      "\n",
      "Calculations and results within cells will often rely on the results or definitions in other cells, so be sure to execute the cells in order.\n",
      "\n",
      "**In general, arrange your notebooks from top to bottom and execute all of the cells in that order.**\n",
      "\n",
      "\n",
      "**When you open a notebook, you can select the `'Cell'` menu and then `'Run All'` to make sure that all of the variables are intialized.**"
     ]
    },
    {
     "cell_type": "markdown",
     "metadata": {},
     "source": [
      "---"
     ]
    },
    {
     "cell_type": "markdown",
     "metadata": {},
     "source": [
      "## Text and Headings"
     ]
    },
    {
     "cell_type": "markdown",
     "metadata": {},
     "source": [
      "We can add a variety of text and headings to a notebook. This is a nice way to keep notes and explain concepts.\n",
      "\n",
      "In general, we will want to use *Markdown* cells for our text.\n",
      "\n",
      "If we use Markdown, we can make *italic* works, **bold** words, and have headings of various types.\n",
      "\n",
      "Here is an article from Wikipedia about Markdown:  https://en.wikipedia.org/wiki/Markdown\n"
     ]
    },
    {
     "cell_type": "markdown",
     "metadata": {},
     "source": [
      "It is important to note that **our text can be in languages other than English:**\n",
      "\n",
      "Python \u0e40\u0e1b\u0e47\u0e19\u0e20\u0e32\u0e29\u0e32\u0e23\u0e30\u0e14\u0e31\u0e1a\u0e2a\u0e39\u0e07\u0e20\u0e32\u0e29\u0e32\u0e2b\u0e19\u0e36\u0e48\u0e07 \u0e17\u0e35\u0e48\u0e21\u0e35\u0e04\u0e27\u0e32\u0e21\u0e2a\u0e32\u0e21\u0e32\u0e23\u0e16\u0e2a\u0e39\u0e07\u0e16\u0e39\u0e01\u0e2a\u0e23\u0e49\u0e32\u0e07\u0e02\u0e36\u0e49\u0e19\u0e43\u0e19\u0e1b\u0e35 1989 \u0e42\u0e14\u0e22 Guido van Rossum \u0e0b\u0e36\u0e48\u0e07\u0e20\u0e32\u0e29\u0e32\u0e19\u0e35\u0e49\u0e1e\u0e31\u0e12\u0e19\u0e32\u0e02\u0e36\u0e49\u0e19\u0e21\u0e32\u0e42\u0e14\u0e22\u0e44\u0e21\u0e48\u0e22\u0e36\u0e14\u0e15\u0e34\u0e14\u0e01\u0e31\u0e1a\u0e41\u0e1e\u0e25\u0e15\u0e1f\u0e2d\u0e23\u0e4c\u0e21 \u0e01\u0e25\u0e48\u0e32\u0e27\u0e04\u0e37\u0e2d\u0e2a\u0e32\u0e21\u0e32\u0e23\u0e16\u0e23\u0e31\u0e19\u0e20\u0e32\u0e29\u0e32 Python \u0e44\u0e14\u0e49\u0e17\u0e31\u0e49\u0e07\u0e1a\u0e19\u0e23\u0e30\u0e1a\u0e1a Unix, Linux, Windows NT/2000/XP/2003, FreeBSD \u0e2b\u0e23\u0e37\u0e2d\u0e41\u0e21\u0e49\u0e41\u0e15\u0e48\u0e23\u0e30\u0e1a\u0e1a MAC OS X, Palm, Nokia Mobile \u0e2d\u0e35\u0e01\u0e2d\u0e22\u0e48\u0e32\u0e07\u0e2b\u0e19\u0e36\u0e48\u0e07\u0e20\u0e32\u0e29\u0e32\u0e15\u0e31\u0e27 \u0e19\u0e35\u0e49\u0e40\u0e1b\u0e47\u0e19\u0e20\u0e32\u0e29\u0e32\u0e25\u0e31\u0e01\u0e29\u0e13\u0e30 Open Source \u0e17\u0e35\u0e48\u0e41\u0e08\u0e01\u0e08\u0e48\u0e32\u0e22\u0e43\u0e2b\u0e49\u0e43\u0e0a\u0e49\u0e07\u0e32\u0e19\u0e1f\u0e23\u0e35"
     ]
    },
    {
     "cell_type": "markdown",
     "metadata": {},
     "source": [
      "**Some of the ways to create different text styles using Markdown:**\n",
      "\n",
      "Heading are made using the `#` character before the heading itself.\n",
      "\n",
      "The number of `#` characters indicates the heading level.\n",
      "\n",
      "`# Main heading`\n",
      "\n",
      "`## Second-level heading`\n",
      "\n",
      "`### Third-level heading`\n",
      "\n",
      "You can make words or phrases *italic* by adding a '`*`' before and after the word or phrase, e.g., `*this phrase is italic*`.\n",
      "\n",
      "You can make words or phrases **bold** by adding a '`**`' before and after the word or phrase, e.g., `**this phrase is bold**`.\n",
      "\n",
      "You can make bulleted lists by using a construction like this\n",
      "\n",
      "`\n",
      "* cat\n",
      "* dog\n",
      "* fish\n",
      "* goat\n",
      "`\n",
      "\n",
      "A numbered list can be made as follows:\n",
      "\n",
      "`\n",
      "1. insert the key\n",
      "2. turn the key to the right\n",
      "3. engage the clutch\n",
      "4. press the brake\n",
      "`\n",
      "\n",
      "You can add a horizontal line using three dashes: `---`\n",
      "\n"
     ]
    },
    {
     "cell_type": "markdown",
     "metadata": {},
     "source": [
      "##### Exercise\n",
      "\n",
      "Create a new a new notebook. Rename it 'markdown_test'.\n",
      "\n",
      "In this new notebook, create a couple of new Markdown cells and try adding some headings and different types of text and lists. \n",
      "\n",
      "Write some explanatory text and notes to help you remember.\n",
      "\n",
      "Make sure to convert your cell from a Code cell to a Markdown cell first."
     ]
    },
    {
     "cell_type": "markdown",
     "metadata": {},
     "source": [
      "**Hint: Press Shift-Enter to *execute* a cell and move to the next cell.**"
     ]
    },
    {
     "cell_type": "code",
     "collapsed": false,
     "input": [],
     "language": "python",
     "metadata": {},
     "outputs": []
    },
    {
     "cell_type": "markdown",
     "metadata": {},
     "source": [
      "## Equations"
     ]
    },
    {
     "cell_type": "markdown",
     "metadata": {},
     "source": [
      "Equations can be included right in using some special equation symbol codes.\n",
      "\n",
      "They can be within a line: $x^2 + y^2  = z^2$. Or stand on a separate line:\n",
      "\n",
      "$$E = m \\cdot c^2 $$\n",
      "\n",
      "Complex equations can also be created:\n",
      "\n",
      "**equation 1:**\n",
      "\n",
      "\\begin{aligned} \\dot{x} & = \\sigma(y-x) \\\\ \\dot{y} & = \\rho x - y - xz \\\\ \\dot{z} & = -\\beta z + xy \\end{aligned}\n",
      "\n",
      "**equation 2:**\n",
      "\n",
      "$$F(k) = \\int_{-\\infty}^{\\infty} f(x) e^{2\\pi i k} dx$$\n",
      "\n",
      "**equation 3:**\n",
      "\n",
      "\\begin{aligned} \\nabla \\times \\vec{\\mathbf{B}} -\\, \\frac1c\\, \\frac{\\partial\\vec{\\mathbf{E}}}{\\partial t} & = \\frac{4\\pi}{c}\\vec{\\mathbf{j}} \\\\ \\nabla \\cdot \\vec{\\mathbf{E}} & = 4 \\pi \\rho \\\\ \\nabla \\times \\vec{\\mathbf{E}}\\, +\\, \\frac1c\\, \\frac{\\partial\\vec{\\mathbf{B}}}{\\partial t} & = \\vec{\\mathbf{0}} \\\\ \\nabla \\cdot \\vec{\\mathbf{B}} & = 0 \\end{aligned}\n",
      "\n",
      "The Markdown capabilities included in IPython is MathJax-aware. This means that you can freely mix in mathematical expressions using the [MathJax subset of Tex and LaTeX](http://docs.mathjax.org/en/latest/tex.html#tex-support). "
     ]
    },
    {
     "cell_type": "markdown",
     "metadata": {},
     "source": [
      "## Remote and Local Images"
     ]
    },
    {
     "cell_type": "markdown",
     "metadata": {},
     "source": [
      "Images may be include in a number of ways. We'll just cover one of the ways here."
     ]
    },
    {
     "cell_type": "code",
     "collapsed": false,
     "input": [
      "from IPython.display import Image\n",
      "Image(url='http://python.org/images/python-logo.gif')"
     ],
     "language": "python",
     "metadata": {},
     "outputs": [
      {
       "html": [
        "<img src=\"http://python.org/images/python-logo.gif\"/>"
       ],
       "metadata": {},
       "output_type": "pyout",
       "prompt_number": 1,
       "text": [
        "<IPython.core.display.Image at 0x7f6c668>"
       ]
      }
     ],
     "prompt_number": 1
    },
    {
     "cell_type": "code",
     "collapsed": false,
     "input": [
      "Image(filename='./graphics/air_pollutant_transport.png')"
     ],
     "language": "python",
     "metadata": {},
     "outputs": [
      {
       "metadata": {},
       "output_type": "pyout",
       "png": "[encoded data removed]",
       "prompt_number": 2,
       "text": [
        "<IPython.core.display.Image at 0x7f6c588>"
       ]
      }
     ],
     "prompt_number": 2
    },
    {
     "cell_type": "markdown",
     "metadata": {},
     "source": [
      "## Data and Data Tables"
     ]
    },
    {
     "cell_type": "markdown",
     "metadata": {},
     "source": [
      "We can display tables in Markdown:\n",
      "\n",
      "Double click this cell to see the format needed.\n",
      "\n",
      "column 1 | column 2 | column 3\n",
      "---------|----------|---------\n",
      "1        | 2.13     | -789.12\n",
      "2        | 3.87     | 3.0E12\n",
      "3        | -2.05    | 9.05\n",
      "4        | 7.34     | 0.003\n"
     ]
    },
    {
     "cell_type": "markdown",
     "metadata": {},
     "source": [
      "The table above is really just for display purposes. The numbers are not available to us for calculations. \n",
      "\n",
      "We can use the package `pandas`, which we will see later in the course, to manipulate data, and to format it nicely in the notebook:"
     ]
    },
    {
     "cell_type": "code",
     "collapsed": false,
     "input": [
      "import pandas\n",
      "pandas.read_csv('./data/QSAR_data.csv')"
     ],
     "language": "python",
     "metadata": {},
     "outputs": [
      {
       "html": [
        "<div style=\"max-height:1000px;max-width:1500px;overflow:auto;\">\n",
        "<table border=\"1\" class=\"dataframe\">\n",
        "  <thead>\n",
        "    <tr style=\"text-align: right;\">\n",
        "      <th></th>\n",
        "      <th>m-X</th>\n",
        "      <th>p-Y</th>\n",
        "      <th>p</th>\n",
        "      <th>s+</th>\n",
        "      <th>Es(meta)</th>\n",
        "      <th>log(1/C)obs</th>\n",
        "    </tr>\n",
        "  </thead>\n",
        "  <tbody>\n",
        "    <tr>\n",
        "      <th>0 </th>\n",
        "      <td>  H</td>\n",
        "      <td>  H</td>\n",
        "      <td> 0.00</td>\n",
        "      <td> 0.00</td>\n",
        "      <td> 1.24</td>\n",
        "      <td> 7.46</td>\n",
        "    </tr>\n",
        "    <tr>\n",
        "      <th>1 </th>\n",
        "      <td>  F</td>\n",
        "      <td>  H</td>\n",
        "      <td> 0.13</td>\n",
        "      <td> 0.35</td>\n",
        "      <td> 0.78</td>\n",
        "      <td> 7.52</td>\n",
        "    </tr>\n",
        "    <tr>\n",
        "      <th>2 </th>\n",
        "      <td>  H</td>\n",
        "      <td>  F</td>\n",
        "      <td> 0.15</td>\n",
        "      <td>-0.07</td>\n",
        "      <td> 1.24</td>\n",
        "      <td> 8.16</td>\n",
        "    </tr>\n",
        "    <tr>\n",
        "      <th>3 </th>\n",
        "      <td> Cl</td>\n",
        "      <td>  H</td>\n",
        "      <td> 0.76</td>\n",
        "      <td> 0.40</td>\n",
        "      <td> 0.27</td>\n",
        "      <td> 8.16</td>\n",
        "    </tr>\n",
        "    <tr>\n",
        "      <th>4 </th>\n",
        "      <td> Cl</td>\n",
        "      <td>  F</td>\n",
        "      <td> 0.91</td>\n",
        "      <td> 0.33</td>\n",
        "      <td> 0.27</td>\n",
        "      <td> 8.19</td>\n",
        "    </tr>\n",
        "    <tr>\n",
        "      <th>5 </th>\n",
        "      <td> Br</td>\n",
        "      <td>  H</td>\n",
        "      <td> 0.94</td>\n",
        "      <td> 0.41</td>\n",
        "      <td> 0.08</td>\n",
        "      <td> 8.30</td>\n",
        "    </tr>\n",
        "    <tr>\n",
        "      <th>6 </th>\n",
        "      <td>  I</td>\n",
        "      <td>  H</td>\n",
        "      <td> 1.15</td>\n",
        "      <td> 0.36</td>\n",
        "      <td>-0.16</td>\n",
        "      <td> 8.40</td>\n",
        "    </tr>\n",
        "    <tr>\n",
        "      <th>7 </th>\n",
        "      <td> Me</td>\n",
        "      <td>  H</td>\n",
        "      <td> 0.51</td>\n",
        "      <td>-0.07</td>\n",
        "      <td> 0.00</td>\n",
        "      <td> 8.46</td>\n",
        "    </tr>\n",
        "    <tr>\n",
        "      <th>8 </th>\n",
        "      <td> Br</td>\n",
        "      <td>  F</td>\n",
        "      <td> 1.09</td>\n",
        "      <td> 0.34</td>\n",
        "      <td> 0.08</td>\n",
        "      <td> 8.57</td>\n",
        "    </tr>\n",
        "    <tr>\n",
        "      <th>9 </th>\n",
        "      <td>  H</td>\n",
        "      <td> Cl</td>\n",
        "      <td> 0.70</td>\n",
        "      <td> 0.11</td>\n",
        "      <td> 1.24</td>\n",
        "      <td> 8.68</td>\n",
        "    </tr>\n",
        "    <tr>\n",
        "      <th>10</th>\n",
        "      <td> Me</td>\n",
        "      <td>  F</td>\n",
        "      <td> 0.66</td>\n",
        "      <td>-0.14</td>\n",
        "      <td> 0.00</td>\n",
        "      <td> 8.82</td>\n",
        "    </tr>\n",
        "    <tr>\n",
        "      <th>11</th>\n",
        "      <td>  H</td>\n",
        "      <td> Br</td>\n",
        "      <td> 1.02</td>\n",
        "      <td> 0.15</td>\n",
        "      <td> 1.24</td>\n",
        "      <td> 8.89</td>\n",
        "    </tr>\n",
        "    <tr>\n",
        "      <th>12</th>\n",
        "      <td> Cl</td>\n",
        "      <td> Cl</td>\n",
        "      <td> 1.46</td>\n",
        "      <td> 0.51</td>\n",
        "      <td> 0.27</td>\n",
        "      <td> 8.89</td>\n",
        "    </tr>\n",
        "    <tr>\n",
        "      <th>13</th>\n",
        "      <td> Br</td>\n",
        "      <td> Cl</td>\n",
        "      <td> 1.64</td>\n",
        "      <td> 0.52</td>\n",
        "      <td> 0.08</td>\n",
        "      <td> 8.92</td>\n",
        "    </tr>\n",
        "    <tr>\n",
        "      <th>14</th>\n",
        "      <td> Me</td>\n",
        "      <td> Cl</td>\n",
        "      <td> 1.21</td>\n",
        "      <td> 0.04</td>\n",
        "      <td> 0.00</td>\n",
        "      <td> 8.96</td>\n",
        "    </tr>\n",
        "    <tr>\n",
        "      <th>15</th>\n",
        "      <td> Cl</td>\n",
        "      <td> Br</td>\n",
        "      <td> 1.78</td>\n",
        "      <td> 0.55</td>\n",
        "      <td> 0.27</td>\n",
        "      <td> 9.00</td>\n",
        "    </tr>\n",
        "    <tr>\n",
        "      <th>16</th>\n",
        "      <td> Me</td>\n",
        "      <td> Br</td>\n",
        "      <td> 1.53</td>\n",
        "      <td> 0.08</td>\n",
        "      <td> 0.00</td>\n",
        "      <td> 9.22</td>\n",
        "    </tr>\n",
        "    <tr>\n",
        "      <th>17</th>\n",
        "      <td>  H</td>\n",
        "      <td>  I</td>\n",
        "      <td> 1.26</td>\n",
        "      <td> 0.14</td>\n",
        "      <td> 1.24</td>\n",
        "      <td> 9.25</td>\n",
        "    </tr>\n",
        "    <tr>\n",
        "      <th>18</th>\n",
        "      <td>  H</td>\n",
        "      <td> Me</td>\n",
        "      <td> 0.52</td>\n",
        "      <td>-0.31</td>\n",
        "      <td> 1.24</td>\n",
        "      <td> 9.30</td>\n",
        "    </tr>\n",
        "    <tr>\n",
        "      <th>19</th>\n",
        "      <td> Me</td>\n",
        "      <td> Me</td>\n",
        "      <td> 1.03</td>\n",
        "      <td>-0.38</td>\n",
        "      <td> 0.00</td>\n",
        "      <td> 9.30</td>\n",
        "    </tr>\n",
        "    <tr>\n",
        "      <th>20</th>\n",
        "      <td> Br</td>\n",
        "      <td> Br</td>\n",
        "      <td> 1.96</td>\n",
        "      <td> 0.56</td>\n",
        "      <td> 0.08</td>\n",
        "      <td> 9.35</td>\n",
        "    </tr>\n",
        "    <tr>\n",
        "      <th>21</th>\n",
        "      <td> Br</td>\n",
        "      <td> Me</td>\n",
        "      <td> 1.46</td>\n",
        "      <td> 0.10</td>\n",
        "      <td> 0.08</td>\n",
        "      <td> 9.52</td>\n",
        "    </tr>\n",
        "  </tbody>\n",
        "</table>\n",
        "</div>"
       ],
       "metadata": {},
       "output_type": "pyout",
       "prompt_number": 3,
       "text": [
        "   m-X p-Y     p    s+  Es(meta)  log(1/C)obs\n",
        "0    H   H  0.00  0.00      1.24         7.46\n",
        "1    F   H  0.13  0.35      0.78         7.52\n",
        "2    H   F  0.15 -0.07      1.24         8.16\n",
        "3   Cl   H  0.76  0.40      0.27         8.16\n",
        "4   Cl   F  0.91  0.33      0.27         8.19\n",
        "5   Br   H  0.94  0.41      0.08         8.30\n",
        "6    I   H  1.15  0.36     -0.16         8.40\n",
        "7   Me   H  0.51 -0.07      0.00         8.46\n",
        "8   Br   F  1.09  0.34      0.08         8.57\n",
        "9    H  Cl  0.70  0.11      1.24         8.68\n",
        "10  Me   F  0.66 -0.14      0.00         8.82\n",
        "11   H  Br  1.02  0.15      1.24         8.89\n",
        "12  Cl  Cl  1.46  0.51      0.27         8.89\n",
        "13  Br  Cl  1.64  0.52      0.08         8.92\n",
        "14  Me  Cl  1.21  0.04      0.00         8.96\n",
        "15  Cl  Br  1.78  0.55      0.27         9.00\n",
        "16  Me  Br  1.53  0.08      0.00         9.22\n",
        "17   H   I  1.26  0.14      1.24         9.25\n",
        "18   H  Me  0.52 -0.31      1.24         9.30\n",
        "19  Me  Me  1.03 -0.38      0.00         9.30\n",
        "20  Br  Br  1.96  0.56      0.08         9.35\n",
        "21  Br  Me  1.46  0.10      0.08         9.52"
       ]
      }
     ],
     "prompt_number": 3
    },
    {
     "cell_type": "markdown",
     "metadata": {},
     "source": [
      "## Python Code and Results\n",
      "\n",
      "The main reason that the IPython notebook was created was to be able to edit and execute Python code and to examine the results.\n",
      "\n",
      "The notebook allows us to interactively *experiment* with our code and see the results immediately.\n",
      "\n",
      "We haven't learned any Python programming tools yet, but go to the cell below and change the value of `alpha` and execute the cell (press `Shift-Enter`). Change `alpha` again, execute the cell, and observe the results.\n",
      "\n",
      "Can you find a value of `alpha` that leads to a plot where the blue and green lines seem to align?"
     ]
    },
    {
     "cell_type": "code",
     "collapsed": false,
     "input": [
      "import numpy as np\n",
      "import matplotlib.pyplot as plt\n",
      "\n",
      "# change the value of alpha and \n",
      "# execute the cell (press Shift-Enter)\n",
      "\n",
      "alpha = 1.00\n",
      "\n",
      "beta = 4.75\n",
      "x = np.linspace(0, 10, 100)\n",
      "y1 = np.sin(x/alpha)*np.cos(2*alpha*x)\n",
      "y2 = np.sin(beta*x)\n",
      "fig, axes = plt.subplots()\n",
      "axes.plot(x, y1, 'b-', x, y2, 'g-')\n",
      "axes.grid(True)"
     ],
     "language": "python",
     "metadata": {},
     "outputs": [
      {
       "metadata": {},
       "output_type": "display_data",
       "png": "[encoded data removed]",
       "text": [
        "<matplotlib.figure.Figure at 0x851e470>"
       ]
      }
     ],
     "prompt_number": 4
    },
    {
     "cell_type": "markdown",
     "metadata": {},
     "source": [
      "Another useful feature in IPython is the ability to run a Python program from a file and use the results in the notebook.\n",
      "\n",
      "Let's look at the Python code in `ModelingCourses\\CourseMaterials\\MathematicalModeling\\BasicCourse\\IPythonNotebooks\\code\\solve_cubic_equation.py` in Notepad or another editor first.\n",
      "\n",
      "This code solves for $x$ in the equation $a x^{3} + b x^{2} + c x + d = 0$, given $a$, $b$, $c$, and $d$."
     ]
    },
    {
     "cell_type": "code",
     "collapsed": false,
     "input": [
      "%run ./code/solve_cubic_equation.py\n",
      "\n",
      "print coeff_b\n",
      "print cubic_roots"
     ],
     "language": "python",
     "metadata": {},
     "outputs": [
      {
       "output_type": "stream",
       "stream": "stdout",
       "text": [
        "2\n",
        "(-1.6506291914393882, (-0.17468540428030588+1.5468688872313963j), (-0.17468540428030588-1.5468688872313963j))\n"
       ]
      }
     ],
     "prompt_number": 9
    },
    {
     "cell_type": "markdown",
     "metadata": {},
     "source": [
      "**Other useful commands in IPython:**\n",
      "\n",
      "A couple of other very useful commands are as follows:\n",
      "\n",
      "* `whos` or `%whos`: list all of the variables defined and accessible to you\n",
      "* `reset` or `%reset`: clear out all of the variables\n",
      "\n",
      "Many other commands are listed in the [IPython manual](http://ipython.org/ipython-doc/rel-0.13.1/index.html).\n"
     ]
    },
    {
     "cell_type": "code",
     "collapsed": false,
     "input": [
      "%whos"
     ],
     "language": "python",
     "metadata": {},
     "outputs": [
      {
       "output_type": "stream",
       "stream": "stdout",
       "text": [
        "Variable   Type       Data/Info\n",
        "-------------------------------\n",
        "alpha      float      1.0\n",
        "fig        Figure     Figure(480x320)\n",
        "x          ndarray    100L: 100 elems, type `float64`, 800 bytes\n",
        "y1         ndarray    100L: 100 elems, type `float64`, 800 bytes\n",
        "y2         ndarray    100L: 100 elems, type `float64`, 800 bytes\n"
       ]
      }
     ],
     "prompt_number": 5
    },
    {
     "cell_type": "code",
     "collapsed": false,
     "input": [
      "%reset"
     ],
     "language": "python",
     "metadata": {},
     "outputs": [
      {
       "name": "stdout",
       "output_type": "stream",
       "stream": "stdout",
       "text": [
        "Once deleted, variables cannot be recovered. Proceed (y/[n])? n\n"
       ]
      },
      {
       "output_type": "stream",
       "stream": "stdout",
       "text": [
        "Nothing done.\n"
       ]
      }
     ],
     "prompt_number": 7
    },
    {
     "cell_type": "code",
     "collapsed": false,
     "input": [],
     "language": "python",
     "metadata": {},
     "outputs": [],
     "prompt_number": 7
    }
   ],
   "metadata": {}
  }
 ]
}