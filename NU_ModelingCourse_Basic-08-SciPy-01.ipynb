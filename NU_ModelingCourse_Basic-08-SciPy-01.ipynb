{
 "metadata": {
  "name": ""
 },
 "nbformat": 3,
 "nbformat_minor": 0,
 "worksheets": [
  {
   "cells": [
    {
     "cell_type": "markdown",
     "metadata": {},
     "source": [
      "![Naresuan University logo](files/graphics/nu_logo.png)"
     ]
    },
    {
     "cell_type": "markdown",
     "metadata": {
      "module": {
       "author": "Brad Reisfeld",
       "author_email": "brad.reisfeld@colostate.edu",
       "notebook_title": "SciPy"
      }
     },
     "source": [
      "# SciPy"
     ]
    },
    {
     "cell_type": "markdown",
     "metadata": {},
     "source": [
      "## Major Topics\n",
      "\n",
      "* Overview of SciPy\n",
      "* Importing data\n",
      "* Interpolation \n",
      "* Statistics\n",
      "* Numerical integration"
     ]
    },
    {
     "cell_type": "markdown",
     "metadata": {},
     "source": [
      "## Learning Objectives\n",
      "\n",
      "Students successfully completing this session will be able to use SciPy to...\n",
      "\n",
      "* perform data interpolation;  \n",
      "* conduct a simple statistical analysis of data; and\n",
      "* numerically integrate a function."
     ]
    },
    {
     "cell_type": "markdown",
     "metadata": {},
     "source": [
      "---"
     ]
    },
    {
     "cell_type": "markdown",
     "metadata": {},
     "source": [
      "![SciPy logo](files/graphics/scipy_logo.jpg)\n",
      "\n",
      "**SciPy** is a Python package that provides many user-friendly and efficient numerical routines, such as functions for numerical integration and optimization.\n",
      "\n",
      "SciPy has capabilities in these areas: \n",
      "\n",
      "* basic functions\n",
      "* special functions (scipy.special)\n",
      "* integration (scipy.integrate)\n",
      "* optimization (scipy.optimize)\n",
      "* interpolation (scipy.interpolate)\n",
      "* Fourier transforms (scipy.fftpack)\n",
      "* signal processing (scipy.signal)\n",
      "* linear algebra (scipy.linalg)\n",
      "* spatial data structures and algorithms (scipy.spatial)\n",
      "* Statistics (scipy.stats)\n",
      "* multi-dimensional image processing (scipy.ndimage)\n",
      "* file IO (scipy.io)\n",
      "\n",
      "A reference guide for SciPy can be found [here](http://docs.scipy.org/doc/scipy/reference/).\n",
      "\n",
      "A number of useful examples may be found in the [SciPy cookbook](http://wiki.scipy.org/Cookbook)."
     ]
    },
    {
     "cell_type": "markdown",
     "metadata": {},
     "source": [
      "---"
     ]
    },
    {
     "cell_type": "markdown",
     "metadata": {},
     "source": [
      "### Quick Tip\n",
      "\n",
      "Previously, we had use matplotlib in a way that allowed us to make plots that were highly customized. \n",
      "\n",
      "There is an easier method that we can use when we want to make quick plots. We can avoid the `subplots` function and simply call the `plot` function directly:\n",
      "\n",
      "    import matplotlib.pyplot as plt\n",
      "    plt.plot(x,y)"
     ]
    },
    {
     "cell_type": "code",
     "collapsed": false,
     "input": [
      "import matplotlib.pyplot as plt\n",
      "import scipy.special as sps\n",
      "x = np.linspace(0, 20, 100)\n",
      "y = sps.j0(x)  # Bessel function of the first kind of order zero\n",
      "\n",
      "plt.plot(x,y, 'g-')"
     ],
     "language": "python",
     "metadata": {},
     "outputs": [
      {
       "metadata": {},
       "output_type": "pyout",
       "prompt_number": 1,
       "text": [
        "[<matplotlib.lines.Line2D at 0x811abe0>]"
       ]
      },
      {
       "metadata": {},
       "output_type": "display_data",
       "png": "[encoded data removed]",
       "text": [
        "<matplotlib.figure.Figure at 0x8038a90>"
       ]
      }
     ],
     "prompt_number": 1
    },
    {
     "cell_type": "markdown",
     "metadata": {},
     "source": [
      "---"
     ]
    },
    {
     "cell_type": "markdown",
     "metadata": {},
     "source": [
      "Back to SciPy...\n",
      "\n",
      "As usual, we need to import the modules or packages to use them:"
     ]
    },
    {
     "cell_type": "code",
     "collapsed": false,
     "input": [
      "import scipy as sp\n",
      "import numpy as np"
     ],
     "language": "python",
     "metadata": {},
     "outputs": [],
     "prompt_number": 2
    },
    {
     "cell_type": "markdown",
     "metadata": {},
     "source": [
      "## Data Interpolation\n",
      "\n",
      "In numerical analysis, interpolation is a method of constructing new data points within the range of a set of known data points.\n",
      "\n",
      "**Data interpolation is extremely common in most branches of science as a way to estimate data values at points at which data were not taken.**\n",
      "\n",
      "Interpolation should not be confused with **extrapolation**, in which the objective is to estimate values of data **outside** of the range the known data. "
     ]
    },
    {
     "cell_type": "markdown",
     "metadata": {},
     "source": [
      "---"
     ]
    },
    {
     "cell_type": "markdown",
     "metadata": {},
     "source": [
      "Relevant function and/or module: `scipy.interpolate`\n",
      "\n",
      "The documentation for this module is [here](http://docs.scipy.org/doc/scipy/reference/tutorial/interpolate.html). \n",
      "\n",
      "Also remember that you can execute the following in a Code cell to get more information:\n",
      "\n",
      "    import scipy.interpolate\n",
      "    help(scipy.interpolate)"
     ]
    },
    {
     "cell_type": "markdown",
     "metadata": {},
     "source": [
      "#### Example\n",
      "\n",
      "Values for $LC_{50}$  from Cell Killing Curve\n",
      "You have received the following table from the laboratory manager. From these data, you will need to calculate the $LC_{50}$ to include in the protocol for a long-term cell-culture study you are managing.\n",
      "\n",
      "Chemical concentration | Viable cells (%)\n",
      "-----------------------|-----------------\n",
      "0.675                  | 93.65\n",
      "1.35                   | 72.13\n",
      "5.4                    | 11.82\n",
      "10.8                   | 2.47\n",
      "21.6                   | 1.23\n",
      "\n",
      "\n",
      "\t\n",
      "$LC_{50}$: (lethal) concentration at which 50% of the cell population dies\n"
     ]
    },
    {
     "cell_type": "markdown",
     "metadata": {},
     "source": [
      "---"
     ]
    },
    {
     "cell_type": "markdown",
     "metadata": {},
     "source": [
      "##### Exercise\n",
      "\n",
      "Using matplotlib, make a plot of viable cells (y axis) vbersus chemical concentration (x axis)."
     ]
    },
    {
     "cell_type": "code",
     "collapsed": false,
     "input": [
      "import matplotlib.pyplot as plt\n",
      "data = np.array(\n",
      "                [ [0.675, 93.65],\n",
      "                  [1.35, 72.13],\n",
      "                  [5.4, 11.82],\n",
      "                  [10.8, 2.47],\n",
      "                  [21.6, 1.23]] \n",
      "                )\n",
      "plt.plot(data[:,0], data[:,1], 'ro')\n",
      "plt.xlabel('C')\n",
      "plt.ylabel('% viable')\n"
     ],
     "language": "python",
     "metadata": {},
     "outputs": [
      {
       "metadata": {},
       "output_type": "pyout",
       "prompt_number": 3,
       "text": [
        "<matplotlib.text.Text at 0x82b7be0>"
       ]
      },
      {
       "metadata": {},
       "output_type": "display_data",
       "png": "[encoded data removed]",
       "text": [
        "<matplotlib.figure.Figure at 0x811f4e0>"
       ]
      }
     ],
     "prompt_number": 3
    },
    {
     "cell_type": "markdown",
     "metadata": {},
     "source": [
      "---"
     ]
    },
    {
     "cell_type": "code",
     "collapsed": false,
     "input": [
      "import scipy.interpolate as spi\n",
      "\n",
      "data = np.array(\n",
      "                [ [0.675, 93.65],\n",
      "                  [1.35, 72.13],\n",
      "                  [5.4, 11.82],\n",
      "                  [10.8, 2.47],\n",
      "                  [21.6, 1.23]] \n",
      "                )\n",
      "conc = data[:, 0]\n",
      "viable = data[:, 1]\n",
      "\n",
      "# create the interpolating functions\n",
      "# we need one from x->y and one from y->x\n",
      "# to work properly, the 'x' variables have to be in increasing order\n",
      "f1 = spi.interp1d(conc, viable, kind='linear')\n",
      "f2 = spi.interp1d(viable[::-1], conc[::-1], kind='linear')\n",
      "\n",
      "conc_full = np.linspace(conc.min(), conc.max(), 100)\n",
      "viable_percent = 75.\n",
      "\n",
      "# use interpolation functions returned by `interp1d`\n",
      "viable_full = f1(conc_full)\n",
      "LD_percent = f2(viable_percent)   # use interpolation function returned by `interp1d`\n",
      "\n",
      "print LD_percent\n",
      "\n",
      "# plot the result to see if it makes sense\n",
      "fig, axes = plt.subplots()\n",
      "axes.plot(conc, viable, 'o')\n",
      "axes.plot(conc_full, viable_full, '-')\n",
      "axes.plot(LD_percent, viable_percent,'rs')\n",
      "axes.plot([0,LD_percent], [viable_percent,viable_percent], 'r--')\n",
      "axes.plot([LD_percent,LD_percent], [0,viable_percent], 'r--')\n",
      "axes.set_xlabel('Concentration')\n",
      "axes.set_ylabel('Percent viable')\n",
      "axes.set_title(r'Cell killing kinetics: $LD_{%s} = %.2f$' % \n",
      "               (100-viable_percent,LD_percent))"
     ],
     "language": "python",
     "metadata": {},
     "outputs": [
      {
       "output_type": "stream",
       "stream": "stdout",
       "text": [
        "1.25997908922\n"
       ]
      },
      {
       "metadata": {},
       "output_type": "pyout",
       "prompt_number": 4,
       "text": [
        "<matplotlib.text.Text at 0x87aa438>"
       ]
      },
      {
       "metadata": {},
       "output_type": "display_data",
       "png": "[encoded data removed]",
       "text": [
        "<matplotlib.figure.Figure at 0x8722470>"
       ]
      }
     ],
     "prompt_number": 4
    },
    {
     "cell_type": "markdown",
     "metadata": {},
     "source": [
      "##### Exercise\n",
      "\n",
      "Explain the above code to your partner.\n",
      "\n",
      "Using this code, determine the LD25 for the above data. What does LD25 mean in terms of percent viable cells?\n",
      "\n",
      "Change the data and rerun the analysis.\n",
      "\n",
      "Can you compute the LD5 for these data using the code and data above? Explain why or why not."
     ]
    },
    {
     "cell_type": "markdown",
     "metadata": {},
     "source": [
      "---"
     ]
    },
    {
     "cell_type": "markdown",
     "metadata": {},
     "source": [
      "## Basic Data Statistics\n",
      "\n",
      "Statistics and statistical testing is a critical part of the collection, organization, analysis, interpretation, and presentation of scientific data."
     ]
    },
    {
     "cell_type": "markdown",
     "metadata": {},
     "source": [
      "---"
     ]
    },
    {
     "cell_type": "markdown",
     "metadata": {},
     "source": [
      "Relevant function and/or module: `scipy.stats`\n",
      "\n",
      "This module contains a large number of probability distributions and a growing library of statistical functions.\n",
      "\n",
      "The documentation for this module is [here](http://docs.scipy.org/doc/scipy/reference/tutorial/stats.html). \n",
      "\n",
      "Also remember that you can execute the following in a Code cell to get more information:\n",
      "\n",
      "    import scipy.stats\n",
      "    help(scipy.stats)"
     ]
    },
    {
     "cell_type": "markdown",
     "metadata": {},
     "source": [
      "The subject of statistical analysis of data is vast. Aside from `scipy.stats`, there are a number of Python packages in this area, including [Statsmodels](http://statsmodels.sourceforge.net/), [pandas](http://pandas.pydata.org/) and [stats](https://pypi.python.org/pypi/stats/0.1.2a).\n",
      "\n",
      "Here, we simply present a couple of functions in the `scipy.stats` module and refer the reader to packages cited above."
     ]
    },
    {
     "cell_type": "code",
     "collapsed": false,
     "input": [
      "import scipy.stats as sps"
     ],
     "language": "python",
     "metadata": {},
     "outputs": [],
     "prompt_number": 5
    },
    {
     "cell_type": "markdown",
     "metadata": {},
     "source": [
      "**T tests**"
     ]
    },
    {
     "cell_type": "code",
     "collapsed": false,
     "input": [
      "a = numpy.random.normal(0, 1, size=100)\n",
      "b = numpy.random.normal(1, 1, size=10)\n",
      "sps.ttest_ind(a, b) "
     ],
     "language": "python",
     "metadata": {},
     "outputs": [
      {
       "metadata": {},
       "output_type": "pyout",
       "prompt_number": 6,
       "text": [
        "(array(-2.0649520192632984), 0.041322271188191789)"
       ]
      }
     ],
     "prompt_number": 6
    },
    {
     "cell_type": "markdown",
     "metadata": {},
     "source": [
      "**Statistical distributions**\n",
      "\n",
      "The `scipy.stats` module contains many continuous and discrete statistical distributions.\n",
      "\n",
      "Each distribution supports several functions. The density and cumulative distribution functions are `pdf` and `cdf` respectively. (Discrete distributions use `pmf` rather than `pdf`.) One surprise here is that the inverse cdf function is called `ppf` for *percentage point function*."
     ]
    },
    {
     "cell_type": "code",
     "collapsed": false,
     "input": [
      "norm_dist = sps.norm(loc=3.5, scale=2.0)\n",
      "# Then to draw a random number from this distribution we can execute:\n",
      "norm_dist.rvs()"
     ],
     "language": "python",
     "metadata": {},
     "outputs": [
      {
       "metadata": {},
       "output_type": "pyout",
       "prompt_number": 7,
       "text": [
        "1.8362035708915663"
       ]
      }
     ],
     "prompt_number": 7
    },
    {
     "cell_type": "markdown",
     "metadata": {},
     "source": [
      "---"
     ]
    },
    {
     "cell_type": "markdown",
     "metadata": {},
     "source": [
      "## Numerical Integration\n",
      "\n",
      "Integrals arise in a multitude of scientific disciplines. \n",
      "\n",
      "One can *solve* integrals either develop closed-form solutions through analytical means or estimate the value of the integral using numerical analysis. This latter approach is used in SciPy. "
     ]
    },
    {
     "cell_type": "markdown",
     "metadata": {},
     "source": [
      "---"
     ]
    },
    {
     "cell_type": "markdown",
     "metadata": {},
     "source": [
      "Relevant function and/or module: `scipy.integrate`\n",
      "\n",
      "The documentation for this module is [here](http://docs.scipy.org/doc/scipy/reference/tutorial/integrate.html). \n",
      "\n",
      "Also remember that you can execute the following in a Code cell to get more information:\n",
      "\n",
      "    import scipy.integrate\n",
      "    help(scipy.integrate)"
     ]
    },
    {
     "cell_type": "markdown",
     "metadata": {},
     "source": [
      "Useful functions in this modules are as follows:\n",
      "\n",
      "**Methods for integrating functions given function object (an analytical function):**\n",
      "\n",
      "* quad          -- General purpose integration\n",
      "* dblquad       -- General purpose double integration\n",
      "* quadrature    -- Integrate with given tolerance using Gaussian quadrature\n",
      "* romberg       -- Integrate func using Romberg integration\n",
      "\n",
      "**Methods for integrating functions given fixed samples (numbers):**\n",
      "\n",
      "* trapz         -- Use trapezoidal rule to compute integral from samples\n",
      "* cumtrapz      -- Use trapezoidal rule to cumulatively compute integral\n",
      "* simps         -- Use Simpson's rule to compute integral from samples\n"
     ]
    },
    {
     "cell_type": "code",
     "collapsed": false,
     "input": [
      "import scipy.integrate as spg"
     ],
     "language": "python",
     "metadata": {},
     "outputs": [],
     "prompt_number": 8
    },
    {
     "cell_type": "markdown",
     "metadata": {},
     "source": [
      "#### Example\n",
      "\n",
      "Find the area under the curve (AUC) for pharmacokinetic data.\n",
      "\n",
      "Let's load the data into a NumPy array and plot it using matplotlib:\n",
      "\n",
      "We also know that the concentration can be approximated by the following function:\n",
      "\n",
      "$$C\\left( t \\right) = {C_0}{e^{ - k_{e} t}}$$\n",
      "\n",
      "where $C_{0} = 950$ and $k_{e}=0.45$."
     ]
    },
    {
     "cell_type": "markdown",
     "metadata": {},
     "source": [
      "---"
     ]
    },
    {
     "cell_type": "markdown",
     "metadata": {},
     "source": [
      "##### Exercise\n",
      "\n",
      "Using matplotlib (and perhaps some numpy functions), make a plot of concentration, $C(t)$, versus time, $t$, for $0 \\le t \\le 25$."
     ]
    },
    {
     "cell_type": "code",
     "collapsed": false,
     "input": [
      "t_model = np.linspace(0, 25, 100)\n",
      "C_model = 950*np.exp(-0.45*t_model)\n",
      "plt.plot(t_model, C_model)"
     ],
     "language": "python",
     "metadata": {},
     "outputs": [
      {
       "metadata": {},
       "output_type": "pyout",
       "prompt_number": 9,
       "text": [
        "[<matplotlib.lines.Line2D at 0xe368710>]"
       ]
      },
      {
       "metadata": {},
       "output_type": "display_data",
       "png": "[encoded data removed]",
       "text": [
        "<matplotlib.figure.Figure at 0xe346320>"
       ]
      }
     ],
     "prompt_number": 9
    },
    {
     "cell_type": "markdown",
     "metadata": {},
     "source": [
      "---"
     ]
    },
    {
     "cell_type": "code",
     "collapsed": false,
     "input": [
      "# PK data\n",
      "PK_data_file = './data/PK_IV_data.csv'\n",
      "PK_data = np.loadtxt(PK_data_file, delimiter=',', skiprows=1)\n",
      "t = PK_data[:,0]\n",
      "conc = PK_data[:,1]\n",
      "print PK_data"
     ],
     "language": "python",
     "metadata": {},
     "outputs": [
      {
       "output_type": "stream",
       "stream": "stdout",
       "text": [
        "[[  0.00000000e+00   0.00000000e+00]\n",
        " [  3.30000000e-02   8.74330000e+02]\n",
        " [  1.67000000e-01   8.36000000e+02]\n",
        " [  3.30000000e-01   6.64000000e+02]\n",
        " [  6.70000000e-01   6.40670000e+02]\n",
        " [  1.00000000e+00   5.51000000e+02]\n",
        " [  2.00000000e+00   3.77670000e+02]\n",
        " [  4.00000000e+00   1.10800000e+02]\n",
        " [  6.00000000e+00   6.22700000e+01]\n",
        " [  8.00000000e+00   4.85300000e+01]\n",
        " [  1.20000000e+01   2.64700000e+01]\n",
        " [  2.40000000e+01   9.16000000e+00]]\n"
       ]
      }
     ],
     "prompt_number": 10
    },
    {
     "cell_type": "code",
     "collapsed": false,
     "input": [
      "# PK model\n",
      "def PK_model(t, C0, ke):\n",
      "    C = C0*exp(-ke*t)\n",
      "    return C\n",
      "\n",
      "C0, ke = 950, 0.45\n",
      "\n",
      "t_model = np.linspace(t.min(), t.max(), 100)\n",
      "# loop through the time values, appending the computed\n",
      "# concentration to a list\n",
      "C_model = []\n",
      "for tm in t_model:\n",
      "    C_model.append(PK_model(tm, C0, ke))"
     ],
     "language": "python",
     "metadata": {},
     "outputs": [],
     "prompt_number": 11
    },
    {
     "cell_type": "code",
     "collapsed": false,
     "input": [
      "fig_PK, axes_PK = plt.subplots()\n",
      "axes_PK.plot(t, conc, 'ob')\n",
      "axes_PK.plot(t_model, C_model, 'r-')"
     ],
     "language": "python",
     "metadata": {},
     "outputs": [
      {
       "metadata": {},
       "output_type": "pyout",
       "prompt_number": 12,
       "text": [
        "[<matplotlib.lines.Line2D at 0xe582b00>]"
       ]
      },
      {
       "metadata": {},
       "output_type": "display_data",
       "png": "[encoded data removed]",
       "text": [
        "<matplotlib.figure.Figure at 0x80388d0>"
       ]
      }
     ],
     "prompt_number": 12
    },
    {
     "cell_type": "markdown",
     "metadata": {},
     "source": [
      "Let's compute the AUC using the data:"
     ]
    },
    {
     "cell_type": "code",
     "collapsed": false,
     "input": [
      "AUC_data = spg.trapz(conc, t)\n",
      "AUC_data"
     ],
     "language": "python",
     "metadata": {},
     "outputs": [
      {
       "metadata": {},
       "output_type": "pyout",
       "prompt_number": 13,
       "text": [
        "2270.1430049999999"
       ]
      }
     ],
     "prompt_number": 13
    },
    {
     "cell_type": "markdown",
     "metadata": {},
     "source": [
      "For comparison, let's compute the AUC using the model equation, integrated from $t=0$ to $t=25$:"
     ]
    },
    {
     "cell_type": "code",
     "collapsed": false,
     "input": [
      "AUC_model = spg.quad(PK_model, 0, 25, args=(C0, ke))\n",
      "AUC_model"
     ],
     "language": "python",
     "metadata": {},
     "outputs": [
      {
       "metadata": {},
       "output_type": "pyout",
       "prompt_number": 14,
       "text": [
        "(2111.0836512605088, 1.0507816147420452e-09)"
       ]
      }
     ],
     "prompt_number": 14
    },
    {
     "cell_type": "markdown",
     "metadata": {},
     "source": [
      "---"
     ]
    },
    {
     "cell_type": "markdown",
     "metadata": {},
     "source": [
      "##### Exercise\n",
      "\n",
      "1. With your partner, create a set of simulated x/y data. It would be desirable if you created a csv file and loaded the data into the notebook.\n",
      "2. Make a scatter plot of these data using matplotlib. \n",
      "3. By examining the plot, make a rough, 'by-hand' estimate of the area under the curve. \n",
      "4. Use `trapz` to integrate your x/y data, and compare your estimate to this value.\n",
      "\n",
      "Record the steps in your analysis in the cells below."
     ]
    },
    {
     "cell_type": "code",
     "collapsed": false,
     "input": [],
     "language": "python",
     "metadata": {},
     "outputs": [],
     "prompt_number": 14
    },
    {
     "cell_type": "markdown",
     "metadata": {},
     "source": [
      "---"
     ]
    },
    {
     "cell_type": "markdown",
     "metadata": {},
     "source": [
      "##### Exercise\n",
      "\n",
      "Experiment on your own data set using the above functions.\n",
      "\n",
      "Try to import your data into a numpy array, extract columns or rows, interpolate, and numerically integrate the data."
     ]
    },
    {
     "cell_type": "markdown",
     "metadata": {},
     "source": [
      "---"
     ]
    },
    {
     "cell_type": "markdown",
     "metadata": {},
     "source": [
      "### Another interpolation example\n",
      "\n",
      "Suppose that we have the PK data shown earlier, but we would like to have an estimate of the concentrations at several time points at which the concentration wasn't measured.\n",
      "\n",
      "Assume that these *missing* times of interest are $t = [2, 10, 20]$.\n",
      "\n"
     ]
    },
    {
     "cell_type": "markdown",
     "metadata": {},
     "source": [
      "Here is a plot of the data:"
     ]
    },
    {
     "cell_type": "code",
     "collapsed": false,
     "input": [
      "plt.plot(t, conc, 'bo')"
     ],
     "language": "python",
     "metadata": {},
     "outputs": [
      {
       "metadata": {},
       "output_type": "pyout",
       "prompt_number": 15,
       "text": [
        "[<matplotlib.lines.Line2D at 0xe5af780>]"
       ]
      },
      {
       "metadata": {},
       "output_type": "display_data",
       "png": "[encoded data removed]",
       "text": [
        "<matplotlib.figure.Figure at 0xe356f28>"
       ]
      }
     ],
     "prompt_number": 15
    },
    {
     "cell_type": "markdown",
     "metadata": {},
     "source": [
      "Let's interpolate to find the missing values:"
     ]
    },
    {
     "cell_type": "code",
     "collapsed": false,
     "input": [
      "f_dat = spi.interp1d(t, conc)\n",
      "t_missing = [2, 10, 20]\n",
      "C_missing = f_dat(t_missing)\n",
      "print C_missing"
     ],
     "language": "python",
     "metadata": {},
     "outputs": [
      {
       "output_type": "stream",
       "stream": "stdout",
       "text": [
        "[ 377.67   37.5    14.93]\n"
       ]
      }
     ],
     "prompt_number": 16
    },
    {
     "cell_type": "markdown",
     "metadata": {},
     "source": [
      "Finally, let's add the interpolated points to our graph:"
     ]
    },
    {
     "cell_type": "code",
     "collapsed": false,
     "input": [
      "plt.plot(t, conc, 'bo--')\n",
      "plt.plot(t_missing, C_missing,'rs')\n"
     ],
     "language": "python",
     "metadata": {},
     "outputs": [
      {
       "metadata": {},
       "output_type": "pyout",
       "prompt_number": 17,
       "text": [
        "[<matplotlib.lines.Line2D at 0xe5bc9e8>]"
       ]
      },
      {
       "metadata": {},
       "output_type": "display_data",
       "png": "[encoded data removed]",
       "text": [
        "<matplotlib.figure.Figure at 0xe5bcf60>"
       ]
      }
     ],
     "prompt_number": 17
    },
    {
     "cell_type": "code",
     "collapsed": false,
     "input": [],
     "language": "python",
     "metadata": {},
     "outputs": [],
     "prompt_number": 17
    }
   ],
   "metadata": {}
  }
 ]
}