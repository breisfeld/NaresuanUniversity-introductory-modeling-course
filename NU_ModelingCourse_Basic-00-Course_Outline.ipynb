{
 "metadata": {
  "name": ""
 },
 "nbformat": 3,
 "nbformat_minor": 0,
 "worksheets": [
  {
   "cells": [
    {
     "cell_type": "markdown",
     "metadata": {},
     "source": [
      "![Naresuan University logo](files/graphics/nu_logo.png)"
     ]
    },
    {
     "cell_type": "markdown",
     "metadata": {
      "module": {
       "author": "Brad Reisfeld",
       "author_email": "brad.reisfeld@colostate.edu",
       "notebook_title": "Course Outline"
      }
     },
     "source": [
      "# Introduction to Mathematical and Computational Modeling"
     ]
    },
    {
     "cell_type": "markdown",
     "metadata": {},
     "source": [
      "## Principal Instructor\n",
      "\n",
      "`\n",
      "Brad Reisfeld, Ph.D.\n",
      "Visiting Professor\n",
      "Faculty of Pharmaceutical Sciences \n",
      "Naresuan University\n",
      "Phitsanulok 65000\n",
      "THAILAND\n",
      "email: brad.reisfeld@colostate.edu\n",
      "office telephone: 66-5596-1803\n",
      "` "
     ]
    },
    {
     "cell_type": "markdown",
     "metadata": {},
     "source": [
      "## Course Topics\n",
      "\n",
      "* Modeling examples and reasons for modeling\n",
      "* Modeling fundamentals\n",
      "* Constructing models\n",
      "\n",
      "* Implementing and solving model equations in software:\n",
      "  * Python\n",
      "  * IPython notebook\n",
      "  * matplotlib\n",
      "  * NumPy\n",
      "  * SciPy\n",
      "  * pandas\n",
      "  * Spyder \n",
      "\n",
      "* Modeling and programming 'best practices'\n",
      "\n",
      "* Application examples"
     ]
    },
    {
     "cell_type": "markdown",
     "metadata": {},
     "source": [
      "## Course Scope\n",
      "\n",
      "* This course **will** introduce a basic modeling methodology and introduce tools useful in computational (numerical) implementation of models. \n",
      "* Model development is discipline and problem specific. Therefore, this course **will not** cover the development of models for specific applications that may be of interest to course participants.\n",
      "* The course **will not** cover advanced techniques, but should enable course participants to explore these topics on their own."
     ]
    },
    {
     "cell_type": "markdown",
     "metadata": {},
     "source": [
      "## Course Format\n",
      "\n",
      "* Duration: two sessions per week for four weeks, approximately two hours per session\n",
      "* Delivery: short lectures, tutorials, hands-on exercises\n",
      "* For at least some of the programming exercises, students will work in pairs. In these cases, it is desirable that each person in a 'programming pair' be from a different department or research group."
     ]
    },
    {
     "cell_type": "markdown",
     "metadata": {},
     "source": [
      "## Course Learning Objectives\n",
      "\n",
      "Students successfully completing this course will be able to...\n",
      "\n",
      "* list and explain essential concepts associated with mathematical and computational modeling;\n",
      "* develop a basic mathematical/computational model for a simple system;\n",
      "\n",
      "* list some advantages and disadvantages of the iPython notebook compared to other means of recording modeling- and computational-related activities;\n",
      "* create an IPython notebook embodying several important features, including headers, Python code, and plots;\n",
      "\n",
      "* list important characteristics of the Python programming language;\n",
      "\n",
      "* write Python code embodying the following: numerical calculations, variables, loops, logical statements, functions, library modules;\n",
      "\n",
      "* describe the basic functionality and usage of the Python packages matplotlib, NumPy, SciPy, and pandas;\n",
      "\n",
      "* use Python and associated packages for basic data analysis, plotting, and mathematical modeling;\n",
      "\n",
      "* use the interactive development environment, Spyder, as part of a workflow for data analysis and modeling;\n",
      "\n",
      "* explain the basics of reproducible research related to computer-based modeling; and\n",
      "\n",
      "* conduct simple modeling exercises and/or data analysis tasks using the IPython notebook."
     ]
    },
    {
     "cell_type": "markdown",
     "metadata": {},
     "source": [
      "## Participation\n",
      "\n",
      "To achieve the learning objectives, students must participate in an active manner (for example, working through examples and exercises). Questions and interactive discussions are highly encouraged."
     ]
    },
    {
     "cell_type": "markdown",
     "metadata": {},
     "source": [
      "## Tentative Course Sequence\n",
      "\n",
      "**Session 1:**\n",
      "\n",
      "* Student introductions (names, backgrounds, interests)\n",
      "* Course syllabus and plan\n",
      "* IPython notebook - part 1\n",
      "* Modeling fundamentals\n",
      "* Modeling examples\n",
      "\n",
      "**Session 2:**\n",
      "\n",
      "* IPython notebook - part 2\n",
      "* Python - part 1\n",
      "\n",
      "**Session 3:**\n",
      "\n",
      "* Python - part 2\n",
      "* matplotlib\n",
      "\n",
      "**Session 4:**\n",
      "\n",
      "* NumPy\n",
      "* SciPy - part 1\n",
      "\n",
      "**Session 5:**\n",
      "\n",
      "* SciPy - part 2\n",
      "\n",
      "**Session 6:**\n",
      "\n",
      "* pandas: Python data analysis library\n",
      "* Spyder: Python interactive development environment\n",
      "\n",
      "**Session 7:**\n",
      "\n",
      "* Modeling and programming *best practices*\n",
      "* Application examples and exercises\n",
      "\n",
      "**Session 8:**\n",
      "\n",
      "* Application examples and exercises"
     ]
    },
    {
     "cell_type": "markdown",
     "metadata": {},
     "source": [
      "## Software\n",
      "\n",
      "The following software will be available in a ready-to-run format that can be copied to a flash drive:\n",
      "\n",
      "* Python\n",
      "* IPython\n",
      "* NumPy, SciPy, matplotlib, pandas\n",
      "* optional: revision control software: git or hg"
     ]
    },
    {
     "cell_type": "markdown",
     "metadata": {},
     "source": [
      "---"
     ]
    },
    {
     "cell_type": "markdown",
     "metadata": {},
     "source": [
      "## Feedback\n",
      "\n",
      "The instructor greatly appreciates corrections, constructive comments, and suggestions for course improvements!"
     ]
    },
    {
     "cell_type": "markdown",
     "metadata": {},
     "source": [
      "---"
     ]
    },
    {
     "cell_type": "markdown",
     "metadata": {},
     "source": [
      "## Introductions and Student Poll\n",
      "\n",
      "* Meet the instructor and learn about his background and qualifications\n",
      "\n",
      "**For each student, please answer the following on a piece of paper and submit to the instructor:**\n",
      "\n",
      "* What is your name?\n",
      "* In what department do you work?\n",
      "* What is your research area?\n",
      "* Do you have any previous experience in modeling?\n",
      "* Do you have any previous experience in using scientific software?\n",
      "* Do you have any previous experience computer programming? What language(s)? (MATLAB, Mathematica, Fortran, C, etc.)?\n"
     ]
    }
   ],
   "metadata": {}
  }
 ]
}