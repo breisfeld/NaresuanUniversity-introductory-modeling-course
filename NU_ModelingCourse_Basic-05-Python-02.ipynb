{
 "metadata": {
  "name": ""
 },
 "nbformat": 3,
 "nbformat_minor": 0,
 "worksheets": [
  {
   "cells": [
    {
     "cell_type": "markdown",
     "metadata": {},
     "source": [
      "![Naresuan University logo](files/graphics/nu_logo.png)"
     ]
    },
    {
     "cell_type": "markdown",
     "metadata": {
      "module": {
       "author": "Brad Reisfeld",
       "author_email": "brad.reisfeld@colostate.edu",
       "notebook_title": "Python"
      }
     },
     "source": [
      "# Python - part 2"
     ]
    },
    {
     "cell_type": "markdown",
     "metadata": {},
     "source": [
      "## Major Topics\n",
      "\n",
      "* Python program structure\n",
      "* Loops\n",
      "* Flow control and logic\n",
      "* Functions\n",
      "* Modules and packages\n",
      "* Getting help with functions in the IPython notebook\n"
     ]
    },
    {
     "cell_type": "markdown",
     "metadata": {},
     "source": [
      "## Learning Objectives\n",
      "\n",
      "Students successfully completing this session will be able to...\n",
      "\n",
      "* write Python code embodying the following: loops, logical statements, functions\n",
      "* explain how functions in Python modules and packages are used\n",
      "* find help related to, and call, a function in a Python library module or package"
     ]
    },
    {
     "cell_type": "markdown",
     "metadata": {},
     "source": [
      "---"
     ]
    },
    {
     "cell_type": "markdown",
     "metadata": {},
     "source": [
      "## Python Program Structure\n",
      "\n",
      "It is important to note that **indentation has meaning in Python**. It is common to have each level of indent be four (4) spaces. The IPython notebook should take care of that for you.\n",
      "\n",
      "The colon is also important in various Python code structures (`for loops`, `if blocks`).\n",
      "\n",
      "If the indentation is incorrect, your programs won't run or, worse, thy will give you the wrong answer.\n",
      "\n",
      "Here is an example of a Python function, illustrating indentation and colons:\n",
      "\n",
      "    def obj_func(xs, grad=None):\n",
      "        \"\"\"Compute a norm of the difference between the model simulation \n",
      "        and the data.\n",
      "        \"\"\"\n",
      "        global _iters\n",
      "        norm = 0\n",
      "        concs = solver(pbpk_model, xs)[2]\n",
      "        for c in opt_data_names:\n",
      "            t,expt,mask = data_dict[c]\n",
      "            sim = concs[:,cdict[c]][mask]\n",
      "            norm += np.sum((expt-sim)**2)\n",
      "        if print_iters:\n",
      "            _iters += 1\n",
      "            etime = time.clock()-_time0\n",
      "            xs_str = ','.join(['%7.3f' % x for x in xs])\n",
      "            print '%04d | %5.1f | (%s) | %6.1f' % \n",
      "                   (_iters, etime, xs_str, norm)\n",
      "        if iter_file:\n",
      "            ptxt = ','.join([str(x) % x for x in xs] + [str(norm)])\n",
      "            ofh.write(ptxt + '\\n')\n",
      "        return norm\n",
      "\n"
     ]
    },
    {
     "cell_type": "markdown",
     "metadata": {},
     "source": [
      "## Basic Syntax"
     ]
    },
    {
     "cell_type": "markdown",
     "metadata": {},
     "source": [
      "### Loops"
     ]
    },
    {
     "cell_type": "markdown",
     "metadata": {},
     "source": [
      "A loop is a way of going through a list of items one by one.\n",
      "\n",
      "In Python we use the `for` structure to construct a loop.\n",
      "\n",
      "Here is an example."
     ]
    },
    {
     "cell_type": "code",
     "collapsed": false,
     "input": [
      "for durian in [0, 'stinky', 1000.0, 3.1415]:\n",
      "    j = 2*durian\n",
      "    print j"
     ],
     "language": "python",
     "metadata": {},
     "outputs": [
      {
       "output_type": "stream",
       "stream": "stdout",
       "text": [
        "0\n",
        "stinkystinky\n",
        "2000.0\n",
        "6.283\n"
       ]
      }
     ],
     "prompt_number": 18
    },
    {
     "cell_type": "markdown",
     "metadata": {},
     "source": [
      "Note that we added a colon on the `for` line and indented the *body* of the loop. \n",
      "\n",
      "Also note that multiplication (`*`) can also work on text."
     ]
    },
    {
     "cell_type": "markdown",
     "metadata": {},
     "source": [
      "A useful shortcut for creating a list of numbers is the `range` function:"
     ]
    },
    {
     "cell_type": "code",
     "collapsed": false,
     "input": [
      "x1 = range(7)\n",
      "print x1\n",
      "\n",
      "x2 = range(3,20)\n",
      "print x2"
     ],
     "language": "python",
     "metadata": {},
     "outputs": [
      {
       "output_type": "stream",
       "stream": "stdout",
       "text": [
        "[0, 1, 2, 3, 4, 5, 6]\n",
        "[3, 4, 5, 6, 7, 8, 9, 10, 11, 12, 13, 14, 15, 16, 17, 18, 19]\n"
       ]
      }
     ],
     "prompt_number": 19
    },
    {
     "cell_type": "markdown",
     "metadata": {},
     "source": [
      "Notice that `range` produces a list of numbers that ends at one less than the value we give it. This has some advantages that we may see later.\n",
      "\n",
      "We can loop through these numbers like this:"
     ]
    },
    {
     "cell_type": "code",
     "collapsed": false,
     "input": [
      "for counter in range(-2, 10):\n",
      "    print counter"
     ],
     "language": "python",
     "metadata": {},
     "outputs": [
      {
       "output_type": "stream",
       "stream": "stdout",
       "text": [
        "-2\n",
        "-1\n",
        "0\n",
        "1\n",
        "2\n",
        "3\n",
        "4\n",
        "5\n",
        "6\n",
        "7\n",
        "8\n",
        "9\n"
       ]
      }
     ],
     "prompt_number": 20
    },
    {
     "cell_type": "markdown",
     "metadata": {},
     "source": [
      "### Flow control and logic"
     ]
    },
    {
     "cell_type": "code",
     "collapsed": false,
     "input": [
      "1 > 2"
     ],
     "language": "python",
     "metadata": {},
     "outputs": [
      {
       "metadata": {},
       "output_type": "pyout",
       "prompt_number": 21,
       "text": [
        "False"
       ]
      }
     ],
     "prompt_number": 21
    },
    {
     "cell_type": "markdown",
     "metadata": {},
     "source": [
      "We can control the flow of information through a program by using `if statements` and logical (``True` or `False`) conditions.\n",
      "\n",
      "The general structure of an `if statement` is\n",
      "\n",
      "    if condition:\n",
      "        statements(s)\n",
      "    elif condition:\n",
      "        statements(s)\n",
      "    elif condition:\n",
      "        statements(s)\n",
      "    else:\n",
      "        statements(s)\n",
      "\n",
      "A `condition` is a test for something (e.g., Is x less than y? Is x == y?). A `condition` must evaluate to `True` or `False`.\n",
      "\n",
      "The colon (`:`) at the end of the `if`, `elif`, and `else` lines is required. \n",
      "\n",
      "`statements` are instructions to follow **if the `condition` is `True`**."
     ]
    },
    {
     "cell_type": "markdown",
     "metadata": {},
     "source": [
      "Let's first look at logical statements: `conditions` that will evaluate to `True` or `False`:"
     ]
    },
    {
     "cell_type": "code",
     "collapsed": false,
     "input": [
      "x = 1\n",
      "print x > 5   # is x greater than 5?\n",
      "print x == 3  # is x equal to 3?\n",
      "print x <=100 # is x less than or equal to 100?"
     ],
     "language": "python",
     "metadata": {},
     "outputs": [
      {
       "output_type": "stream",
       "stream": "stdout",
       "text": [
        "False\n",
        "False\n",
        "True\n"
       ]
      }
     ],
     "prompt_number": 23
    },
    {
     "cell_type": "markdown",
     "metadata": {},
     "source": [
      "Now that we know about conditions, let's see how an `if statement` works:"
     ]
    },
    {
     "cell_type": "code",
     "collapsed": false,
     "input": [
      "values = [1, 3, -10, -20, 13, 20, 110, -101]\n",
      "\n",
      "for val in values:\n",
      "    if val < 10:\n",
      "        print \"in the 'if':\", val\n",
      "    else:\n",
      "        print \"in the 'else':\", val**2\n"
     ],
     "language": "python",
     "metadata": {},
     "outputs": [
      {
       "output_type": "stream",
       "stream": "stdout",
       "text": [
        "in the 'if': 1\n",
        "in the 'if': 3\n",
        "in the 'if': -10\n",
        "in the 'if': -20\n",
        "in the 'else': 169\n",
        "in the 'else': 400\n",
        "in the 'else': 12100\n",
        "in the 'if': -101\n"
       ]
      }
     ],
     "prompt_number": 5
    },
    {
     "cell_type": "markdown",
     "metadata": {},
     "source": [
      "In general, the way we can control program flow and introduce some logical decisions into our programs is with an `if statement`. As part of this structure, we can have alternatives, `elif`, and `else`."
     ]
    },
    {
     "cell_type": "code",
     "collapsed": false,
     "input": [
      "values = [1000.0, 3.1415, -10, -20.38, 13.1, 20, 110, -101]\n",
      "\n",
      "for val in values:\n",
      "    if val < 10:\n",
      "        y = val\n",
      "        print 'val is less than 10'\n",
      "    elif 50 > val >= 10:\n",
      "        y = val**2\n",
      "        print 'val is between 10 and 50' \n",
      "    else:\n",
      "        y = val**3\n",
      "        print 'val is some other value'"
     ],
     "language": "python",
     "metadata": {},
     "outputs": [
      {
       "output_type": "stream",
       "stream": "stdout",
       "text": [
        "val is some other value\n",
        "val is less than 10\n",
        "val is less than 10\n",
        "val is less than 10\n",
        "val is between 10 and 50\n",
        "val is between 10 and 50\n",
        "val is some other value\n",
        "val is less than 10\n"
       ]
      }
     ],
     "prompt_number": 6
    },
    {
     "cell_type": "markdown",
     "metadata": {},
     "source": [
      "## Functions"
     ]
    },
    {
     "cell_type": "markdown",
     "metadata": {},
     "source": [
      "Well written functions take the following form:\n",
      "\n",
      "    def name_of_the_function(inputs):\n",
      "        \"\"\"A short description of what the function does.\n",
      "        \n",
      "        A longer description of the function, the inputs, the outputs, \n",
      "        and anything else that may be important.\n",
      "        \"\"\"\n",
      "        # performs some calculations on the inputs to produce the outputs\n",
      "        ...\n",
      "        return outputs\n",
      "        \n",
      "    \n",
      "The text in the triple quotes is called the **`docstring`** (http://www.python.org/dev/peps/pep-0257/).\n",
      "\n",
      "In general, a function must `return` something. \n",
      "    "
     ]
    },
    {
     "cell_type": "markdown",
     "metadata": {},
     "source": [
      "To use a function, we call it as follows:\n",
      "\n",
      "    my_outputs = name_of_the_function(my_inputs)"
     ]
    },
    {
     "cell_type": "code",
     "collapsed": false,
     "input": [
      "# here is a function that take two inputs arguments, and outputs the sum\n",
      "\n",
      "def add_values(x, y):\n",
      "    \"\"\"The sum of two numbers.\"\"\"\n",
      "    z = x + y\n",
      "    return z"
     ],
     "language": "python",
     "metadata": {},
     "outputs": [],
     "prompt_number": 24
    },
    {
     "cell_type": "code",
     "collapsed": false,
     "input": [
      "# here is how we call it\n",
      "\n",
      "sum1 = add_values(1.34, 2.34)\n",
      "print sum1"
     ],
     "language": "python",
     "metadata": {},
     "outputs": [
      {
       "output_type": "stream",
       "stream": "stdout",
       "text": [
        "3.68\n"
       ]
      }
     ],
     "prompt_number": 25
    },
    {
     "cell_type": "code",
     "collapsed": false,
     "input": [
      "# a function that takes three inputs and returns the product\n",
      "def multiply_values(x, y, z):\n",
      "    w = x*y*z\n",
      "    return w\n",
      "\n",
      "multiply_values(2,3,5.5)"
     ],
     "language": "python",
     "metadata": {},
     "outputs": [
      {
       "metadata": {},
       "output_type": "pyout",
       "prompt_number": 26,
       "text": [
        "33.0"
       ]
      }
     ],
     "prompt_number": 26
    },
    {
     "cell_type": "code",
     "collapsed": false,
     "input": [
      "# we can easily write functions that will return multiple outputs\n",
      "\n",
      "def add_and_subtract_values(x, y):\n",
      "    \"\"\"The sum and difference of two numbers.\n",
      "    \n",
      "    We can add a lot of other stuff here, but it isn't really\n",
      "    necessary for this simple function.\n",
      "    \n",
      "    lions, tigers, and bears\n",
      "    \"\"\"    \n",
      "    z1 = x + y\n",
      "    z2 = x - y\n",
      "    return z1, z2"
     ],
     "language": "python",
     "metadata": {},
     "outputs": [],
     "prompt_number": 30
    },
    {
     "cell_type": "code",
     "collapsed": false,
     "input": [
      "# we can call our function as follows:\n",
      "\n",
      "x1 = 4.5\n",
      "x2 = 3\n",
      "sum2, diff2 = add_and_subtract_values(x1, x2)\n",
      "\n",
      "print sum2, diff2"
     ],
     "language": "python",
     "metadata": {},
     "outputs": [
      {
       "output_type": "stream",
       "stream": "stdout",
       "text": [
        "7.5 1.5\n"
       ]
      }
     ],
     "prompt_number": 28
    },
    {
     "cell_type": "markdown",
     "metadata": {},
     "source": [
      "The docstrings for the above functions have been kept short so that we could focus on the function structure.\n",
      "\n",
      "For more details on recommended formatting of docstrings for scientific code, see the following:\n",
      "https://github.com/numpy/numpy/blob/master/doc/HOWTO_DOCUMENT.rst.txt#docstring-standard\n",
      "\n",
      "General details on recommended formatting of python code are in [PEP (Python Enhancement Proposal) 8](http://www.python.org/dev/peps/pep-0008/)."
     ]
    },
    {
     "cell_type": "markdown",
     "metadata": {},
     "source": [
      "Let's look at how to access the docstring"
     ]
    },
    {
     "cell_type": "code",
     "collapsed": false,
     "input": [
      "help(add_and_subtract_values)"
     ],
     "language": "python",
     "metadata": {},
     "outputs": [
      {
       "output_type": "stream",
       "stream": "stdout",
       "text": [
        "Help on function add_and_subtract_values in module __main__:\n",
        "\n",
        "add_and_subtract_values(x, y)\n",
        "    The sum and difference of two numbers.\n",
        "    \n",
        "    We can add a lot of other stuff here, but it isn't really\n",
        "    necessary for this simple function.\n",
        "    \n",
        "    lions, tigers, and bears\n",
        "\n"
       ]
      }
     ],
     "prompt_number": 31
    },
    {
     "cell_type": "code",
     "collapsed": false,
     "input": [
      "sqrt(4)"
     ],
     "language": "python",
     "metadata": {},
     "outputs": [
      {
       "metadata": {},
       "output_type": "pyout",
       "prompt_number": 32,
       "text": [
        "2.0"
       ]
      }
     ],
     "prompt_number": 32
    },
    {
     "cell_type": "markdown",
     "metadata": {},
     "source": [
      "##### Exercise:\n",
      "\n",
      "Write a function that solves the quadratic equation $a \\cdot {x^2} + b \\cdot x + c = 0$ for $x$, given the coefficients $a$, $b$, and $c$. Let's use the quadratic formula:\n",
      "\n",
      "$$x = \\frac{{ - b \\pm \\sqrt {{b^2} - 4 \\cdot a \\cdot c} }}{{2 \\cdot a}}$$\n",
      "\n",
      "Write a function that takes three inputs, $a$, $b$, and $c$, and produces the two solutions of the quadratic equation as outputs.\n",
      "\n",
      "Don't forget to include a docstring. \n",
      "\n",
      "Try out your function and also use `help` to look at your docstring.\n",
      "\n",
      "How would you test your function to make sure it works and gives the correct answer(s)?"
     ]
    },
    {
     "cell_type": "code",
     "collapsed": false,
     "input": [],
     "language": "python",
     "metadata": {},
     "outputs": [],
     "prompt_number": 46
    },
    {
     "cell_type": "markdown",
     "metadata": {},
     "source": [
      "\n",
      "## Modules and Packages\n",
      "\n",
      "Python modules and packages are *collections* of related functions.\n",
      "\n",
      "There are thousands of free modules that have been written for Python in numerous scientific and non-scientific applications. Many of these packages are included with Python itself in [The Python Standard Library](http://docs.python.org/2/library/).\n",
      "\n",
      "Many, many others can be found in the [Python Package Index](https://pypi.python.org/pypi). As of July 2013, there are 32,655 packages available from this site.\n",
      "\n",
      "Of particular interest may be the packages `rpy` ans `rpy2`, which allow direct interfacing with the [R statistical software](http://www.r-project.org/) and its [extensive packages](http://mirrors.psu.ac.th/pub/cran/). \n",
      "\n",
      "Modules allow us to collect and organize related functions into a single file and reuse them whenever we need this functionality. We will often call this a **module**, **function library**, or **package**.\n",
      "\n",
      "For instance, in the area of pharmacology, we could create a module called `pharmacokinetics` that would contain a number of useful functions to compute properties like\n",
      "\n",
      "* area under the curve\n",
      "* $C_{max}$\n",
      "* half life\n",
      "* clearance\n",
      "* bioavailability\n",
      "\n",
      "As another example, in the area of pollutant transport in the environment, we might create a module name `pollutant_transport` with functions to compute properties such as\n",
      "\n",
      "* concentration\n",
      "* dispersal rate\n",
      "* flux\n",
      "* degradation rate\n",
      "* mobility\n",
      "\n",
      "After packages have been created **and thoroughly tested**, they can be shared with other people, saving those people the time and effort of having to create this functionality on their own. In many academic and industrial groups, such shared libraries can save many hundreds or thousands of hours of effort."
     ]
    },
    {
     "cell_type": "markdown",
     "metadata": {},
     "source": [
      "### Using Functions in Modules\n",
      "\n",
      "In Python, we store functions in logical packages or modules.\n",
      "    \n",
      "Python has many packages included with it.\n",
      "\n",
      "Included with your course software are other useful packages: NumPy, SciPy, matplotlib, and pandas.\n",
      "\n",
      "There are several ways to import and use functions. We'll use the `math` module, which is included with Python itself, as an example.\n",
      "\n",
      "---\n",
      "\n",
      "The most basic way is as follows:\n",
      "\n",
      "    import math\n",
      "    x = math.cos(1.212)\n",
      "\n",
      "---\n",
      "\n",
      "We can import a module and give it a *nickname*:\n",
      "\n",
      "    import math as mt\n",
      "    x = mt.cos(1.212)\n",
      "    \n",
      "This can save us some typing if the name of the module is long.\n",
      "\n",
      "Common nickname (or *alias*) imports used in this course are\n",
      "\n",
      "    import numpy as np\n",
      "    import scipy as sp\n",
      "    import matplotlib.pyplot as plt\n",
      "    import pandas as pq\n",
      "\n",
      "---\n",
      "\n",
      "Another way to import is to just select functions from a module:\n",
      "\n",
      "    from math import cos\n",
      "    x = cos(1.212)\n",
      "    \n",
      "---\n",
      "    "
     ]
    },
    {
     "cell_type": "code",
     "collapsed": false,
     "input": [
      "import math"
     ],
     "language": "python",
     "metadata": {},
     "outputs": [],
     "prompt_number": 1
    },
    {
     "cell_type": "code",
     "collapsed": false,
     "input": [
      "math.sin(1.2)"
     ],
     "language": "python",
     "metadata": {},
     "outputs": [
      {
       "metadata": {},
       "output_type": "pyout",
       "prompt_number": 2,
       "text": [
        "0.9320390859672263"
       ]
      }
     ],
     "prompt_number": 2
    },
    {
     "cell_type": "code",
     "collapsed": false,
     "input": [
      "help(math)"
     ],
     "language": "python",
     "metadata": {},
     "outputs": [
      {
       "output_type": "stream",
       "stream": "stdout",
       "text": [
        "Help on built-in module math:\n",
        "\n",
        "NAME\n",
        "    math\n",
        "\n",
        "FILE\n",
        "    (built-in)\n",
        "\n",
        "DESCRIPTION\n",
        "    This module is always available.  It provides access to the\n",
        "    mathematical functions defined by the C standard.\n",
        "\n",
        "FUNCTIONS\n",
        "    acos(...)\n",
        "        acos(x)\n",
        "        \n",
        "        Return the arc cosine (measured in radians) of x.\n",
        "    \n",
        "    acosh(...)\n",
        "        acosh(x)\n",
        "        \n",
        "        Return the hyperbolic arc cosine (measured in radians) of x.\n",
        "    \n",
        "    asin(...)\n",
        "        asin(x)\n",
        "        \n",
        "        Return the arc sine (measured in radians) of x.\n",
        "    \n",
        "    asinh(...)\n",
        "        asinh(x)\n",
        "        \n",
        "        Return the hyperbolic arc sine (measured in radians) of x.\n",
        "    \n",
        "    atan(...)\n",
        "        atan(x)\n",
        "        \n",
        "        Return the arc tangent (measured in radians) of x.\n",
        "    \n",
        "    atan2(...)\n",
        "        atan2(y, x)\n",
        "        \n",
        "        Return the arc tangent (measured in radians) of y/x.\n",
        "        Unlike atan(y/x), the signs of both x and y are considered.\n",
        "    \n",
        "    atanh(...)\n",
        "        atanh(x)\n",
        "        \n",
        "        Return the hyperbolic arc tangent (measured in radians) of x.\n",
        "    \n",
        "    ceil(...)\n",
        "        ceil(x)\n",
        "        \n",
        "        Return the ceiling of x as a float.\n",
        "        This is the smallest integral value >= x.\n",
        "    \n",
        "    copysign(...)\n",
        "        copysign(x, y)\n",
        "        \n",
        "        Return x with the sign of y.\n",
        "    \n",
        "    cos(...)\n",
        "        cos(x)\n",
        "        \n",
        "        Return the cosine of x (measured in radians).\n",
        "    \n",
        "    cosh(...)\n",
        "        cosh(x)\n",
        "        \n",
        "        Return the hyperbolic cosine of x.\n",
        "    \n",
        "    degrees(...)\n",
        "        degrees(x)\n",
        "        \n",
        "        Convert angle x from radians to degrees.\n",
        "    \n",
        "    erf(...)\n",
        "        erf(x)\n",
        "        \n",
        "        Error function at x.\n",
        "    \n",
        "    erfc(...)\n",
        "        erfc(x)\n",
        "        \n",
        "        Complementary error function at x.\n",
        "    \n",
        "    exp(...)\n",
        "        exp(x)\n",
        "        \n",
        "        Return e raised to the power of x.\n",
        "    \n",
        "    expm1(...)\n",
        "        expm1(x)\n",
        "        \n",
        "        Return exp(x)-1.\n",
        "        This function avoids the loss of precision involved in the direct evaluation of exp(x)-1 for small x.\n",
        "    \n",
        "    fabs(...)\n",
        "        fabs(x)\n",
        "        \n",
        "        Return the absolute value of the float x.\n",
        "    \n",
        "    factorial(...)\n",
        "        factorial(x) -> Integral\n",
        "        \n",
        "        Find x!. Raise a ValueError if x is negative or non-integral.\n",
        "    \n",
        "    floor(...)\n",
        "        floor(x)\n",
        "        \n",
        "        Return the floor of x as a float.\n",
        "        This is the largest integral value <= x.\n",
        "    \n",
        "    fmod(...)\n",
        "        fmod(x, y)\n",
        "        \n",
        "        Return fmod(x, y), according to platform C.  x % y may differ.\n",
        "    \n",
        "    frexp(...)\n",
        "        frexp(x)\n",
        "        \n",
        "        Return the mantissa and exponent of x, as pair (m, e).\n",
        "        m is a float and e is an int, such that x = m * 2.**e.\n",
        "        If x is 0, m and e are both 0.  Else 0.5 <= abs(m) < 1.0.\n",
        "    \n",
        "    fsum(...)\n",
        "        fsum(iterable)\n",
        "        \n",
        "        Return an accurate floating point sum of values in the iterable.\n",
        "        Assumes IEEE-754 floating point arithmetic.\n",
        "    \n",
        "    gamma(...)\n",
        "        gamma(x)\n",
        "        \n",
        "        Gamma function at x.\n",
        "    \n",
        "    hypot(...)\n",
        "        hypot(x, y)\n",
        "        \n",
        "        Return the Euclidean distance, sqrt(x*x + y*y).\n",
        "    \n",
        "    isinf(...)\n",
        "        isinf(x) -> bool\n",
        "        \n",
        "        Check if float x is infinite (positive or negative).\n",
        "    \n",
        "    isnan(...)\n",
        "        isnan(x) -> bool\n",
        "        \n",
        "        Check if float x is not a number (NaN).\n",
        "    \n",
        "    ldexp(...)\n",
        "        ldexp(x, i)\n",
        "        \n",
        "        Return x * (2**i).\n",
        "    \n",
        "    lgamma(...)\n",
        "        lgamma(x)\n",
        "        \n",
        "        Natural logarithm of absolute value of Gamma function at x.\n",
        "    \n",
        "    log(...)\n",
        "        log(x[, base])\n",
        "        \n",
        "        Return the logarithm of x to the given base.\n",
        "        If the base not specified, returns the natural logarithm (base e) of x.\n",
        "    \n",
        "    log10(...)\n",
        "        log10(x)\n",
        "        \n",
        "        Return the base 10 logarithm of x.\n",
        "    \n",
        "    log1p(...)\n",
        "        log1p(x)\n",
        "        \n",
        "        Return the natural logarithm of 1+x (base e).\n",
        "        The result is computed in a way which is accurate for x near zero.\n",
        "    \n",
        "    modf(...)\n",
        "        modf(x)\n",
        "        \n",
        "        Return the fractional and integer parts of x.  Both results carry the sign\n",
        "        of x and are floats.\n",
        "    \n",
        "    pow(...)\n",
        "        pow(x, y)\n",
        "        \n",
        "        Return x**y (x to the power of y).\n",
        "    \n",
        "    radians(...)\n",
        "        radians(x)\n",
        "        \n",
        "        Convert angle x from degrees to radians.\n",
        "    \n",
        "    sin(...)\n",
        "        sin(x)\n",
        "        \n",
        "        Return the sine of x (measured in radians).\n",
        "    \n",
        "    sinh(...)\n",
        "        sinh(x)\n",
        "        \n",
        "        Return the hyperbolic sine of x.\n",
        "    \n",
        "    sqrt(...)\n",
        "        sqrt(x)\n",
        "        \n",
        "        Return the square root of x.\n",
        "    \n",
        "    tan(...)\n",
        "        tan(x)\n",
        "        \n",
        "        Return the tangent of x (measured in radians).\n",
        "    \n",
        "    tanh(...)\n",
        "        tanh(x)\n",
        "        \n",
        "        Return the hyperbolic tangent of x.\n",
        "    \n",
        "    trunc(...)\n",
        "        trunc(x:Real) -> Integral\n",
        "        \n",
        "        Truncates x to the nearest Integral toward 0. Uses the __trunc__ magic method.\n",
        "\n",
        "DATA\n",
        "    e = 2.718281828459045\n",
        "    pi = 3.141592653589793\n",
        "\n",
        "\n"
       ]
      }
     ],
     "prompt_number": 3
    },
    {
     "cell_type": "code",
     "collapsed": false,
     "input": [
      "import math\n",
      "\n",
      "# here is a list of the functions (and important variables)\n",
      "# inside this module\n",
      "print dir(math)"
     ],
     "language": "python",
     "metadata": {},
     "outputs": [
      {
       "output_type": "stream",
       "stream": "stdout",
       "text": [
        "['__doc__', '__name__', '__package__', 'acos', 'acosh', 'asin', 'asinh', 'atan', 'atan2', 'atanh', 'ceil', 'copysign', 'cos', 'cosh', 'degrees', 'e', 'erf', 'erfc', 'exp', 'expm1', 'fabs', 'factorial', 'floor', 'fmod', 'frexp', 'fsum', 'gamma', 'hypot', 'isinf', 'isnan', 'ldexp', 'lgamma', 'log', 'log10', 'log1p', 'modf', 'pi', 'pow', 'radians', 'sin', 'sinh', 'sqrt', 'tan', 'tanh', 'trunc']\n"
       ]
      }
     ],
     "prompt_number": 12
    },
    {
     "cell_type": "markdown",
     "metadata": {},
     "source": [
      "Now that the module is imported, we can access the functions, using a dot (`.`) between the module name and the function name:"
     ]
    },
    {
     "cell_type": "code",
     "collapsed": false,
     "input": [
      "print math.pi/4\n",
      "print math.sqrt(16)\n",
      "print math.tan(math.pi/4)"
     ],
     "language": "python",
     "metadata": {},
     "outputs": [
      {
       "output_type": "stream",
       "stream": "stdout",
       "text": [
        "0.785398163397\n",
        "4.0\n",
        "1.0\n"
       ]
      }
     ],
     "prompt_number": 13
    },
    {
     "cell_type": "markdown",
     "metadata": {},
     "source": [
      "For our earlier example, we could use our pharmacokinetics module as follows:\n",
      "\n",
      "    import pharmacokinetics\n",
      "    patient1_pk_data = ... # provide some data here\n",
      "    patient1_auc = pharmacokinetics.auc(patient1_pk_data)\n",
      "    patient1_cmax = pharmacokinetics.cmax(patient1_pk_data)"
     ]
    },
    {
     "cell_type": "markdown",
     "metadata": {},
     "source": [
      "##### Exercise\n",
      "\n",
      "Using a Code cell, list the functions inside the `string` module.\n",
      "\n",
      "Make sure you import this module first.\n",
      "\n",
      "Use `help(string)` to find out about some of the functions in this module.\n",
      "\n",
      "Pick out one of these functions, look at its docstring, and try to call it.\n"
     ]
    },
    {
     "cell_type": "code",
     "collapsed": false,
     "input": [
      "import string\n",
      "help(string)"
     ],
     "language": "python",
     "metadata": {},
     "outputs": [
      {
       "output_type": "stream",
       "stream": "stdout",
       "text": [
        "Help on module string:\n",
        "\n",
        "NAME\n",
        "    string - A collection of string operations (most are no longer used).\n",
        "\n",
        "FILE\n",
        "    d:\\python27\\winpython-64bit-2.7.5\\python-2.7.5.amd64\\lib\\string.py\n",
        "\n",
        "DESCRIPTION\n",
        "    Warning: most of the code you see here isn't normally used nowadays.\n",
        "    Beginning with Python 1.6, many of these functions are implemented as\n",
        "    methods on the standard string object. They used to be implemented by\n",
        "    a built-in module called strop, but strop is now obsolete itself.\n",
        "    \n",
        "    Public module variables:\n",
        "    \n",
        "    whitespace -- a string containing all characters considered whitespace\n",
        "    lowercase -- a string containing all characters considered lowercase letters\n",
        "    uppercase -- a string containing all characters considered uppercase letters\n",
        "    letters -- a string containing all characters considered letters\n",
        "    digits -- a string containing all characters considered decimal digits\n",
        "    hexdigits -- a string containing all characters considered hexadecimal digits\n",
        "    octdigits -- a string containing all characters considered octal digits\n",
        "    punctuation -- a string containing all characters considered punctuation\n",
        "    printable -- a string containing all characters considered printable\n",
        "\n",
        "CLASSES\n",
        "    __builtin__.object\n",
        "        Formatter\n",
        "        Template\n",
        "    \n",
        "    class Formatter(__builtin__.object)\n",
        "     |  Methods defined here:\n",
        "     |  \n",
        "     |  check_unused_args(self, used_args, args, kwargs)\n",
        "     |  \n",
        "     |  convert_field(self, value, conversion)\n",
        "     |  \n",
        "     |  format(self, format_string, *args, **kwargs)\n",
        "     |  \n",
        "     |  format_field(self, value, format_spec)\n",
        "     |  \n",
        "     |  get_field(self, field_name, args, kwargs)\n",
        "     |      # given a field_name, find the object it references.\n",
        "     |      #  field_name:   the field being looked up, e.g. \"0.name\"\n",
        "     |      #                 or \"lookup[3]\"\n",
        "     |      #  used_args:    a set of which args have been used\n",
        "     |      #  args, kwargs: as passed in to vformat\n",
        "     |  \n",
        "     |  get_value(self, key, args, kwargs)\n",
        "     |  \n",
        "     |  parse(self, format_string)\n",
        "     |      # returns an iterable that contains tuples of the form:\n",
        "     |      # (literal_text, field_name, format_spec, conversion)\n",
        "     |      # literal_text can be zero length\n",
        "     |      # field_name can be None, in which case there's no\n",
        "     |      #  object to format and output\n",
        "     |      # if field_name is not None, it is looked up, formatted\n",
        "     |      #  with format_spec and conversion and then used\n",
        "     |  \n",
        "     |  vformat(self, format_string, args, kwargs)\n",
        "     |  \n",
        "     |  ----------------------------------------------------------------------\n",
        "     |  Data descriptors defined here:\n",
        "     |  \n",
        "     |  __dict__\n",
        "     |      dictionary for instance variables (if defined)\n",
        "     |  \n",
        "     |  __weakref__\n",
        "     |      list of weak references to the object (if defined)\n",
        "    \n",
        "    class Template(__builtin__.object)\n",
        "     |  A string class for supporting $-substitutions.\n",
        "     |  \n",
        "     |  Methods defined here:\n",
        "     |  \n",
        "     |  __init__(self, template)\n",
        "     |  \n",
        "     |  safe_substitute(self, *args, **kws)\n",
        "     |  \n",
        "     |  substitute(self, *args, **kws)\n",
        "     |  \n",
        "     |  ----------------------------------------------------------------------\n",
        "     |  Data descriptors defined here:\n",
        "     |  \n",
        "     |  __dict__\n",
        "     |      dictionary for instance variables (if defined)\n",
        "     |  \n",
        "     |  __weakref__\n",
        "     |      list of weak references to the object (if defined)\n",
        "     |  \n",
        "     |  ----------------------------------------------------------------------\n",
        "     |  Data and other attributes defined here:\n",
        "     |  \n",
        "     |  __metaclass__ = <class 'string._TemplateMetaclass'>\n",
        "     |  \n",
        "     |  \n",
        "     |  delimiter = '$'\n",
        "     |  \n",
        "     |  idpattern = '[_a-z][_a-z0-9]*'\n",
        "     |  \n",
        "     |  pattern = <_sre.SRE_Pattern object>\n",
        "\n",
        "FUNCTIONS\n",
        "    atof(s)\n",
        "        atof(s) -> float\n",
        "        \n",
        "        Return the floating point number represented by the string s.\n",
        "    \n",
        "    atoi(s, base=10)\n",
        "        atoi(s [,base]) -> int\n",
        "        \n",
        "        Return the integer represented by the string s in the given\n",
        "        base, which defaults to 10.  The string s must consist of one\n",
        "        or more digits, possibly preceded by a sign.  If base is 0, it\n",
        "        is chosen from the leading characters of s, 0 for octal, 0x or\n",
        "        0X for hexadecimal.  If base is 16, a preceding 0x or 0X is\n",
        "        accepted.\n",
        "    \n",
        "    atol(s, base=10)\n",
        "        atol(s [,base]) -> long\n",
        "        \n",
        "        Return the long integer represented by the string s in the\n",
        "        given base, which defaults to 10.  The string s must consist\n",
        "        of one or more digits, possibly preceded by a sign.  If base\n",
        "        is 0, it is chosen from the leading characters of s, 0 for\n",
        "        octal, 0x or 0X for hexadecimal.  If base is 16, a preceding\n",
        "        0x or 0X is accepted.  A trailing L or l is not accepted,\n",
        "        unless base is 0.\n",
        "    \n",
        "    capitalize(s)\n",
        "        capitalize(s) -> string\n",
        "        \n",
        "        Return a copy of the string s with only its first character\n",
        "        capitalized.\n",
        "    \n",
        "    capwords(s, sep=None)\n",
        "        capwords(s [,sep]) -> string\n",
        "        \n",
        "        Split the argument into words using split, capitalize each\n",
        "        word using capitalize, and join the capitalized words using\n",
        "        join.  If the optional second argument sep is absent or None,\n",
        "        runs of whitespace characters are replaced by a single space\n",
        "        and leading and trailing whitespace are removed, otherwise\n",
        "        sep is used to split and join the words.\n",
        "    \n",
        "    center(s, width, *args)\n",
        "        center(s, width[, fillchar]) -> string\n",
        "        \n",
        "        Return a center version of s, in a field of the specified\n",
        "        width. padded with spaces as needed.  The string is never\n",
        "        truncated.  If specified the fillchar is used instead of spaces.\n",
        "    \n",
        "    count(s, *args)\n",
        "        count(s, sub[, start[,end]]) -> int\n",
        "        \n",
        "        Return the number of occurrences of substring sub in string\n",
        "        s[start:end].  Optional arguments start and end are\n",
        "        interpreted as in slice notation.\n",
        "    \n",
        "    expandtabs(s, tabsize=8)\n",
        "        expandtabs(s [,tabsize]) -> string\n",
        "        \n",
        "        Return a copy of the string s with all tab characters replaced\n",
        "        by the appropriate number of spaces, depending on the current\n",
        "        column, and the tabsize (default 8).\n",
        "    \n",
        "    find(s, *args)\n",
        "        find(s, sub [,start [,end]]) -> in\n",
        "        \n",
        "        Return the lowest index in s where substring sub is found,\n",
        "        such that sub is contained within s[start,end].  Optional\n",
        "        arguments start and end are interpreted as in slice notation.\n",
        "        \n",
        "        Return -1 on failure.\n",
        "    \n",
        "    index(s, *args)\n",
        "        index(s, sub [,start [,end]]) -> int\n",
        "        \n",
        "        Like find but raises ValueError when the substring is not found.\n",
        "    \n",
        "    join(words, sep=' ')\n",
        "        join(list [,sep]) -> string\n",
        "        \n",
        "        Return a string composed of the words in list, with\n",
        "        intervening occurrences of sep.  The default separator is a\n",
        "        single space.\n",
        "        \n",
        "        (joinfields and join are synonymous)\n",
        "    \n",
        "    joinfields = join(words, sep=' ')\n",
        "        join(list [,sep]) -> string\n",
        "        \n",
        "        Return a string composed of the words in list, with\n",
        "        intervening occurrences of sep.  The default separator is a\n",
        "        single space.\n",
        "        \n",
        "        (joinfields and join are synonymous)\n",
        "    \n",
        "    ljust(s, width, *args)\n",
        "        ljust(s, width[, fillchar]) -> string\n",
        "        \n",
        "        Return a left-justified version of s, in a field of the\n",
        "        specified width, padded with spaces as needed.  The string is\n",
        "        never truncated.  If specified the fillchar is used instead of spaces.\n",
        "    \n",
        "    lower(s)\n",
        "        lower(s) -> string\n",
        "        \n",
        "        Return a copy of the string s converted to lowercase.\n",
        "    \n",
        "    lstrip(s, chars=None)\n",
        "        lstrip(s [,chars]) -> string\n",
        "        \n",
        "        Return a copy of the string s with leading whitespace removed.\n",
        "        If chars is given and not None, remove characters in chars instead.\n",
        "    \n",
        "    maketrans(...)\n",
        "        maketrans(frm, to) -> string\n",
        "        \n",
        "        Return a translation table (a string of 256 bytes long)\n",
        "        suitable for use in string.translate.  The strings frm and to\n",
        "        must be of the same length.\n",
        "    \n",
        "    replace(s, old, new, maxreplace=-1)\n",
        "        replace (str, old, new[, maxreplace]) -> string\n",
        "        \n",
        "        Return a copy of string str with all occurrences of substring\n",
        "        old replaced by new. If the optional argument maxreplace is\n",
        "        given, only the first maxreplace occurrences are replaced.\n",
        "    \n",
        "    rfind(s, *args)\n",
        "        rfind(s, sub [,start [,end]]) -> int\n",
        "        \n",
        "        Return the highest index in s where substring sub is found,\n",
        "        such that sub is contained within s[start,end].  Optional\n",
        "        arguments start and end are interpreted as in slice notation.\n",
        "        \n",
        "        Return -1 on failure.\n",
        "    \n",
        "    rindex(s, *args)\n",
        "        rindex(s, sub [,start [,end]]) -> int\n",
        "        \n",
        "        Like rfind but raises ValueError when the substring is not found.\n",
        "    \n",
        "    rjust(s, width, *args)\n",
        "        rjust(s, width[, fillchar]) -> string\n",
        "        \n",
        "        Return a right-justified version of s, in a field of the\n",
        "        specified width, padded with spaces as needed.  The string is\n",
        "        never truncated.  If specified the fillchar is used instead of spaces.\n",
        "    \n",
        "    rsplit(s, sep=None, maxsplit=-1)\n",
        "        rsplit(s [,sep [,maxsplit]]) -> list of strings\n",
        "        \n",
        "        Return a list of the words in the string s, using sep as the\n",
        "        delimiter string, starting at the end of the string and working\n",
        "        to the front.  If maxsplit is given, at most maxsplit splits are\n",
        "        done. If sep is not specified or is None, any whitespace string\n",
        "        is a separator.\n",
        "    \n",
        "    rstrip(s, chars=None)\n",
        "        rstrip(s [,chars]) -> string\n",
        "        \n",
        "        Return a copy of the string s with trailing whitespace removed.\n",
        "        If chars is given and not None, remove characters in chars instead.\n",
        "    \n",
        "    split(s, sep=None, maxsplit=-1)\n",
        "        split(s [,sep [,maxsplit]]) -> list of strings\n",
        "        \n",
        "        Return a list of the words in the string s, using sep as the\n",
        "        delimiter string.  If maxsplit is given, splits at no more than\n",
        "        maxsplit places (resulting in at most maxsplit+1 words).  If sep\n",
        "        is not specified or is None, any whitespace string is a separator.\n",
        "        \n",
        "        (split and splitfields are synonymous)\n",
        "    \n",
        "    splitfields = split(s, sep=None, maxsplit=-1)\n",
        "        split(s [,sep [,maxsplit]]) -> list of strings\n",
        "        \n",
        "        Return a list of the words in the string s, using sep as the\n",
        "        delimiter string.  If maxsplit is given, splits at no more than\n",
        "        maxsplit places (resulting in at most maxsplit+1 words).  If sep\n",
        "        is not specified or is None, any whitespace string is a separator.\n",
        "        \n",
        "        (split and splitfields are synonymous)\n",
        "    \n",
        "    strip(s, chars=None)\n",
        "        strip(s [,chars]) -> string\n",
        "        \n",
        "        Return a copy of the string s with leading and trailing\n",
        "        whitespace removed.\n",
        "        If chars is given and not None, remove characters in chars instead.\n",
        "        If chars is unicode, S will be converted to unicode before stripping.\n",
        "    \n",
        "    swapcase(s)\n",
        "        swapcase(s) -> string\n",
        "        \n",
        "        Return a copy of the string s with upper case characters\n",
        "        converted to lowercase and vice versa.\n",
        "    \n",
        "    translate(s, table, deletions='')\n",
        "        translate(s,table [,deletions]) -> string\n",
        "        \n",
        "        Return a copy of the string s, where all characters occurring\n",
        "        in the optional argument deletions are removed, and the\n",
        "        remaining characters have been mapped through the given\n",
        "        translation table, which must be a string of length 256.  The\n",
        "        deletions argument is not allowed for Unicode strings.\n",
        "    \n",
        "    upper(s)\n",
        "        upper(s) -> string\n",
        "        \n",
        "        Return a copy of the string s converted to uppercase.\n",
        "    \n",
        "    zfill(x, width)\n",
        "        zfill(x, width) -> string\n",
        "        \n",
        "        Pad a numeric string x with zeros on the left, to fill a field\n",
        "        of the specified width.  The string x is never truncated.\n",
        "\n",
        "DATA\n",
        "    ascii_letters = 'abcdefghijklmnopqrstuvwxyzABCDEFGHIJKLMNOPQRSTUVWXYZ'\n",
        "    ascii_lowercase = 'abcdefghijklmnopqrstuvwxyz'\n",
        "    ascii_uppercase = 'ABCDEFGHIJKLMNOPQRSTUVWXYZ'\n",
        "    digits = '0123456789'\n",
        "    hexdigits = '0123456789abcdefABCDEF'\n",
        "    letters = 'abcdefghijklmnopqrstuvwxyzABCDEFGHIJKLMNOPQRSTUVWXYZ'\n",
        "    lowercase = 'abcdefghijklmnopqrstuvwxyz'\n",
        "    octdigits = '01234567'\n",
        "    printable = '0123456789abcdefghijklmnopqrstuvwxyzABCDEFGHIJKLMNOPQRSTU...\n",
        "    punctuation = '!\"#$%&\\'()*+,-./:;<=>?@[\\\\]^_`{|}~'\n",
        "    uppercase = 'ABCDEFGHIJKLMNOPQRSTUVWXYZ'\n",
        "    whitespace = '\\t\\n\\x0b\\x0c\\r '\n",
        "\n",
        "\n"
       ]
      }
     ],
     "prompt_number": 5
    },
    {
     "cell_type": "code",
     "collapsed": false,
     "input": [
      "string.capwords('hello, this course is interesting')"
     ],
     "language": "python",
     "metadata": {},
     "outputs": [
      {
       "metadata": {},
       "output_type": "pyout",
       "prompt_number": 6,
       "text": [
        "'Hello, This Course Is Interesting'"
       ]
      }
     ],
     "prompt_number": 6
    },
    {
     "cell_type": "markdown",
     "metadata": {},
     "source": [
      "## Getting Help in Python and IPython\n",
      "\n",
      "* help(module)\n",
      "* help(module.function)\n",
      "* tab expansion\n",
      "* command completion\n",
      "* ? (function documentation)\n",
      "* ??  (the relevant code itself)"
     ]
    },
    {
     "cell_type": "markdown",
     "metadata": {},
     "source": [
      "Let's see how this *help* functionality works.\n",
      "\n",
      "For this example, let's look at another package included with Python itself: `random`."
     ]
    },
    {
     "cell_type": "markdown",
     "metadata": {},
     "source": [
      "---"
     ]
    },
    {
     "cell_type": "markdown",
     "metadata": {},
     "source": [
      "##### Homework\n",
      "\n",
      "In your research, you probably have data files you work with.\n",
      "\n",
      "Create a comma-separated value (csv) file containing some or all of these data.\n",
      "\n",
      "If the data are in a spreadsheet, save it as a csv file.\n",
      "\n",
      "The data should have headings in the first row and values in the other rows. Look at the following file as an example:\n",
      "\n",
      "ModelingCourses\\CourseMaterials\\MathematicalModeling\\Basic\\data\\QSAR_data.csv\n",
      "\n",
      "Save your file into this same 'data' directory."
     ]
    },
    {
     "cell_type": "code",
     "collapsed": false,
     "input": [],
     "language": "python",
     "metadata": {},
     "outputs": [],
     "prompt_number": 13
    }
   ],
   "metadata": {}
  }
 ]
}