{
 "metadata": {
  "name": ""
 },
 "nbformat": 3,
 "nbformat_minor": 0,
 "worksheets": [
  {
   "cells": [
    {
     "cell_type": "markdown",
     "metadata": {},
     "source": [
      "![Naresuan University logo](files/graphics/nu_logo.png)"
     ]
    },
    {
     "cell_type": "markdown",
     "metadata": {
      "module": {
       "author": "Brad Reisfeld",
       "author_email": "brad.reisfeld@colostate.edu",
       "notebook_title": "Modeling Fundamentals"
      }
     },
     "source": [
      "# Modeling Fundamentals"
     ]
    },
    {
     "cell_type": "markdown",
     "metadata": {},
     "source": [
      "## Major Topics\n",
      "\n",
      "* Overview of modeling\n",
      "* Basics elements of modeling"
     ]
    },
    {
     "cell_type": "markdown",
     "metadata": {},
     "source": [
      "## Learning Objectives\n",
      "\n",
      "Students successfully completing this session will be able to...\n",
      "\n",
      "* list and explain important concepts associated with mathematical and computational modeling\n",
      "* explain how a mathematical/computational model is developed\n",
      "* develop a basic mathematical/computational model for a simple system"
     ]
    },
    {
     "cell_type": "markdown",
     "metadata": {},
     "source": [
      "## Some Illustrative Examples to Get Us Started\n",
      "\n",
      "*The examples below are by no means comprehensive.*\n",
      "\n",
      "Mathematical and computational models are ubiquitous, finding applications in fields ranging from pure mathematics to literature to engineering to finance to biology to psychology to high-energy physics.\n",
      "\n",
      "The examples below result from some of the research in which the instructor has been involved and are intended to provide a very brief introduction into some of the ways in which modeling can be applied in the physical sciences."
     ]
    },
    {
     "cell_type": "markdown",
     "metadata": {},
     "source": [
      "---"
     ]
    },
    {
     "cell_type": "markdown",
     "metadata": {},
     "source": [
      "#### Estimating the effect of 'macromolecular crowding' on reaction kinetics within a cell\n",
      "\n",
      "Chemical diffusion and reaction are essential phenomena governing the behavior of an enormous range of systems. It is common to quantify these phenomena in dilute solutions in which the solute is present in relatively small concentrations and/or there are low concentrations of other solutes within the solution.\n",
      "\n",
      "However, in many situations (e.g., inside a cell or within a bioprocessing media), there are a variety of (macro)molecules that can impede the movement of chemical species. This change in diffusional characteristics can have a significant effect on chemical kinetics and the behavior of these systems."
     ]
    },
    {
     "cell_type": "markdown",
     "metadata": {},
     "source": [
      "Here is an electron tomography image taken of the cytoplasm of a cell (<cite>[1]</cite>):\n",
      "\n",
      "![cytoskeleton](files/graphics/mm_crowding_cell.png)\n",
      "\n",
      "We can see that this media is crowded, containing an actin network (red), cytoplasmic membranes (blue), and globular proteins (green). \n",
      "\n",
      "**Clearly, this is not a dilute solution.**"
     ]
    },
    {
     "cell_type": "markdown",
     "metadata": {},
     "source": [
      "**Rationale**: It is important to quantify the effect of macromolecular crowding on enzyme-mediated reaction rates in order to be able to properly analyze kinetics and processes within cells and to be able to rationally design bioprocessing devices.\n",
      "\n",
      "**Approach**: Reconstruct the crowded environment in the computer (*in silico*) and use particle-based computations to simulate the movement and interactions of individual virtual molecules within this environment. Molecules will diffuse and react in accordance with the Fick's law of diffusion and the law of mass action, respectively.\n",
      "\n",
      "The overall reaction mechanism is assumed to be\n",
      "\n",
      "![enzyme kinetics mechanism](files/graphics/enzyme_kinetics_mechanism.png) ,\n",
      "\n",
      "where S = substrate E = enzyme, ES = enzyme-substrate complex, and P = product.\n",
      "\n",
      "**Computational software**: Smoldyn (http://www.smoldyn.org/) and Python (http://www.python.org)"
     ]
    },
    {
     "cell_type": "markdown",
     "metadata": {},
     "source": [
      "Below is a picture of the simulated cellular environment, where 5% of the volume is occupied by cylinders (meant to represent fibers like actin) and 5% is occupied by spheres (meant to represent globular proteins).\n",
      "\n",
      "![smoldyn environment](files/graphics/smoldyn_environment_5pct.png)"
     ]
    },
    {
     "cell_type": "markdown",
     "metadata": {},
     "source": [
      "**Results**:\n",
      "\n",
      "View the following animation: ./graphics/macromolecular_crowding.avi\n",
      "\n",
      "In this animation, the particle colors represent the following:\n",
      "\n",
      "`\n",
      "black: substrate\n",
      "blue: enzyme\n",
      "pink: enzyme-substrate complex\n",
      "orange: product\n",
      "`"
     ]
    },
    {
     "cell_type": "markdown",
     "metadata": {},
     "source": [
      "Here are results from many of these particle-based simulations showing the change in product concentration over time owing to macromolecular crowding.\n",
      "\n",
      "![mm_crowding](files/graphics/mm_crowding_product_concentration.png)\n",
      "\n",
      "Using *in silico* methods, we can easily obtain similar results over a wide range of system conditions, including variations to the crowding environment composition, the size of the crowding agents, the volume fraction of each crowding agent, and the reaction rates. \n",
      "\n",
      "**These types of studies would be quite difficult to conduct in a controlled manner in an experimental setting.**"
     ]
    },
    {
     "cell_type": "markdown",
     "metadata": {},
     "source": [
      "---"
     ]
    },
    {
     "cell_type": "markdown",
     "metadata": {},
     "source": [
      "#### Predicting drug diffusion in a lung granuloma\n",
      "\n",
      "Tuberculosis (TB) is an often-deadly disease caused by the bacterium *Mycobacterium tuberculosis* (MTB). Despite progress in treatment strategies, TB remains one of the leading causes of death worldwide. In 2010, nearly 9 million new cases were reported.\n",
      "\n",
      "One of the main features of the immune response to MTB infection is the formation of an organized structure called a granuloma. As shown below (<cite>[2]</cite>), it consists of cells recruited during the immune response: macrophages, highly differentiated cells such as multinucleated giant cells, epithelioid cells and foamy cells. All of these cells being surrounded by a rim of lymphocytes. Although the granuloma can act to constrain the infection, some bacilli can actually survive inside these structures for a long time in a dormant state.\n",
      "\n",
      "![granuloma structure](files/graphics/granuloma_structure.jpg)\n",
      "\n",
      "A current area of debate is whether or not sufficient amounts of anti-TB drugs are able to penetrate into the granuloma and affect the bacteria inside.\n"
     ]
    },
    {
     "cell_type": "markdown",
     "metadata": {},
     "source": [
      "**Rationale**: A quantitative characterization of the extent to which drugs penetrate granulomas is essential in designing effective anti-TB treatments.\n",
      "\n",
      "**Approach**: Use finite element calculations to predict of the time- and spatially-dependent movement of the drugs through the tissue of the lung and the heterogeneous granuloma structure.\n",
      "\n",
      "The simulation domain is three dimensional and consists of a blood vessel (on the left) in which the drug is introduced, lung tissue (throughout the domain), and a spherical, multilayered granuloma (on the right):\n",
      "\n",
      "![simulation domain](files/graphics/granuloma_simulation_domain.png)\n",
      "\n",
      "**Computational software**: FiPy (http://matforge.org/fipy/)\n"
     ]
    },
    {
     "cell_type": "markdown",
     "metadata": {},
     "source": [
      "**Results**:\n",
      "\n",
      "View the following animations: \n",
      "\n",
      "* ./graphics/granuloma_diffusion_xz_slice.avi\n",
      "* ./graphics/granuloma_diffusion_xy_slice.avi\n",
      "\n",
      "**Although some of these studies can be performed using invasive pharmacokinetic tests in animals combined with advanced techniques in analytical chemistry, they are labor intensive and expensive. Using *in silico* studies, we can quickly and systematically examine the effects of various system, pharmacokinetic, and drug parameters on drug penetration.** \n"
     ]
    },
    {
     "cell_type": "markdown",
     "metadata": {},
     "source": [
      "---"
     ]
    },
    {
     "cell_type": "markdown",
     "metadata": {},
     "source": [
      "#### Determining the biodistribution and clearance of a drug in the body "
     ]
    },
    {
     "cell_type": "markdown",
     "metadata": {},
     "source": [
      "**Rationale**: Estimating the rates of clearance and the concentrations over time of drugs and toxicants in tissues and/or organs of interest is critical in assessing their pharmacological efficacy and potential toxicity.\n",
      "\n",
      "**Approach**: Utilize physiologically-based pharmacokinetic (PBPK) modeling to determine the ADME (absorption, distribution, metabolism, and excretion) of the drug(s) and metabolites of interest. \n",
      "\n",
      "**Computational software**: Python (http://www.python.org), MCSim (https://www.gnu.org/software/mcsim/)"
     ]
    },
    {
     "cell_type": "markdown",
     "metadata": {},
     "source": [
      "Here is the structure of a physiologically-based pharmacokinetic (PBPK) model for the antibiotic rifampin (<cite>[3]</cite>):\n",
      "\n",
      "![PBPK model structure](files/graphics/pbpk_rifampin_model_structure.jpg)\n",
      "\n",
      "Each chemical and metabolite in each compartment is represented by a mass balance that is mathematically described by a differential equation (<cite>[3]</cite>)."
     ]
    },
    {
     "cell_type": "markdown",
     "metadata": {},
     "source": [
      "**Results**:\n",
      "\n",
      "View the following animation: ./graphics/pbpk_animation.avi\n",
      "\n",
      "Here are results detailing Monte Carlo simulations (percentiles as solid and dashed lines) of rifampin concentrations in mouse plasma, lung, liver, and kidney following a single 10-mg/kg oral dose (<cite>[3]</cite>):\n",
      "\n",
      "![PBPK model results](files/graphics/pbpk_rifampin_results.jpg)\n",
      "\n",
      "With this type of model, a variety of studies can quickly be conducted, including examining various dosing regimens, routes of dosing, and types of patients (different body weights, metabolic profiles, etc.).\n",
      "\n",
      "**These types of studies, especially using human subjects and toxicants, would be impractical or impossible to conduct using experimental means.**\n"
     ]
    },
    {
     "cell_type": "markdown",
     "metadata": {},
     "source": [
      "---"
     ]
    },
    {
     "cell_type": "markdown",
     "metadata": {},
     "source": [
      "#### Predicting of interlinked pathways associated with toxicant metabolism\n",
      "\n",
      "All living organisms are continuously exposed to a variety of xenobiotics (foreign chemicals), ranging from environmental pollutants and pesticides to household chemicals and drugs. Biotransformation is a biological process used by the body to detoxify chemicals through conversion to more soluble forms that facilitate excretion. However, this process can also bioactivate a xenobiotic, changing it to a more harmful form. Bioactivation can be significant in human health, as exemplified by the activation of aflatoxin $B_1$, vinyl chloride to carcinogenic epoxide metabolites, or acetaminophen to the hepatotoxic quinoneimine by cytochrome P450 (CYP) enzymes. "
     ]
    },
    {
     "cell_type": "markdown",
     "metadata": {},
     "source": [
      "**Rationale**: Biotransformation is important in toxicology, environmental sciences, ecotoxicology, and pharmaceutical research. Thus the prediction of this process for individual chemicals and chemical mixtures is vital in understanding chemical toxicity, bioavailability, and efficacy.\n",
      "\n",
      "**Approach**: Develop a computer-based simulation framework that predicts metabolites from exposure to multiple chemicals and interconnects their metabolic pathways. Within this framework, create virtual enzymes and spontaneous reactions to carry out a series of *in silico* reactions, leading to interlinked metabolic pathways. Automatically identify chemical species of toxicological interest.\n",
      "\n",
      "**Computational software**: Computational software: RDKit (http://rdkit.org/), Daylight toolkits ($) (http://www.daylight.com/products/toolkit.html). \n",
      "\n",
      "Using these toolkits and other auxiliary software, we created a tool in Python called **BioTRaNS** (**Bio**chemical **T**ool for **R**e**a**ction **N**etwork **S**imulation) to conduct the simulations."
     ]
    },
    {
     "cell_type": "markdown",
     "metadata": {},
     "source": [
      "Below is the information flow through BioTRaNS (<cite>[4]</cite>)\n",
      "\n",
      "![BioTRaNS](files/graphics/biotrans.png)"
     ]
    },
    {
     "cell_type": "markdown",
     "metadata": {},
     "source": [
      "**Results**:\n",
      "\n",
      "Below are BioTRaNS-generated biotransformation pathways for (a) trichloroethylene and (b) a mixture of trichloroethylene, perchloroethylene, methyl chloroform, and chloroform. For clarity, only selected agents (vEnzs and vAgnts) were used to generate these graphs. For (b), reactive metabolites are highlighted as follows: epoxides (brown, box, dashed); acid chlorides (orange, box, solid); thioketene (turquoise, box, solid); starting chemicals (blue, ellipse,\n",
      "solid). (See <cite>[4]</cite> for more details)\n",
      "\n",
      "![metabolic network](files/graphics/metabolic_network.png)\n",
      "\n",
      "Overall, the simulation tool interconnected the metabolic pathways for the compounds of interest, predicted reactive intermediates, such as epoxides and acid chlorides, and uncovered points in the metabolic pathways where typical endogenous compounds, such as glutathione or carbon dioxide, are consumed or generated. Moreover, novel metabolites, not previously reported, were predicted via this methodology. \n",
      "\n",
      "**These results indicate that this tool is useful for predictive xenobiotic metabolomics, providing new and important insights into metabolites and the interrelationship between diverse chemicals that hitherto may have remained unnoticed.**"
     ]
    },
    {
     "cell_type": "markdown",
     "metadata": {},
     "source": [
      "---"
     ]
    },
    {
     "cell_type": "markdown",
     "metadata": {},
     "source": [
      "#### Estimating, predicting, and evaluating human exposures that may occur at hazardous waste sites\n",
      "\n",
      "Dispersal of toxic substances from hazardous waste sites constitutes a major concern for public health and the environment. Over 1,200 hazardous waste sites are listed on the Superfund National Priority List (NPL) in the US. These abandoned sites are known to release, or have the potential to release, substances harmful to human health. Hazardous materials can also be emitted from locations actively handling waste, as covered under the Resource Conservation and Recovery Act (RCRA)."
     ]
    },
    {
     "cell_type": "markdown",
     "metadata": {},
     "source": [
      "**Rationale**: To accurately assess the risk to public health of the toxic contaminants emanating from such sites, it is essential to understand and quantify the geographical extent, the magnitude of the dispersal and flux of these substances from the sites, the level of exposure of individuals who live around the sites, and the ultimate doses to which individuals are subjected. Consistent with this important need, we have begun to develop a computational platform capable of source-exposure-dose reconstruction, targeted at estimating, predicting, and evaluating human exposures that may occur at sites on the National Priorities List.\n",
      "\n",
      "**Approach**: The computational platform under development is designed to suit the complex and multifaceted nature of exposures occurring at NPL sites and the variety of needs in health assessment for these locations. Specifically, it will be component based, such that appropriate fate and transport, exposure, and ADME (absorption, distribution, metabolism, and excretion) models can be used, depending on the site, contaminant, and route(s) of exposure. It will include the ability to simulate the implications of population and exposure variability and uncertainty represented by appropriate parameter distributions. And finally, it will be supported by a geographic information system (GIS) database for component parameterization/validation and discovery and examination of relationships between the diverse geographically-correlated information.\n",
      "\n",
      "For convenience, we call this integrated platform SEDAR-GIS (Source\u2013Exposure\u2013Dose Analysis and Reconstruction supported by GIS). \n",
      "\n",
      "Model structure for SEDAR_GIS\n",
      "\n",
      "![pollutant transport plume](files/graphics/sedar-gis_info_flow.png)\n",
      "\n",
      "**Computational software**: \n",
      "\n",
      "* **Geographic information system (GIS)**: ArcInfo, ArcGIS, ArcView (non-free) (http://www.esri.com/software/arcgis/arcgis-for-desktop), ERDAS Imagine (non-free) (http://geospatial.intergraph.com/products/ERDASIMAGINE/ERDASIMAGINE/Details.aspx), and GRASS GIS (http://grass.osgeo.org/)\n",
      "* **Airborne pollutant transport**: RAMS (http://rams.atmos.colostate.edu/rams-description.html), HYPACT (http://www.atmet.com/html/docs/hypact/1.2.0/hyp_ug-1.2.0.htm)\n",
      "* **Exposure**: CalTOX (http://energy.lbl.gov/ied/era/caltox/index.html) \n",
      "* **Absorption, distribution, metabolism, and excretion (ADME)**: Python (http://www.python.org), MCSim (https://www.gnu.org/software/mcsim/)"
     ]
    },
    {
     "cell_type": "markdown",
     "metadata": {},
     "source": [
      "Model structure for SEDAR_GIS\n",
      "\n",
      "![pollutant transport plume](files/graphics/sedar-gis_components.png)"
     ]
    },
    {
     "cell_type": "markdown",
     "metadata": {},
     "source": [
      "**Results**:\n",
      "\n",
      "The model framework is very complex and is currently under development.\n",
      "\n",
      "To illustrate *one aspect* of the kind of results we hope to obtain, here is the result of an analysis of the distribution of an airborn pollutant (sulfur dioxide) averaged over six hours in the Central West region of Thailand (<cite>[5]</cite>)\n",
      "\n",
      "Grid origin (Reference Point):\n",
      "\n",
      "* X(easting)= 465.0 km\n",
      "* Y(northing)= 1654.0 km\n",
      "* Geoid-Ellipsoid = WGS-84: WGS-84\n",
      "* Region = Global coverage (WGS-84 reference ellipsoid and geoid)\n",
      "* Datum = WGS-84\n",
      "\n",
      "![SO2 transport Thailand](files/graphics/so2_transport_thailand.png)\n",
      "\n",
      "\n",
      "**Data and experimental studies are essential for environmental health studies. However, models such as the one being developed here, have the ability to go well beyond the data and make predictions about the geographical extent of the dispersal of hazardous substances from waste sites, the level of exposure of individuals who live around the sites, and the ultimate doses to which individuals are subjected.**"
     ]
    },
    {
     "cell_type": "markdown",
     "metadata": {},
     "source": [
      "---"
     ]
    },
    {
     "cell_type": "markdown",
     "metadata": {},
     "source": [
      "**IMPORTANT NOTE ABOUT MODELING: In general, modeling should be viewed as complementary to experimental studies. Experimental data are generally necessary to validate a model and/or provide important parameter values. A model without validation is essentially useless.** "
     ]
    },
    {
     "cell_type": "markdown",
     "metadata": {},
     "source": [
      "---"
     ]
    },
    {
     "cell_type": "markdown",
     "metadata": {},
     "source": [
      "## Basic definition and reasons for modeling\n",
      "\n",
      "**Definition**\n",
      "\n",
      "A model is a (typically mathematical) representation intended to simulate or predict some aspect(s) of the behavior of a *real* system. \n",
      "\n",
      "A strict dictionary definition of *model* is \n",
      "\n",
      "* *a description or analogy used to help visualize something (as an atom) that cannot be directly observed* \n",
      "* *a system of postulates, data, and inferences presented as a mathematical description of an entity or state of affairs*\n",
      "\n",
      "**Why Model**\n",
      "\n",
      "* To gain insight into a physical system or process\n",
      "* To make predictions about the behavior of a physical process or system\n",
      "* To reduce the number of experiments that must be performed \n",
      "* Because good, relevant experimental data are *expensive*\n",
      "  * Experiments may not be feasible. \n",
      "  * Experiments may be prohibitively expensive. \n",
      "  * Experiments may take *too much time*.\n",
      "\n"
     ]
    },
    {
     "cell_type": "markdown",
     "metadata": {},
     "source": [
      "## How do we construct a model when we understand the underlying phenomena or mechanism(s)?\n",
      "\n",
      "Answer: Mathematical modeling is done in an *iterative* manner with constant comparisons to available experimental data (when possible).\n",
      "\n",
      "The basic method consists of a number of steps:\n",
      "\n",
      "1. Consider the \u2018system\u2019 of interest\n",
      "2. What, specifically, do you want to know about it?\n",
      "3. Think of the essential elements of the system that are necessary to answer 2. Don\u2019t include anything else.\n",
      "4. Specify this simpler system (diagrams, text, assumptions, etc.).\n",
      "5. Using basic principles from chemistry, math, physics, biology etc., described the simple system mathematically.\n",
      "6. Solve the system to predict the behavior of interest.\n",
      "7. Check your answer. How?\n",
      "8. Refine your model as necessary (repeat steps 3-7 over and over)."
     ]
    },
    {
     "cell_type": "markdown",
     "metadata": {},
     "source": [
      "Pictorially, the flow is as follows:\n",
      "\n",
      "![modeling procedure](files/graphics/modeling_procedure.png)"
     ]
    },
    {
     "cell_type": "markdown",
     "metadata": {},
     "source": [
      "## Simplicity\n",
      "\n",
      "Keep your model as simple as possible. Only include elements when they are absolutely necessary and supported by data.\n",
      "\n",
      "    \"Everything should be made as simple as possible, but not simpler.\"\n",
      "    - often attributed to Albert Einsten"
     ]
    },
    {
     "cell_type": "markdown",
     "metadata": {},
     "source": [
      "## How do we construct a model when we don't understand the underlying phenomena or mechanism(s)?\n",
      "\n",
      "Answer: Many of the same steps as above can be used. However, without a mechanistic understanding of the underlying phenomena, the model is likely to be only *qualitatively descriptive* and/or *statistical* in nature.\n",
      "\n",
      "These models may not be good for making predictions outside of the region of data used to derive the model (i.e., extrapolations)."
     ]
    },
    {
     "cell_type": "markdown",
     "metadata": {},
     "source": [
      "##### Exercise\n",
      "\n",
      "You are involved in some exercise science studies and are interested in how the settings on a treadmill affect weight loss.\n",
      "\n",
      "![treadmill](files/graphics/treadmill.jpg)\n",
      "\n",
      "You would like to develop a model that will allow you to predict the number of calories burned per unit time based on the settings of the machine (speed and steepness/incline). \n",
      "\n",
      "**Part 1:**\n",
      "\n",
      "What is your *system*? \n",
      "\n",
      "What specific information do you want to know about the system?\n",
      "\n",
      "What is a *simplified system* that would allow you to get this information? What are the **essential** elements? For instance, do you need to include details about the treadmill motor and electronic mechanisms?\n",
      "\n",
      "\n",
      "**Part 2:**\n",
      "\n",
      "Using several dozen people as subjects, you have taken a series of measurements where the speed and steepness (incline) of the treadmill were changed and the number of calories burned per unit time were measured. \n",
      "\n",
      "Write out a simple mathematical description (equation) that relates the calories burned to the treadmill speed and incline.\n",
      "\n",
      "Does your model contain any mechanistic (e.g., biological/physiological) information or is it simply descriptive or statistical? Will your model allow predictions for individual people?\n",
      "\n",
      "**Part 3:**\n",
      "\n",
      "You wish to try to improve the usefulness of your model by including factors such as the person's body mass index, height, weight, sex, and heart rate.\n",
      "\n",
      "Suggest a non-mechanistic model that includes this additional information.\n",
      "\n",
      "When exercising on a treadmill, what biological, biomechanical, physiological, and biochemical effects are important in burning calories?\n",
      "\n",
      "How can some of these effects be included to develop a model that is more mechanistic and perhaps more widely applicable and useful?"
     ]
    },
    {
     "cell_type": "markdown",
     "metadata": {},
     "source": [
      "## Once you have a quantitative description of the problem (e.g., equations and some data), how do you *solve* the model and make predictions?\n",
      "\n",
      "Answer: Using an **algorithm**.\n",
      "\n",
      "An algorithm is a step-by-step procedure or 'recipe' for carrying out a task.\n",
      "\n",
      "This is a **critical** part of modeling (and everyday life).\n",
      "\n",
      "It is important to have an idea of the algorithm before attempting a solution. You can always refine the algorithm as you learn more. "
     ]
    },
    {
     "cell_type": "markdown",
     "metadata": {},
     "source": [
      "##### Exercise\n",
      "\n",
      "**Zipf's law** states that given some collection of texts, the frequency of any word is inversely proportional to its rank in the frequency table. Thus, the most frequent word will occur approximately twice as often as the second most frequent word, three times as often as the third most frequent word, etc. "
     ]
    },
    {
     "cell_type": "markdown",
     "metadata": {},
     "source": [
      "Mathematically, Zipf's law is often stated as $r \\cdot f = c$, where $r$ is the rank of a word, $f$ is the frequency of occurrence of the word, and $c$ is a constant that depends on the text.\n",
      "\n",
      "Create an algorithm to test Zipf's law using the text of your favorite book.\n",
      "\n",
      "Write out the steps to conduct this study 'by hand'.\n",
      "\n",
      "This should be a list of steps in the order in which they should be done.\n",
      "\n",
      "How would your algorithm change if you were to conduct the analysis on a computer?"
     ]
    },
    {
     "cell_type": "markdown",
     "metadata": {},
     "source": [
      "For instance, the first part of this algorithm might be something like\n",
      "\n",
      "1. Obtain book\n",
      "2. Get a sheet of paper and a pencil\n",
      "3. Begin to read the book\n",
      "4. On the piece of paper, write down the words found in the first sentence.\n",
      "5. ...\n",
      "\n",
      "..."
     ]
    },
    {
     "cell_type": "markdown",
     "metadata": {},
     "source": [
      "As an example of the type of data that would be useful, here is part of a list of the [most frequent English words from the Corpus of Contemporary American English](http://www.wordfrequency.info/top5000.asp):"
     ]
    },
    {
     "cell_type": "code",
     "collapsed": false,
     "input": [
      "import pandas\n",
      "words = pandas.read_csv('./data/English_word_frequencies.csv')\n",
      "words[:20]"
     ],
     "language": "python",
     "metadata": {},
     "outputs": [
      {
       "html": [
        "<div style=\"max-height:1000px;max-width:1500px;overflow:auto;\">\n",
        "<table border=\"1\" class=\"dataframe\">\n",
        "  <thead>\n",
        "    <tr style=\"text-align: right;\">\n",
        "      <th></th>\n",
        "      <th>Rank</th>\n",
        "      <th>Word</th>\n",
        "      <th>Frequency</th>\n",
        "    </tr>\n",
        "  </thead>\n",
        "  <tbody>\n",
        "    <tr>\n",
        "      <th>0 </th>\n",
        "      <td>  1</td>\n",
        "      <td>  the</td>\n",
        "      <td> 22038615</td>\n",
        "    </tr>\n",
        "    <tr>\n",
        "      <th>1 </th>\n",
        "      <td>  2</td>\n",
        "      <td>   be</td>\n",
        "      <td> 12545825</td>\n",
        "    </tr>\n",
        "    <tr>\n",
        "      <th>2 </th>\n",
        "      <td>  3</td>\n",
        "      <td>  and</td>\n",
        "      <td> 10741073</td>\n",
        "    </tr>\n",
        "    <tr>\n",
        "      <th>3 </th>\n",
        "      <td>  4</td>\n",
        "      <td>   of</td>\n",
        "      <td> 10343885</td>\n",
        "    </tr>\n",
        "    <tr>\n",
        "      <th>4 </th>\n",
        "      <td>  5</td>\n",
        "      <td>    a</td>\n",
        "      <td> 10144200</td>\n",
        "    </tr>\n",
        "    <tr>\n",
        "      <th>5 </th>\n",
        "      <td>  6</td>\n",
        "      <td>   in</td>\n",
        "      <td>  6996437</td>\n",
        "    </tr>\n",
        "    <tr>\n",
        "      <th>6 </th>\n",
        "      <td>  7</td>\n",
        "      <td>   to</td>\n",
        "      <td>  6332195</td>\n",
        "    </tr>\n",
        "    <tr>\n",
        "      <th>7 </th>\n",
        "      <td>  8</td>\n",
        "      <td> have</td>\n",
        "      <td>  4303955</td>\n",
        "    </tr>\n",
        "    <tr>\n",
        "      <th>8 </th>\n",
        "      <td>  9</td>\n",
        "      <td>   to</td>\n",
        "      <td>  3856916</td>\n",
        "    </tr>\n",
        "    <tr>\n",
        "      <th>9 </th>\n",
        "      <td> 10</td>\n",
        "      <td>   it</td>\n",
        "      <td>  3872477</td>\n",
        "    </tr>\n",
        "    <tr>\n",
        "      <th>10</th>\n",
        "      <td> 11</td>\n",
        "      <td>    I</td>\n",
        "      <td>  3978265</td>\n",
        "    </tr>\n",
        "    <tr>\n",
        "      <th>11</th>\n",
        "      <td> 12</td>\n",
        "      <td> that</td>\n",
        "      <td>  3430996</td>\n",
        "    </tr>\n",
        "    <tr>\n",
        "      <th>12</th>\n",
        "      <td> 13</td>\n",
        "      <td>  for</td>\n",
        "      <td>  3281454</td>\n",
        "    </tr>\n",
        "    <tr>\n",
        "      <th>13</th>\n",
        "      <td> 14</td>\n",
        "      <td>  you</td>\n",
        "      <td>  3081151</td>\n",
        "    </tr>\n",
        "    <tr>\n",
        "      <th>14</th>\n",
        "      <td> 15</td>\n",
        "      <td>   he</td>\n",
        "      <td>  2909254</td>\n",
        "    </tr>\n",
        "    <tr>\n",
        "      <th>15</th>\n",
        "      <td> 16</td>\n",
        "      <td> with</td>\n",
        "      <td>  2683014</td>\n",
        "    </tr>\n",
        "    <tr>\n",
        "      <th>16</th>\n",
        "      <td> 17</td>\n",
        "      <td>   on</td>\n",
        "      <td>  2485306</td>\n",
        "    </tr>\n",
        "    <tr>\n",
        "      <th>17</th>\n",
        "      <td> 18</td>\n",
        "      <td>   do</td>\n",
        "      <td>  2573587</td>\n",
        "    </tr>\n",
        "    <tr>\n",
        "      <th>18</th>\n",
        "      <td> 19</td>\n",
        "      <td>  say</td>\n",
        "      <td>  1915138</td>\n",
        "    </tr>\n",
        "    <tr>\n",
        "      <th>19</th>\n",
        "      <td> 20</td>\n",
        "      <td> this</td>\n",
        "      <td>  1885366</td>\n",
        "    </tr>\n",
        "  </tbody>\n",
        "</table>\n",
        "</div>"
       ],
       "metadata": {},
       "output_type": "pyout",
       "prompt_number": 9,
       "text": [
        "    Rank  Word  Frequency\n",
        "0      1   the   22038615\n",
        "1      2    be   12545825\n",
        "2      3   and   10741073\n",
        "3      4    of   10343885\n",
        "4      5     a   10144200\n",
        "5      6    in    6996437\n",
        "6      7    to    6332195\n",
        "7      8  have    4303955\n",
        "8      9    to    3856916\n",
        "9     10    it    3872477\n",
        "10    11     I    3978265\n",
        "11    12  that    3430996\n",
        "12    13   for    3281454\n",
        "13    14   you    3081151\n",
        "14    15    he    2909254\n",
        "15    16  with    2683014\n",
        "16    17    on    2485306\n",
        "17    18    do    2573587\n",
        "18    19   say    1915138\n",
        "19    20  this    1885366"
       ]
      }
     ],
     "prompt_number": 9
    },
    {
     "cell_type": "markdown",
     "metadata": {},
     "source": [
      "---"
     ]
    },
    {
     "cell_type": "markdown",
     "metadata": {},
     "source": [
      "## References\n",
      "\n",
      "[1] : Medalia *et al.*, Science, 298, 2002\n",
      "\n",
      "[2] : Ramakrishnan, Nature Rev. Immun., 12, 2012\n",
      "\n",
      "[3] : Lyons *et al.*, Antimicrob. Agents Chemother. 57(4), 2013\n",
      "\n",
      "[4] : Mayeno *et al.*, Environ. Sci. Technol., 39(14), 2005\n",
      "\n",
      "[5] : Complex Terrain II: Thailand Application, Practical Application 4 (http://aqnis.pcd.go.th/webfm_send/1067/1)\n"
     ]
    }
   ],
   "metadata": {}
  }
 ]
}