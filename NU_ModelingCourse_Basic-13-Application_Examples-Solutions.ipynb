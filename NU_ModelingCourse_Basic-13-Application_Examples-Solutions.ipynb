{
 "metadata": {
  "name": ""
 },
 "nbformat": 3,
 "nbformat_minor": 0,
 "worksheets": [
  {
   "cells": [
    {
     "cell_type": "markdown",
     "metadata": {},
     "source": [
      "![Naresuan University logo](files/graphics/nu_logo.png)"
     ]
    },
    {
     "cell_type": "markdown",
     "metadata": {
      "module": {
       "author": "Brad Reisfeld",
       "author_email": "brad.reisfeld@colostate.edu",
       "notebook_title": "Application Examples"
      }
     },
     "source": [
      "# Application Examples and Exercises - Solutions"
     ]
    },
    {
     "cell_type": "markdown",
     "metadata": {},
     "source": [
      "## Major Topics\n",
      "\n",
      "* modeling exercises in the IPython notebook\n",
      "* modeling exercises that use the Spyder IDE"
     ]
    },
    {
     "cell_type": "markdown",
     "metadata": {},
     "source": [
      "## Learning Objectives\n",
      "\n",
      "Students successfully completing this session will be able to...\n",
      "\n",
      "* conduct simple modeling exercises and/or data analysis tasks using the IPython notebook and SciPy IDE\n",
      "* import and manipulate data using Python and appropriate Python packages\n",
      "* demonstrate the use of Python packages, including matplotlib and SciPy, as part of quantitative modeling tasks"
     ]
    },
    {
     "cell_type": "markdown",
     "metadata": {},
     "source": [
      "---"
     ]
    },
    {
     "cell_type": "markdown",
     "metadata": {},
     "source": [
      "## Examples and exercises\n",
      "\n",
      "* Find a model to predict properties of a material based on experimental data \n",
      "* Estimate drug concentrations using a pharmacokinetic model\n",
      "* Predict the time course of a disease epidemic"
     ]
    },
    {
     "cell_type": "markdown",
     "metadata": {},
     "source": [
      "---"
     ]
    },
    {
     "cell_type": "markdown",
     "metadata": {},
     "source": [
      "#### Find a model to predict material properties based on experimental data \n",
      "\n",
      "We would like to fit some data to a model that will allow the prediction of properties of a chemical. The equation is\n",
      "\n",
      "$$X = c_{1} P  + c_{2} Q + c_{3} E_{s} + c_{4} $$\n",
      "\n",
      "where $X$ is the outcome of the experiment, $P$, $Q$, and $E_{s}$  are material properties, and $c_{i}$ are the unknowns to be fitted.\n",
      "\n"
     ]
    },
    {
     "cell_type": "markdown",
     "metadata": {},
     "source": [
      "##### Exercise\n",
      "\n",
      "The data are contained in the csv file \n",
      "\n",
      "`/ModelingCourses/CourseMaterials/MathematicalModeling/BasicCourse/IPythonNotebooks/data/QSAR_data.csv`\n",
      "\n",
      "or, relative to this notebook\n",
      "\n",
      "`./data/QSAR_data.csv`\n",
      "\n",
      "\n",
      "**Tasks**\n",
      "\n",
      "First, read these data into `pandas` using the `read_csv` function.\n",
      "\n",
      "`chem_data = pandas.read_csv(??)`\n",
      "\n",
      "Extract each of the needed columns, e.g. \n",
      "\n",
      "`X = chem_data[??]\n",
      "P = chem_data[??]\n",
      "...`\n",
      "\n",
      "\n",
      "Use the optimization and curve fitting procedures detailed in the notebook describing SciPy to find the unknowns in the equation above. Use 1.0 as the initial value for each of the unknowns, $c_i$."
     ]
    },
    {
     "cell_type": "markdown",
     "metadata": {},
     "source": [
      "##### Solution"
     ]
    },
    {
     "cell_type": "code",
     "collapsed": false,
     "input": [
      "import pandas\n",
      "chem_data = pandas.read_csv('./data/QSAR_data.csv')\n",
      "chem_data"
     ],
     "language": "python",
     "metadata": {},
     "outputs": [
      {
       "html": [
        "<div style=\"max-height:1000px;max-width:1500px;overflow:auto;\">\n",
        "<table border=\"1\" class=\"dataframe\">\n",
        "  <thead>\n",
        "    <tr style=\"text-align: right;\">\n",
        "      <th></th>\n",
        "      <th>m-X</th>\n",
        "      <th>p-Y</th>\n",
        "      <th>P</th>\n",
        "      <th>Q</th>\n",
        "      <th>Es</th>\n",
        "      <th>X</th>\n",
        "    </tr>\n",
        "  </thead>\n",
        "  <tbody>\n",
        "    <tr>\n",
        "      <th>0 </th>\n",
        "      <td>  H</td>\n",
        "      <td>  H</td>\n",
        "      <td> 0.00</td>\n",
        "      <td> 0.00</td>\n",
        "      <td> 1.24</td>\n",
        "      <td> 7.46</td>\n",
        "    </tr>\n",
        "    <tr>\n",
        "      <th>1 </th>\n",
        "      <td>  F</td>\n",
        "      <td>  H</td>\n",
        "      <td> 0.13</td>\n",
        "      <td> 0.35</td>\n",
        "      <td> 0.78</td>\n",
        "      <td> 7.52</td>\n",
        "    </tr>\n",
        "    <tr>\n",
        "      <th>2 </th>\n",
        "      <td>  H</td>\n",
        "      <td>  F</td>\n",
        "      <td> 0.15</td>\n",
        "      <td>-0.07</td>\n",
        "      <td> 1.24</td>\n",
        "      <td> 8.16</td>\n",
        "    </tr>\n",
        "    <tr>\n",
        "      <th>3 </th>\n",
        "      <td> Cl</td>\n",
        "      <td>  H</td>\n",
        "      <td> 0.76</td>\n",
        "      <td> 0.40</td>\n",
        "      <td> 0.27</td>\n",
        "      <td> 8.16</td>\n",
        "    </tr>\n",
        "    <tr>\n",
        "      <th>4 </th>\n",
        "      <td> Cl</td>\n",
        "      <td>  F</td>\n",
        "      <td> 0.91</td>\n",
        "      <td> 0.33</td>\n",
        "      <td> 0.27</td>\n",
        "      <td> 8.19</td>\n",
        "    </tr>\n",
        "    <tr>\n",
        "      <th>5 </th>\n",
        "      <td> Br</td>\n",
        "      <td>  H</td>\n",
        "      <td> 0.94</td>\n",
        "      <td> 0.41</td>\n",
        "      <td> 0.08</td>\n",
        "      <td> 8.30</td>\n",
        "    </tr>\n",
        "    <tr>\n",
        "      <th>6 </th>\n",
        "      <td>  I</td>\n",
        "      <td>  H</td>\n",
        "      <td> 1.15</td>\n",
        "      <td> 0.36</td>\n",
        "      <td>-0.16</td>\n",
        "      <td> 8.40</td>\n",
        "    </tr>\n",
        "    <tr>\n",
        "      <th>7 </th>\n",
        "      <td> Me</td>\n",
        "      <td>  H</td>\n",
        "      <td> 0.51</td>\n",
        "      <td>-0.07</td>\n",
        "      <td> 0.00</td>\n",
        "      <td> 8.46</td>\n",
        "    </tr>\n",
        "    <tr>\n",
        "      <th>8 </th>\n",
        "      <td> Br</td>\n",
        "      <td>  F</td>\n",
        "      <td> 1.09</td>\n",
        "      <td> 0.34</td>\n",
        "      <td> 0.08</td>\n",
        "      <td> 8.57</td>\n",
        "    </tr>\n",
        "    <tr>\n",
        "      <th>9 </th>\n",
        "      <td>  H</td>\n",
        "      <td> Cl</td>\n",
        "      <td> 0.70</td>\n",
        "      <td> 0.11</td>\n",
        "      <td> 1.24</td>\n",
        "      <td> 8.68</td>\n",
        "    </tr>\n",
        "    <tr>\n",
        "      <th>10</th>\n",
        "      <td> Me</td>\n",
        "      <td>  F</td>\n",
        "      <td> 0.66</td>\n",
        "      <td>-0.14</td>\n",
        "      <td> 0.00</td>\n",
        "      <td> 8.82</td>\n",
        "    </tr>\n",
        "    <tr>\n",
        "      <th>11</th>\n",
        "      <td>  H</td>\n",
        "      <td> Br</td>\n",
        "      <td> 1.02</td>\n",
        "      <td> 0.15</td>\n",
        "      <td> 1.24</td>\n",
        "      <td> 8.89</td>\n",
        "    </tr>\n",
        "    <tr>\n",
        "      <th>12</th>\n",
        "      <td> Cl</td>\n",
        "      <td> Cl</td>\n",
        "      <td> 1.46</td>\n",
        "      <td> 0.51</td>\n",
        "      <td> 0.27</td>\n",
        "      <td> 8.89</td>\n",
        "    </tr>\n",
        "    <tr>\n",
        "      <th>13</th>\n",
        "      <td> Br</td>\n",
        "      <td> Cl</td>\n",
        "      <td> 1.64</td>\n",
        "      <td> 0.52</td>\n",
        "      <td> 0.08</td>\n",
        "      <td> 8.92</td>\n",
        "    </tr>\n",
        "    <tr>\n",
        "      <th>14</th>\n",
        "      <td> Me</td>\n",
        "      <td> Cl</td>\n",
        "      <td> 1.21</td>\n",
        "      <td> 0.04</td>\n",
        "      <td> 0.00</td>\n",
        "      <td> 8.96</td>\n",
        "    </tr>\n",
        "    <tr>\n",
        "      <th>15</th>\n",
        "      <td> Cl</td>\n",
        "      <td> Br</td>\n",
        "      <td> 1.78</td>\n",
        "      <td> 0.55</td>\n",
        "      <td> 0.27</td>\n",
        "      <td> 9.00</td>\n",
        "    </tr>\n",
        "    <tr>\n",
        "      <th>16</th>\n",
        "      <td> Me</td>\n",
        "      <td> Br</td>\n",
        "      <td> 1.53</td>\n",
        "      <td> 0.08</td>\n",
        "      <td> 0.00</td>\n",
        "      <td> 9.22</td>\n",
        "    </tr>\n",
        "    <tr>\n",
        "      <th>17</th>\n",
        "      <td>  H</td>\n",
        "      <td>  I</td>\n",
        "      <td> 1.26</td>\n",
        "      <td> 0.14</td>\n",
        "      <td> 1.24</td>\n",
        "      <td> 9.25</td>\n",
        "    </tr>\n",
        "    <tr>\n",
        "      <th>18</th>\n",
        "      <td>  H</td>\n",
        "      <td> Me</td>\n",
        "      <td> 0.52</td>\n",
        "      <td>-0.31</td>\n",
        "      <td> 1.24</td>\n",
        "      <td> 9.30</td>\n",
        "    </tr>\n",
        "    <tr>\n",
        "      <th>19</th>\n",
        "      <td> Me</td>\n",
        "      <td> Me</td>\n",
        "      <td> 1.03</td>\n",
        "      <td>-0.38</td>\n",
        "      <td> 0.00</td>\n",
        "      <td> 9.30</td>\n",
        "    </tr>\n",
        "    <tr>\n",
        "      <th>20</th>\n",
        "      <td> Br</td>\n",
        "      <td> Br</td>\n",
        "      <td> 1.96</td>\n",
        "      <td> 0.56</td>\n",
        "      <td> 0.08</td>\n",
        "      <td> 9.35</td>\n",
        "    </tr>\n",
        "    <tr>\n",
        "      <th>21</th>\n",
        "      <td> Br</td>\n",
        "      <td> Me</td>\n",
        "      <td> 1.46</td>\n",
        "      <td> 0.10</td>\n",
        "      <td> 0.08</td>\n",
        "      <td> 9.52</td>\n",
        "    </tr>\n",
        "  </tbody>\n",
        "</table>\n",
        "</div>"
       ],
       "metadata": {},
       "output_type": "pyout",
       "prompt_number": 1,
       "text": [
        "   m-X p-Y     P     Q    Es     X\n",
        "0    H   H  0.00  0.00  1.24  7.46\n",
        "1    F   H  0.13  0.35  0.78  7.52\n",
        "2    H   F  0.15 -0.07  1.24  8.16\n",
        "3   Cl   H  0.76  0.40  0.27  8.16\n",
        "4   Cl   F  0.91  0.33  0.27  8.19\n",
        "5   Br   H  0.94  0.41  0.08  8.30\n",
        "6    I   H  1.15  0.36 -0.16  8.40\n",
        "7   Me   H  0.51 -0.07  0.00  8.46\n",
        "8   Br   F  1.09  0.34  0.08  8.57\n",
        "9    H  Cl  0.70  0.11  1.24  8.68\n",
        "10  Me   F  0.66 -0.14  0.00  8.82\n",
        "11   H  Br  1.02  0.15  1.24  8.89\n",
        "12  Cl  Cl  1.46  0.51  0.27  8.89\n",
        "13  Br  Cl  1.64  0.52  0.08  8.92\n",
        "14  Me  Cl  1.21  0.04  0.00  8.96\n",
        "15  Cl  Br  1.78  0.55  0.27  9.00\n",
        "16  Me  Br  1.53  0.08  0.00  9.22\n",
        "17   H   I  1.26  0.14  1.24  9.25\n",
        "18   H  Me  0.52 -0.31  1.24  9.30\n",
        "19  Me  Me  1.03 -0.38  0.00  9.30\n",
        "20  Br  Br  1.96  0.56  0.08  9.35\n",
        "21  Br  Me  1.46  0.10  0.08  9.52"
       ]
      }
     ],
     "prompt_number": 1
    },
    {
     "cell_type": "code",
     "collapsed": false,
     "input": [
      "P = chem_data['P']\n",
      "Q = chem_data['Q']\n",
      "Es = chem_data['Es']\n",
      "X = chem_data['X']\n",
      "\n",
      "import scipy.optimize as spo\n",
      "\n",
      "def chem_model(params):\n",
      "    c1, c2, c3, c4 = params\n",
      "    model = c1*P + c2*Q + c3*Es + c4\n",
      "    return model\n",
      "\n",
      "def data_model_diff(params):\n",
      "    model = chem_model(params)\n",
      "    data = X\n",
      "    ssq = np.sum(((data - model)/data)**2)\n",
      "    return ssq\n",
      "\n",
      "# initial guesses of parameters\n",
      "param_guesses = [1., 1., 1., 1.]\n",
      "results = spo.minimize(data_model_diff, param_guesses)\n",
      "\n",
      "final_params = results.x\n",
      "print final_params\n",
      "print results.fun\n"
     ],
     "language": "python",
     "metadata": {},
     "outputs": [
      {
       "output_type": "stream",
       "stream": "stdout",
       "text": [
        "[ 1.26749216 -1.45321841  0.19026262  7.61102261]\n",
        "0.00761948178272\n"
       ]
      }
     ],
     "prompt_number": 2
    },
    {
     "cell_type": "markdown",
     "metadata": {},
     "source": [
      "The desired equation is thus\n",
      "\n",
      "$$ X = 1.259 P  - 1.460 Q + 0.208 E_{s} + 7.619 $$\n"
     ]
    },
    {
     "cell_type": "markdown",
     "metadata": {},
     "source": [
      "Here is a plot comparing the data to the model predictions:"
     ]
    },
    {
     "cell_type": "code",
     "collapsed": false,
     "input": [
      "import matplotlib.pyplot as plt\n",
      "f,ax = plt.subplots()\n",
      "\n",
      "X_model = chem_model(final_params)\n",
      "X_data = X\n",
      "\n",
      "sparams = ['$C_%i=%.3f$' % (i,v) for i,v in enumerate(final_params,1)]\n",
      "ax.plot(X_data, X_model, 'bo')\n",
      "ax.plot([7,10],[7,10], 'k-')\n",
      "ax.set_xlabel('$X_{data}$')\n",
      "ax.set_ylabel('$X_{model}$')\n",
      "\n",
      "ax.set_title('Data fit to model: %s' % ', '.join(sparams))\n"
     ],
     "language": "python",
     "metadata": {},
     "outputs": [
      {
       "metadata": {},
       "output_type": "pyout",
       "prompt_number": 15,
       "text": [
        "<matplotlib.text.Text at 0x1361eb70>"
       ]
      },
      {
       "metadata": {},
       "output_type": "display_data",
       "png": "[encoded data removed]",
       "text": [
        "<matplotlib.figure.Figure at 0x13616940>"
       ]
      }
     ],
     "prompt_number": 15
    },
    {
     "cell_type": "markdown",
     "metadata": {},
     "source": [
      "---"
     ]
    },
    {
     "cell_type": "markdown",
     "metadata": {},
     "source": [
      "#### Estimate drug concentrations using a pharmacokinetic model\n",
      "\n",
      "\n",
      "Multiple doses of a drug are given to a patient by intravenous bolus. You wish to predict the time-course concentration of the drug in the patient's blood, assuming that a one-compartment model is appropriate.\n",
      "\n",
      "Assuming first order absorption, the system can be written as\n",
      "\n",
      "$$ C(t) = \\sum\\limits_{i = 1}^N {\\frac{{{D_i}}}{V}\\frac{{{k_a}}}{{{k_a} - k}}\\left[ {{e^{ - k\\left( {t - {t_{{D_i}}}} \\right)}} - {e^{ - {k_a}\\left( {t - {t_{{D_i}}}} \\right)}}} \\right]}  $$\n",
      "\n",
      "where\n",
      "\n",
      "* $C(t)$ is the concentration of the drug in the compartment over time, $t$.\n",
      "* $D_i$ is the $i$th dosage given\n",
      "* $V$ is the volume of distribution in the compartment\n",
      "* $k$ is the elimination rate constant\n",
      "* $k_a$ the absorption rate constant\n",
      "* $t_{D_i}$ is the time at which this dose is given\n",
      "* N is the number of doses\n",
      "* the equation predicts the contribution for $D_i$ only when $t > t_{{D_i}}$\n",
      "\n",
      "Assume that the delay between successive doses is constant and is greater than the infusion duration ($t_{D_{i+1}} - t_{D_{i}} = constant $ and $t_{D_{i+1}} -  t_{D_{i}} > T_{inf_{i}}$ ).\n"
     ]
    },
    {
     "cell_type": "markdown",
     "metadata": {},
     "source": [
      "##### Exercise\n",
      "\n",
      "Write a function that takes $t$, $D_i$, $t_{D_i}$, $V$, $k$, $k_a$ as inputs, computes $C$ at each point in $t$, and makes a plot of $C$ versus $t$.\n",
      "\n",
      "Your function should assume that the values of $t$, $D_i$, and $t_{D_i}$ are given as Python lists or numpy arrays.\n",
      "\n",
      "Demonstrate your function using the following values:\n",
      "\n",
      "* $k = 0.07$ 1/hr\n",
      "* $k_a = 0.25$ 1/hr\n",
      "* $V = 12$ L\n",
      "* $Di = [500, 500, 500]$ mg\n",
      "* $t_{D_{i}} = [4, 16, 22]$ hrs\n",
      "* $t = [0-48]$ hrs\n"
     ]
    },
    {
     "cell_type": "markdown",
     "metadata": {},
     "source": [
      "##### Solution"
     ]
    },
    {
     "cell_type": "markdown",
     "metadata": {},
     "source": [
      "The following is not the most efficient solution, but shows some of the Python and NumPy features we have learned so far:"
     ]
    },
    {
     "cell_type": "code",
     "collapsed": false,
     "input": [
      "def compute_PK(times, doses, t_doses, V, k, ka):\n",
      "    ndoses, ntimes = len(doses), len(times)\n",
      "    Ctot = np.zeros(ntimes)   # initialize storage for the total dose\n",
      "    # loop over the dose values\n",
      "    for i in range(ndoses):\n",
      "        C = np.zeros(ntimes)  # initialize storage for the concentration of the current dose\n",
      "        Di = doses[i]\n",
      "        tDi = t_doses[i]\n",
      "        # loop over the time values\n",
      "        for j in range(ntimes):\n",
      "            t = times[j]\n",
      "            if t >= tDi:\n",
      "                C[j] = (Di/V)*(ka/(ka-k))*(np.exp(-k*(t - tDi)) - \n",
      "                                           np.exp(-ka*(t - tDi)))\n",
      "        Ctot = Ctot + C  # add the concentrations to those computed previously\n",
      "    return Ctot"
     ],
     "language": "python",
     "metadata": {},
     "outputs": [],
     "prompt_number": 4
    },
    {
     "cell_type": "code",
     "collapsed": false,
     "input": [
      "import matplotlib.pyplot as plt\n",
      "k = 0.07   # 1/hr\n",
      "ka = 0.25  # 1/hr\n",
      "V = 12.    # L\n",
      "doses = [500., 500., 500.]   # mg\n",
      "t_doses = [4., 16., 22.]     # hrs\n",
      "times = np.linspace(0, 48, 100)   # hrs\n",
      "\n",
      "conc = compute_PK(times, doses, t_doses, V, k, ka)\n",
      "plt.plot(times, conc, 'g-')\n",
      "plt.ylabel('C (mg/L)')\n",
      "plt.xlabel('Time (hrs)')"
     ],
     "language": "python",
     "metadata": {},
     "outputs": [
      {
       "metadata": {},
       "output_type": "pyout",
       "prompt_number": 5,
       "text": [
        "<matplotlib.text.Text at 0x80e4c50>"
       ]
      },
      {
       "metadata": {},
       "output_type": "display_data",
       "png": "[encoded data removed]",
       "text": [
        "<matplotlib.figure.Figure at 0x80e2c18>"
       ]
      }
     ],
     "prompt_number": 5
    },
    {
     "cell_type": "markdown",
     "metadata": {},
     "source": [
      "Here is a solution using a helper function and some other Python and NumPy features:"
     ]
    },
    {
     "cell_type": "code",
     "collapsed": false,
     "input": [
      "import numpy as np\n",
      "\n",
      "def single_dose_PK(t, Di, tDi, V, k, ka):\n",
      "    ind = np.nonzero(times < tDi)  # find the indices where t < tDi\n",
      "    C = (Di/V)*(ka/(ka-k))*(np.exp(-k*(t - tDi)) - \n",
      "                            np.exp(-ka*(t - tDi)))\n",
      "    C[ind] = 0.                    # set C to zero for all t < tDi\n",
      "    return C\n",
      "\n",
      "def multidose_PK(times, doses, t_doses, V, k, ka):\n",
      "    print doses\n",
      "    ndoses, ntimes = len(doses), len(times)\n",
      "    Ctot = np.zeros(ntimes)   # initialize storage for the total dose\n",
      "    # loop over the dose and dose time values\n",
      "    for Di, tDi in zip(doses, t_doses):\n",
      "        C = single_dose_PK(times, Di, tDi, V, k, ka)\n",
      "        Ctot = Ctot + C  # add the concentrations to those computed previously\n",
      "    return Ctot"
     ],
     "language": "python",
     "metadata": {},
     "outputs": [],
     "prompt_number": 12
    },
    {
     "cell_type": "code",
     "collapsed": false,
     "input": [
      "import matplotlib.pyplot as plt\n",
      "k = 0.07   # 1/hr\n",
      "ka = 0.25  # 1/hr\n",
      "V = 12.    # L\n",
      "doses = [600., 200., 700.]   # mg\n",
      "t_doses = [6., 18, 32]     # hrs\n",
      "times = np.linspace(0, 48, 100)   # hrs\n",
      "\n",
      "conc = multidose_PK(times, doses, t_doses, V, k, ka)\n",
      "plt.plot(times, conc, 'g-')\n",
      "plt.ylabel('C (mg/L)')\n",
      "plt.xlabel('Time (hrs)')"
     ],
     "language": "python",
     "metadata": {},
     "outputs": [
      {
       "output_type": "stream",
       "stream": "stdout",
       "text": [
        "[600.0, 200.0, 700.0]\n"
       ]
      },
      {
       "metadata": {},
       "output_type": "pyout",
       "prompt_number": 14,
       "text": [
        "<matplotlib.text.Text at 0x8028978>"
       ]
      },
      {
       "metadata": {},
       "output_type": "display_data",
       "png": "[encoded data removed]",
       "text": [
        "<matplotlib.figure.Figure at 0x80c9668>"
       ]
      }
     ],
     "prompt_number": 14
    },
    {
     "cell_type": "markdown",
     "metadata": {},
     "source": [
      "---"
     ]
    },
    {
     "cell_type": "markdown",
     "metadata": {},
     "source": [
      "#### Predict the time course of a disease epidemic\n",
      "\n",
      "The natural history of many directly transmitted infectious diseases can be appropriately described by a SIR-like model. SIR stands for Susceptible (S), Infected (I) and Recovered (R). Archetypal SIRs are measles or chickenpox, i.e., diseases that confer lifelong immunity. An individual starts his life in the S state and may progress to the I state. The rate of progression of individuals from S to I is called the incidence rate or force of infection, which is a function of contact rate, probability of transmission per contact, and density of infectious individuals. Individuals stay in the infectious period for a certain time and then move to the recovered state where they become immune to new infections. Generally, the removal rate from the infectious class is the inverse of the infectious period (i.e., it is assumed that the duration of infection is exponentially distributed).\n",
      "\n",
      "![SIR model graphic](files/graphics/sir_diagram.png)"
     ]
    },
    {
     "cell_type": "markdown",
     "metadata": {},
     "source": [
      "There are many types of SIR models, here we consider one of the simplest. \n",
      "A single epidemic outbreak is usually far more rapid than the vital dynamics (birth/death) of a population; thus, if the aim is to study the immediate consequences of a single epidemic, one may neglect the birth-death processes. In this case the SIR system described above can be expressed by the following set of ordinary differential equations:"
     ]
    },
    {
     "cell_type": "markdown",
     "metadata": {},
     "source": [
      "$$\\frac{{dS}}{{dt}} = -\\beta  \\cdot S \\cdot I$$\n",
      "\n",
      "$$\\frac{{dI}}{{dt}} = \\beta  \\cdot S \\cdot I - \\gamma  \\cdot I$$\n",
      "\n",
      "$$\\frac{{dR}}{{dt}} = \\gamma  \\cdot I$$"
     ]
    },
    {
     "cell_type": "markdown",
     "metadata": {},
     "source": [
      "Between populations $S$ and $I$, the transition rate is $\\beta \\cdot I$, where $\\beta$ is the contact rate, which takes into the account the probability of getting the disease in a contact between a susceptible and an infectious subject.\n",
      "\n",
      "Between populations $I$ and $R$, the transition rate is $\\gamma$, which is simply the rate of recovery. If the duration of the infection is denoted $D$, then $\\gamma = 1/D$, since an individual experiences one recovery in $D$ units of time.\n",
      "\n",
      "\n",
      "Because we are neglecting birth and death processes in the present model, $S(t) + I(t) + R(t) = {\\rm{Constant}} = N$, indicating that the population, N, is a constant.\n",
      "\n",
      "The dynamics of the infectious class depends on the ratio ${R_0} = N\\frac{\\beta }{\\gamma }$, which is known as the reproduction number (also called basic reproduction ratio). This ratio is derived as the expected number of new infections (these new infections are sometimes called secondary infections) from a single infection in a population where all subjects are susceptible.\n",
      "\n",
      "The role of the basic reproduction number is extremely important. In fact, upon rewriting the equation for infectious individuals as follows:\n",
      "\n",
      "$$\\frac{{dI}}{{dt}} = \\mu  \\cdot ({R_0}S - 1) \\cdot I$$\n",
      "\n",
      "This means that if ${R_0} > \\frac{1}{{S(0)}}$, then $\\frac{{dI}}{{dt}}(0) > 0$. In this case, there will be a proper epidemic outbreak with an increase of the number of the infected individuals. On the contrary, if ${R_0} < \\frac{1}{{S(0)}}$, then $\\frac{{dI}}{{dt}}(0) < 0$. In this case, independent of the initial size of the susceptible population, the disease can never cause a proper epidemic outbreak. "
     ]
    },
    {
     "cell_type": "markdown",
     "metadata": {},
     "source": [
      "##### Exercise\n",
      "\n",
      "With all of that background out of the way, let's conduct some simulations.\n",
      "\n",
      "Let's use the following starting populations:\n",
      "\n",
      "$$S_0 = 1.0$$\n",
      "$$I_0 = 0.1$$\n",
      "$$R_0 = 0.0$$\n",
      "\n",
      "and disease parameters:\n",
      "\n",
      "$$\\beta = 520/365.$$\n",
      "$$\\gamma = 1.0/7$$\n",
      "\n",
      "Once you have your simulations working **and you are confident that they make sense**, vary the disease parameters and see the effect. Try cases for which ${R_0}$ > $\\frac{1}{{S(0)}}$ and cases for which ${R_0}$ < $\\frac{1}{{S(0)}}$.  Do the results make sense?\n",
      "\n",
      "Refer to the lecture notes on 'Solving ordinary differential equations' in the SciPy module if you need a refresher of the appropriate syntax and functions to use.\n",
      "\n"
     ]
    },
    {
     "cell_type": "markdown",
     "metadata": {},
     "source": [
      "##### Solution"
     ]
    },
    {
     "cell_type": "code",
     "collapsed": false,
     "input": [
      "import numpy as np\n",
      "import scipy.integrate\n",
      "import matplotlib.pyplot as plt\n",
      "\n",
      "def SIR_basic(y, t, params):\n",
      "    beta,gamma = params\n",
      "    S,I,R = y\n",
      "    dSdt = -beta*S*I\n",
      "    dIdt = beta*S*I - gamma*I\n",
      "    dRdt = gamma*I\n",
      "    dy = [dSdt, dIdt, dRdt]\n",
      "    return dy\n",
      "\n",
      "def odesolve(t, y0, params, odefunc):\n",
      "    soln = scipy.integrate.odeint(odefunc, y0, t, args=(params,))\n",
      "    return [t,soln]\n",
      "\n",
      "def plot_populations(t, y, populations=['S','I','R'], pxlabel='x', pylabel='y', ptitle='Simulation'):\n",
      "    pdict = {'S':(0,'susceptible'),'I':(1,'infected'),'R':(2,'recovered')}\n",
      "    plt.figure()\n",
      "    plegend = []\n",
      "    for p in populations:\n",
      "        ind,name = pdict[p]\n",
      "        plt.plot(t,y[:,ind])\n",
      "        plegend.append(name)\n",
      "    plt.title(ptitle)\n",
      "    plt.xlabel(pxlabel)\n",
      "    plt.ylabel(pylabel)\n",
      "    plt.legend(plegend)\n",
      "    plt.show()\n",
      "\n",
      "tspan = np.linspace(0,10*7,2000)\n",
      "y0 = S0,I0,R0 = 1.0,0.01,0.0\n",
      "\n",
      "params = beta,gamma = 520/365.,1./7\n",
      "\n",
      "#params = beta,gamma = (1./7)/1.01,1./7\n",
      "\n",
      "N = sum([S0, I0, R0])\n",
      "R0 = N*beta/gamma\n",
      "\n",
      "\n",
      "[t, soln] = odesolve(tspan, y0, params, SIR_basic)\n",
      "#plt.plot(t,soln)\n",
      "plot_populations(t,soln,populations=['S','I','R'],\n",
      "                 pxlabel='Time (days)', \n",
      "                 pylabel='Fraction of Population in Different Classes', \n",
      "                 ptitle='Basic SIR Model: $R_0$=%.2f' % R0)"
     ],
     "language": "python",
     "metadata": {},
     "outputs": [
      {
       "metadata": {},
       "output_type": "display_data",
       "png": "[encoded data removed]",
       "text": [
        "<matplotlib.figure.Figure at 0x8a921d0>"
       ]
      }
     ],
     "prompt_number": 7
    },
    {
     "cell_type": "markdown",
     "metadata": {},
     "source": [
      "---"
     ]
    }
   ],
   "metadata": {}
  }
 ]
}