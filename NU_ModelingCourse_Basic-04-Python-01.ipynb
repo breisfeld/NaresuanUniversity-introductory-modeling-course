{
 "metadata": {
  "name": ""
 },
 "nbformat": 3,
 "nbformat_minor": 0,
 "worksheets": [
  {
   "cells": [
    {
     "cell_type": "markdown",
     "metadata": {},
     "source": [
      "![Naresuan University logo](files/graphics/nu_logo.png)"
     ]
    },
    {
     "cell_type": "markdown",
     "metadata": {
      "module": {
       "author": "Brad Reisfeld",
       "author_email": "brad.reisfeld@colostate.edu",
       "notebook_title": "Python"
      }
     },
     "source": [
      "# Python - part 1"
     ]
    },
    {
     "cell_type": "markdown",
     "metadata": {},
     "source": [
      "## Major Topics\n",
      "\n",
      "* Overview of Python\n",
      "* Using Python as a calculator\n",
      "* Adding comments to Python code\n",
      "* Variables\n",
      "* Data structures"
     ]
    },
    {
     "cell_type": "markdown",
     "metadata": {},
     "source": [
      "## Learning Objectives\n",
      "\n",
      "Students successfully completing this session will be able to...\n",
      "\n",
      "* list important characteristics of the Python programming language\n",
      "* use Python as a calculator\n",
      "* employ Python variables in calculations\n",
      "* describe and use important data structures in Python"
     ]
    },
    {
     "cell_type": "markdown",
     "metadata": {},
     "source": [
      "---"
     ]
    },
    {
     "cell_type": "markdown",
     "metadata": {},
     "source": [
      "##### Homework\n",
      "\n",
      "In your research you probably work with tables of data.\n",
      "\n",
      "Pick out one of these datasets you would like to work with in this class.\n",
      "\n",
      "Store the data in comma-separated value (csv) file format.\n",
      "\n",
      "If your data are in a spreadsheet, like Excel, you can 'Save As...' to a csv file.\n",
      "\n",
      "The first row of the file should be the headings or names of the variables and the other rows should be the data values.\n",
      "\n",
      "See the following as an example:\n",
      "\n",
      "`ModelingCourses\\CourseMaterials\\MathematicalModeling\\BasicCourse\\IPythonNotebooks\\data\\soil_data.csv`\n",
      "\n",
      "Store your data file in this same directory.\n"
     ]
    },
    {
     "cell_type": "markdown",
     "metadata": {},
     "source": [
      "---"
     ]
    },
    {
     "cell_type": "markdown",
     "metadata": {},
     "source": [
      "![Python logo](files/graphics/python_logo.png)\n",
      "\n",
      "**Python** is a widely used general-purpose, high-level programming language. Its design philosophy emphasizes code readability, and its syntax allows programmers to express concepts in fewer lines of code than would be possible in languages such as C (Wikipedia: https://en.wikipedia.org/wiki/Python_(programming_language)).\n",
      "\n",
      "Python is Open Source software and may be used, distributed, and modified free of charge.\n",
      "\n",
      "It is available from several sources, including the [Python website](http://www.python.org/download/). \n",
      "\n",
      "Python has a thousands of freely-available [add-on packages](https://pypi.python.org/pypi), including a large number for science, mathematics, and engineering.\n",
      "\n",
      "Distributions that include Python and many useful packages may be obtained from [pythonxy](https://code.google.com/p/pythonxy/), [winpython](https://code.google.com/p/winpython/), [Anaconda](http://continuum.io/downloads), and [Enthought](https://www.enthought.com/products/epd/).\n",
      "\n",
      "In this course, we will focus on the use of Python itself and on several popular packages, including [IPython](http://ipython.org/), [NumPy](http://www.numpy.org/), [SciPy](http://www.scipy.org/), [matplotlib](http://matplotlib.org/), and [pandas](http://pandas.pydata.org/).\n",
      "\n",
      "Many excellent Python programming tutorials and books are freely available on the web:\n",
      "\n",
      "* [The Official Python documentation](http://docs.python.org/2/)\n",
      "* [A Beginner's Python Tutorial](http://www.sthurlow.com/python/)\n",
      "* [Think Python, How to Think Like a Computer Scientist](http://www.greenteapress.com/thinkpython/)\n",
      "* [Non-Programmer's Tutorial for Python 2.6](https://en.wikibooks.org/wiki/Non-Programmer's_Tutorial_for_Python_2.6)\n",
      "* [Learning Python](http://docs.python-guide.org/en/latest/intro/learning.html)\n",
      "* [Dive into Python](http://www.diveintopython.net/)\n",
      "* [learnpython.org](http://www.learnpython.org/)"
     ]
    },
    {
     "cell_type": "markdown",
     "metadata": {},
     "source": [
      "## Programming\n",
      "\n",
      "Computers are stupid. And very literal. So to be able to program, we need to tell the computer what to do in very simple language without any ambiguity. Almost all programs we will deal with involve only five (5) basic operations:\n",
      "\n",
      "1. Get input data\n",
      "2. Store data in variables\n",
      "3. Do some calculation or check logic\n",
      "4. Repeat\n",
      "5. Generate some output\n",
      "\n"
     ]
    },
    {
     "cell_type": "markdown",
     "metadata": {},
     "source": [
      "---"
     ]
    },
    {
     "cell_type": "markdown",
     "metadata": {},
     "source": [
      "## Basic Syntax"
     ]
    },
    {
     "cell_type": "markdown",
     "metadata": {},
     "source": [
      "### Using Python as a Calculator"
     ]
    },
    {
     "cell_type": "code",
     "collapsed": false,
     "input": [
      "print 1+2\n",
      "print 3+4"
     ],
     "language": "python",
     "metadata": {},
     "outputs": [
      {
       "output_type": "stream",
       "stream": "stdout",
       "text": [
        "3\n",
        "7\n"
       ]
      }
     ],
     "prompt_number": 1
    },
    {
     "cell_type": "code",
     "collapsed": false,
     "input": [
      "# arithmetic\n",
      "print 1 + 2\n",
      "\n",
      "print 4.7 + 5*3.9182\n",
      "\n",
      "# print more than one value on a line\n",
      "print 1.23*3.46, 12.4/100.920192012, 7.2 / (2.3 * 123)\n",
      "\n",
      "# powers (y^x)\n",
      "print 3.3**3\n",
      "print 0.5**0.3"
     ],
     "language": "python",
     "metadata": {},
     "outputs": [
      {
       "output_type": "stream",
       "stream": "stdout",
       "text": [
        "3\n",
        "24.291\n",
        "4.2558 0.12286936591 0.0254506892895\n",
        "35.937\n",
        "0.812252396356\n"
       ]
      }
     ],
     "prompt_number": 2
    },
    {
     "cell_type": "code",
     "collapsed": false,
     "input": [
      "# integer division\n",
      "print 3/2\n",
      "\n",
      "# add a decimal point for the 'expected' result\n",
      "print 3/2.0\n",
      "\n",
      "# modulus\n",
      "print 13 % 4\n",
      "\n",
      "# some math functions are built-in\n",
      "print 1 + (2.5/3) + sqrt(3)\n"
     ],
     "language": "python",
     "metadata": {},
     "outputs": [
      {
       "output_type": "stream",
       "stream": "stdout",
       "text": [
        "1\n",
        "1.5\n",
        "1\n",
        "3.5653841409\n"
       ]
      }
     ],
     "prompt_number": 3
    },
    {
     "cell_type": "markdown",
     "metadata": {},
     "source": [
      "---"
     ]
    },
    {
     "cell_type": "markdown",
     "metadata": {},
     "source": [
      "### Comments"
     ]
    },
    {
     "cell_type": "markdown",
     "metadata": {},
     "source": [
      "To add comments to a Python program, precede the line with a `#` character.\n",
      "\n",
      "You can also surround blocks of lines with triple quotes:"
     ]
    },
    {
     "cell_type": "code",
     "collapsed": false,
     "input": [
      "# here is a comments\n",
      "\n",
      "mass = 50.5    # kg\n",
      "length = 12.3  # mm\n",
      "\n",
      "\"\"\"\n",
      "here \n",
      "is\n",
      "\n",
      "a \n",
      "group of \n",
      "\n",
      "comments\n",
      "\"\"\"\n",
      "\n",
      "x = -15  # degrees C"
     ],
     "language": "python",
     "metadata": {},
     "outputs": [],
     "prompt_number": 4
    },
    {
     "cell_type": "markdown",
     "metadata": {},
     "source": [
      "---"
     ]
    },
    {
     "cell_type": "markdown",
     "metadata": {},
     "source": [
      "** Important Note: If a `print` statement is not used, the notebook won't generally display a value.**"
     ]
    },
    {
     "cell_type": "markdown",
     "metadata": {},
     "source": [
      "---"
     ]
    },
    {
     "cell_type": "markdown",
     "metadata": {},
     "source": [
      "### Variables"
     ]
    },
    {
     "cell_type": "markdown",
     "metadata": {},
     "source": [
      "We can store values in =to named variables using the `=` character.\n",
      "\n",
      "For instance,\n",
      "\n",
      "    density = 38.3  # g/cm^3\n",
      "    \n",
      "stores the value 38.3 into a *box* with the name `density`\n",
      "\n",
      "To work with the value in this box, we just use the name:\n",
      "\n",
      "    print density\n",
      "    # put the density squared into a new box named sq_density\n",
      "    sq_density = density**2   "
     ]
    },
    {
     "cell_type": "markdown",
     "metadata": {},
     "source": [
      "##### Exercise\n",
      "\n",
      "Define the density values above in a Code cell in IPython\n",
      "\n",
      "Define some other variables and print out their values."
     ]
    },
    {
     "cell_type": "code",
     "collapsed": false,
     "input": [
      "density = 38.3  # g/cm^3\n",
      "print density\n",
      "\n",
      "sq_density = density**2   # put the density squared into a new box named sq_density\n",
      "print sq_density\n",
      "\n",
      "volume = 3/2.\n",
      "\n",
      "mass = volume*density\n",
      "print mass"
     ],
     "language": "python",
     "metadata": {},
     "outputs": [
      {
       "output_type": "stream",
       "stream": "stdout",
       "text": [
        "38.3\n",
        "1466.89\n",
        "57.45\n"
       ]
      }
     ],
     "prompt_number": 5
    },
    {
     "cell_type": "code",
     "collapsed": false,
     "input": [
      "%whos"
     ],
     "language": "python",
     "metadata": {},
     "outputs": [
      {
       "output_type": "stream",
       "stream": "stdout",
       "text": [
        "Variable     Type     Data/Info\n",
        "-------------------------------\n",
        "density      float    38.3\n",
        "length       float    12.3\n",
        "mass         float    57.45\n",
        "sq_density   float    1466.89\n",
        "volume       float    1.5\n",
        "x            int      -15\n"
       ]
      }
     ],
     "prompt_number": 6
    },
    {
     "cell_type": "markdown",
     "metadata": {},
     "source": [
      "---"
     ]
    },
    {
     "cell_type": "markdown",
     "metadata": {},
     "source": [
      "### Data structures"
     ]
    },
    {
     "cell_type": "markdown",
     "metadata": {},
     "source": [
      "Data structures are ways of storing vaues for later use.\n",
      "\n",
      "We have already seen a way to store simple single values (`x = 3.1415`). We can call these *scalars*.\n",
      "\n",
      "There are many data structures in Python. \n",
      "\n",
      "Two of the most useful are the **`list`** and **`dictionary`**.\n",
      "\n",
      "One way to think of Python lists are like boxcar trains.\n",
      "\n",
      "\n",
      "![boxcars](files/graphics/boxcars.png)\n",
      "\n",
      "Each item in a list is like the contents of one of the boxcars.\n",
      "\n",
      "Let's make a list of items:"
     ]
    },
    {
     "cell_type": "code",
     "collapsed": false,
     "input": [
      "list_of_items = [12.1, 'AZ', -3, 15.1, 7, -2.5, 'cat']"
     ],
     "language": "python",
     "metadata": {},
     "outputs": [],
     "prompt_number": 7
    },
    {
     "cell_type": "markdown",
     "metadata": {},
     "source": [
      "This is one way of depicting `list_of_items` using the boxcar analogy:\n",
      "\n",
      "![Python list](files/graphics/boxcar_indexing.png)\n",
      "\n",
      "Each of the boxcars has a number, and we can access the contents of the boxcar using this number. The first boxcar has the number 0. We use square brackets when we want to access the contents of a boxcar:"
     ]
    },
    {
     "cell_type": "code",
     "collapsed": false,
     "input": [
      "print list_of_items[0]\n",
      "print list_of_items[6]\n",
      "print list_of_items[-2]"
     ],
     "language": "python",
     "metadata": {},
     "outputs": [
      {
       "output_type": "stream",
       "stream": "stdout",
       "text": [
        "12.1\n",
        "cat\n",
        "-2.5\n"
       ]
      }
     ],
     "prompt_number": 8
    },
    {
     "cell_type": "markdown",
     "metadata": {},
     "source": [
      "Look at this graphic to help understand Python list indexing in `list_of_items`:\n",
      "\n",
      "![python list indexing](files/graphics/python_list_indexing.png)\n",
      "\n",
      "For most purposes, we use *positive indexing* and use the blue colored index for each boxcar. \n",
      "\n",
      "On the other hand, *negative indexing* (red color indexes) are useful if we are focused on boxcars near the end of the train.\n",
      "\n",
      "We can get one or more values from a list by *indexing* into it:\n",
      "\n",
      "The general way to index in Python uses the following convention `my_list[start:end:step]`"
     ]
    },
    {
     "cell_type": "markdown",
     "metadata": {},
     "source": [
      "##### Exercise\n",
      "\n",
      "Try out the following examples, one by one, in code cells:\n",
      "\n",
      "    list_of_items[1:3]\n",
      "    list_of_items[0:4]\n",
      "    list_of_items[2:]\n",
      "    list_of_items[:4]\n",
      "    list_of_items[-1]\n",
      "    list_of_items[::2]\n",
      "    list_of_items[3:-2]\n",
      "    \n",
      "Predict the results beforehand and then explain each of the results to your programming partner."
     ]
    },
    {
     "cell_type": "code",
     "collapsed": false,
     "input": [
      "print list_of_items\n",
      "print list_of_items[3:8]\n",
      "print list_of_items[4:]\n",
      "print list_of_items[:7]\n",
      "print list_of_items[-1]\n",
      "print list_of_items[::2]\n",
      "print list_of_items[3:-2]"
     ],
     "language": "python",
     "metadata": {},
     "outputs": [
      {
       "output_type": "stream",
       "stream": "stdout",
       "text": [
        "[12.1, 'AZ', -3, 15.1, 7, -2.5, 'cat']\n",
        "[15.1, 7, -2.5, 'cat']\n",
        "[7, -2.5, 'cat']\n",
        "[12.1, 'AZ', -3, 15.1, 7, -2.5, 'cat']\n",
        "cat\n",
        "[12.1, -3, 7, 'cat']\n",
        "[15.1, 7]\n"
       ]
      }
     ],
     "prompt_number": 9
    },
    {
     "cell_type": "markdown",
     "metadata": {},
     "source": [
      "We can store almost anything in a Python list, even other lists:"
     ]
    },
    {
     "cell_type": "code",
     "collapsed": false,
     "input": [
      "things = [1.2345, '\u0e21\u0e2b\u0e32\u0e27\u0e34\u0e17\u0e22\u0e32\u0e25\u0e31\u0e22\u0e19\u0e40\u0e23\u0e28\u0e27\u0e23', -10.8, [1,2,3], 'Naresuan University']"
     ],
     "language": "python",
     "metadata": {},
     "outputs": [],
     "prompt_number": 10
    },
    {
     "cell_type": "code",
     "collapsed": false,
     "input": [
      "print things[4]\n",
      "print things[1]\n",
      "print things[3]"
     ],
     "language": "python",
     "metadata": {},
     "outputs": [
      {
       "output_type": "stream",
       "stream": "stdout",
       "text": [
        "Naresuan University\n",
        "\u0e21\u0e2b\u0e32\u0e27\u0e34\u0e17\u0e22\u0e32\u0e25\u0e31\u0e22\u0e19\u0e40\u0e23\u0e28\u0e27\u0e23\n",
        "[1, 2, 3]\n"
       ]
      }
     ],
     "prompt_number": 11
    },
    {
     "cell_type": "markdown",
     "metadata": {},
     "source": [
      "Let's now create a list of our favorite numbers:"
     ]
    },
    {
     "cell_type": "code",
     "collapsed": false,
     "input": [
      "favorite_numbers = [8e-5, 3.1415, 2.718, -1000, 0.0111, 1.0e3, 14.2, -101, 0, 18]\n",
      "print favorite_numbers"
     ],
     "language": "python",
     "metadata": {},
     "outputs": [
      {
       "output_type": "stream",
       "stream": "stdout",
       "text": [
        "[8e-05, 3.1415, 2.718, -1000, 0.0111, 1000.0, 14.2, -101, 0, 18]\n"
       ]
      }
     ],
     "prompt_number": 12
    },
    {
     "cell_type": "code",
     "collapsed": false,
     "input": [
      "y = [1,4,2,-10]\n",
      "print y\n",
      "y.append(-1000)\n",
      "print y"
     ],
     "language": "python",
     "metadata": {},
     "outputs": [
      {
       "output_type": "stream",
       "stream": "stdout",
       "text": [
        "[1, 4, 2, -10]\n",
        "[1, 4, 2, -10, -1000]\n"
       ]
      }
     ],
     "prompt_number": 13
    },
    {
     "cell_type": "markdown",
     "metadata": {},
     "source": [
      "Here are some of the *methods* and functions we can use with lists:\n",
      "\n",
      "* `list.append(elem)` -- adds a single element to the end of the list. Common error: does not return the new list, just modifies the original.\n",
      "* `list.insert(index, elem`) -- inserts the element at the given index, shifting elements to the right.\n",
      "* `list.extend(list2)` adds the elements in list2 to the end of the list. Using + or += on a list is similar to using `extend()`.\n",
      "* `list.index(elem)` -- searches for the given element from the start of the list and returns its index.\n",
      "* `list.remove(elem)` -- searches for the first instance of the given element and removes it\n",
      "* `new_list = sorted(list)` -- returns a new sorted list\n",
      "* `list.reverse()` -- reverses the list in place (does not return it)\n"
     ]
    },
    {
     "cell_type": "markdown",
     "metadata": {},
     "source": [
      "We can get a complete list using the `dir` function:"
     ]
    },
    {
     "cell_type": "code",
     "collapsed": false,
     "input": [
      "dir(list)"
     ],
     "language": "python",
     "metadata": {},
     "outputs": [
      {
       "metadata": {},
       "output_type": "pyout",
       "prompt_number": 14,
       "text": [
        "['__add__',\n",
        " '__class__',\n",
        " '__contains__',\n",
        " '__delattr__',\n",
        " '__delitem__',\n",
        " '__delslice__',\n",
        " '__doc__',\n",
        " '__eq__',\n",
        " '__format__',\n",
        " '__ge__',\n",
        " '__getattribute__',\n",
        " '__getitem__',\n",
        " '__getslice__',\n",
        " '__gt__',\n",
        " '__hash__',\n",
        " '__iadd__',\n",
        " '__imul__',\n",
        " '__init__',\n",
        " '__iter__',\n",
        " '__le__',\n",
        " '__len__',\n",
        " '__lt__',\n",
        " '__mul__',\n",
        " '__ne__',\n",
        " '__new__',\n",
        " '__reduce__',\n",
        " '__reduce_ex__',\n",
        " '__repr__',\n",
        " '__reversed__',\n",
        " '__rmul__',\n",
        " '__setattr__',\n",
        " '__setitem__',\n",
        " '__setslice__',\n",
        " '__sizeof__',\n",
        " '__str__',\n",
        " '__subclasshook__',\n",
        " 'append',\n",
        " 'count',\n",
        " 'extend',\n",
        " 'index',\n",
        " 'insert',\n",
        " 'pop',\n",
        " 'remove',\n",
        " 'reverse',\n",
        " 'sort']"
       ]
      }
     ],
     "prompt_number": 14
    },
    {
     "cell_type": "markdown",
     "metadata": {},
     "source": [
      "Ignore the methods with `__` in them. They are not usually needed, but can be very powerful."
     ]
    },
    {
     "cell_type": "markdown",
     "metadata": {},
     "source": [
      "To add items to the end of our `list_of_items` list, we could do the following:"
     ]
    },
    {
     "cell_type": "code",
     "collapsed": false,
     "input": [
      "list_of_items.append('durian')\n",
      "list_of_items.append('mangosteen')\n",
      "print list_of_items"
     ],
     "language": "python",
     "metadata": {},
     "outputs": [
      {
       "output_type": "stream",
       "stream": "stdout",
       "text": [
        "[12.1, 'AZ', -3, 15.1, 7, -2.5, 'cat', 'durian', 'mangosteen']\n"
       ]
      }
     ],
     "prompt_number": 15
    },
    {
     "cell_type": "markdown",
     "metadata": {},
     "source": [
      "If we wanted to sort our list of favorite numbers and get the result, we could do the following:"
     ]
    },
    {
     "cell_type": "code",
     "collapsed": false,
     "input": [
      "print favorite_numbers\n",
      "sorted_favorite_numbers = sorted(favorite_numbers)\n",
      "print sorted_favorite_numbers"
     ],
     "language": "python",
     "metadata": {},
     "outputs": [
      {
       "output_type": "stream",
       "stream": "stdout",
       "text": [
        "[8e-05, 3.1415, 2.718, -1000, 0.0111, 1000.0, 14.2, -101, 0, 18]\n",
        "[-1000, -101, 0, 8e-05, 0.0111, 2.718, 3.1415, 14.2, 18, 1000.0]\n"
       ]
      }
     ],
     "prompt_number": 16
    },
    {
     "cell_type": "markdown",
     "metadata": {},
     "source": [
      "Since this is a list, we can loop through the values:"
     ]
    },
    {
     "cell_type": "code",
     "collapsed": false,
     "input": [
      "for num in sorted_favorite_numbers:\n",
      "    print num**2"
     ],
     "language": "python",
     "metadata": {},
     "outputs": [
      {
       "output_type": "stream",
       "stream": "stdout",
       "text": [
        "1000000\n",
        "10201\n",
        "0\n",
        "6.4e-09\n",
        "0.00012321\n",
        "7.387524\n",
        "9.86902225\n",
        "201.64\n",
        "324\n",
        "1000000.0\n"
       ]
      }
     ],
     "prompt_number": 17
    },
    {
     "cell_type": "markdown",
     "metadata": {},
     "source": [
      "We can also get the length of a list (the number of boxcars in the train) using the `len` function:"
     ]
    },
    {
     "cell_type": "code",
     "collapsed": false,
     "input": [
      "len(sorted_favorite_numbers)"
     ],
     "language": "python",
     "metadata": {},
     "outputs": [
      {
       "metadata": {},
       "output_type": "pyout",
       "prompt_number": 18,
       "text": [
        "10"
       ]
      }
     ],
     "prompt_number": 18
    },
    {
     "cell_type": "markdown",
     "metadata": {},
     "source": [
      "##### Exercise\n",
      "\n",
      "Using our `things` list, try out the `extend`, `insert`, and `remove` methods."
     ]
    },
    {
     "cell_type": "code",
     "collapsed": false,
     "input": [],
     "language": "python",
     "metadata": {},
     "outputs": [],
     "prompt_number": 18
    },
    {
     "cell_type": "markdown",
     "metadata": {},
     "source": [
      "---"
     ]
    },
    {
     "cell_type": "markdown",
     "metadata": {},
     "source": [
      "Another data structure that is **very useful** in Python is the `dictionary`, also called a `dict`.\n",
      "\n",
      "A `dictionary` has a key and associated value. \n",
      "\n",
      "Imagine that we want to keep track of animal names and ID numbers:\n",
      "\n",
      "| ID   | Name      |\n",
      "|------|-----------|\n",
      "| a102 | zebra     | \n",
      "| a229 | chicken   | \n",
      "| a708 | mouse     |\n",
      "| a104 | elephant  | \n",
      "| a361 | squirrel  |\n",
      "\n",
      "In this case, let's make the `ID` the key and the animal `name` the value.\n",
      "\n",
      "We could create a `dictionary` by using comma-separated {'key': 'value'} pairs as follows:"
     ]
    },
    {
     "cell_type": "code",
     "collapsed": false,
     "input": [
      "animals = {'a102': 'zebra',\n",
      "           'a229': 'chicken', \n",
      "           'a708': 'mouse',\n",
      "           'a104': 'elephant',\n",
      "           'a361': 'squirrel',}\n",
      "\n",
      "print animals"
     ],
     "language": "python",
     "metadata": {},
     "outputs": [
      {
       "output_type": "stream",
       "stream": "stdout",
       "text": [
        "{'a708': 'mouse', 'a104': 'elephant', 'a102': 'zebra', 'a229': 'chicken', 'a361': 'squirrel'}\n"
       ]
      }
     ],
     "prompt_number": 19
    },
    {
     "cell_type": "markdown",
     "metadata": {},
     "source": [
      "One way to see this *mapping* of IDs to names graphically is as follows:\n",
      "\n",
      "![animal dict](files/graphics/python_dict.png)"
     ]
    },
    {
     "cell_type": "markdown",
     "metadata": {},
     "source": [
      "Now, we can get the name of the animal, just by knowing the ID:"
     ]
    },
    {
     "cell_type": "code",
     "collapsed": false,
     "input": [
      "animals['a708']"
     ],
     "language": "python",
     "metadata": {},
     "outputs": [
      {
       "metadata": {},
       "output_type": "pyout",
       "prompt_number": 22,
       "text": [
        "'mouse'"
       ]
      }
     ],
     "prompt_number": 22
    },
    {
     "cell_type": "markdown",
     "metadata": {},
     "source": [
      "We can also list the keys, values, and the pairs: "
     ]
    },
    {
     "cell_type": "code",
     "collapsed": false,
     "input": [
      "print animals.keys()\n",
      "print animals.values()\n",
      "print animals.items()"
     ],
     "language": "python",
     "metadata": {},
     "outputs": [
      {
       "output_type": "stream",
       "stream": "stdout",
       "text": [
        "['a708', 'a104', 'a102', 'a229', 'a361']\n",
        "['mouse', 'elephant', 'zebra', 'chicken', 'squirrel']\n",
        "[('a708', 'mouse'), ('a104', 'elephant'), ('a102', 'zebra'), ('a229', 'chicken'), ('a361', 'squirrel')]\n"
       ]
      }
     ],
     "prompt_number": 23
    },
    {
     "cell_type": "markdown",
     "metadata": {},
     "source": [
      "##### Exercise\n",
      "\n",
      "For our animals dictionary, create a new dictionary with the animal names as the keys and the IDs as the values.\n",
      "\n",
      "Then, through Python code, find the ID of the zebra."
     ]
    },
    {
     "cell_type": "code",
     "collapsed": false,
     "input": [
      "animals2 = {}"
     ],
     "language": "python",
     "metadata": {},
     "outputs": [],
     "prompt_number": 21
    },
    {
     "cell_type": "code",
     "collapsed": false,
     "input": [
      "test_data = {'Aug20': [2.3, 12.3, 17.2]}"
     ],
     "language": "python",
     "metadata": {},
     "outputs": [],
     "prompt_number": 24
    },
    {
     "cell_type": "markdown",
     "metadata": {},
     "source": [
      "##### Homework\n",
      "\n",
      "Suppose you would like to add a new animal to the `dict`. How would you do it?\n",
      "\n",
      "How can you find out what methods are available for a `dictionary`?\n",
      "\n",
      "Hint: The way you determine the methods is the same for all Python objects, like a `list`.\n"
     ]
    },
    {
     "cell_type": "code",
     "collapsed": false,
     "input": [],
     "language": "python",
     "metadata": {},
     "outputs": [],
     "prompt_number": 21
    }
   ],
   "metadata": {}
  }
 ]
}