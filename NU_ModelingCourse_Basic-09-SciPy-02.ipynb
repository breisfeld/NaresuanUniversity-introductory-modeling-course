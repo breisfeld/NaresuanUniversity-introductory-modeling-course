{
 "metadata": {
  "name": ""
 },
 "nbformat": 3,
 "nbformat_minor": 0,
 "worksheets": [
  {
   "cells": [
    {
     "cell_type": "markdown",
     "metadata": {},
     "source": [
      "![Naresuan University logo](files/graphics/nu_logo.png)"
     ]
    },
    {
     "cell_type": "markdown",
     "metadata": {
      "module": {
       "author": "Brad Reisfeld",
       "author_email": "brad.reisfeld@colostate.edu",
       "notebook_title": "SciPy"
      }
     },
     "source": [
      "# SciPy"
     ]
    },
    {
     "cell_type": "markdown",
     "metadata": {},
     "source": [
      "## Major Topics\n",
      "\n",
      "* Optimization and curve fitting\n",
      "* Solutions of ordinary differential equations\n",
      "* SymPy: Not part of SciPy, but useful (... and cool)"
     ]
    },
    {
     "cell_type": "markdown",
     "metadata": {},
     "source": [
      "## Learning Objectives\n",
      "\n",
      "Students successfully completing this session will be able to...\n",
      "\n",
      "* conduct an optimization and/or curve fitting exercise using SciPy\n",
      "* solve a single differential equation or a system of differential equations using SciPy"
     ]
    },
    {
     "cell_type": "markdown",
     "metadata": {},
     "source": [
      "---"
     ]
    },
    {
     "cell_type": "code",
     "collapsed": false,
     "input": [
      "import scipy as sp"
     ],
     "language": "python",
     "metadata": {},
     "outputs": [],
     "prompt_number": 2
    },
    {
     "cell_type": "markdown",
     "metadata": {},
     "source": [
      "## Optimization\n",
      "\n",
      "In the simplest case, an optimization problem consists of maximizing or minimizing a function by systematically choosing input values and computing the value of the function.\n",
      "\n",
      "Optimization is a useful tool in many areas of science and engineering to select the best element from some set of available alternatives. "
     ]
    },
    {
     "cell_type": "markdown",
     "metadata": {},
     "source": [
      "---"
     ]
    },
    {
     "cell_type": "markdown",
     "metadata": {},
     "source": [
      "Relevant function and/or module: `scipy.optimize`\n",
      "\n",
      "The documentation for this module is [here](http://docs.scipy.org/doc/scipy/reference/tutorial/optimize.html). \n",
      "\n",
      "Also remember that you can execute the following in a Code cell to get more information:\n",
      "\n",
      "    import scipy.optimize\n",
      "    help(scipy.optimize)"
     ]
    },
    {
     "cell_type": "code",
     "collapsed": false,
     "input": [
      "import scipy.optimize as spo"
     ],
     "language": "python",
     "metadata": {},
     "outputs": [],
     "prompt_number": 3
    },
    {
     "cell_type": "markdown",
     "metadata": {},
     "source": [
      "## Finding the Point at which a Function Takes on a Minimum or Maximum Value\n",
      "\n",
      "Functions that can assist in optimization are part of the `scipy.optimize` module."
     ]
    },
    {
     "cell_type": "markdown",
     "metadata": {},
     "source": [
      "#### Example\n",
      "\n",
      "Suppose that you are in charge of a laboratory reactor that contains two chemical species. \n",
      "\n",
      "Through a series of studies, you have found that the pressure in the reactor depends on the concentration of the species in the following manner: \n",
      "\n",
      "$$P = C_1^2 + 1.2\\,C_2^2 - 23\\,{C_1} - 15\\,{C_2} + 1200$$\n",
      "\n",
      "where $P$ is the pressure, and $C_{1}$ and $C_{2}$ are the concentrations of species 1 and 2, respectively.\n",
      "\n",
      "For safety, you would like to operate the reactor at the chemical concentrations that minimize the pressure."
     ]
    },
    {
     "cell_type": "markdown",
     "metadata": {},
     "source": [
      "Let's fist write a function to compute the pressure based on an input of $C_1$ and $C_2$."
     ]
    },
    {
     "cell_type": "code",
     "collapsed": false,
     "input": [
      "def calc_pressure(C1, C2):\n",
      "    P = C1**2 + 1.2*C2**2 - 23*C1 - 15*C2 + 1200\n",
      "    return P"
     ],
     "language": "python",
     "metadata": {},
     "outputs": [],
     "prompt_number": 16
    },
    {
     "cell_type": "code",
     "collapsed": false,
     "input": [
      "print calc_pressure(1,2)\n",
      "print calc_pressure(2,2)"
     ],
     "language": "python",
     "metadata": {},
     "outputs": [
      {
       "output_type": "stream",
       "stream": "stdout",
       "text": [
        "1152.8\n",
        "1132.8\n"
       ]
      }
     ],
     "prompt_number": 19
    },
    {
     "cell_type": "markdown",
     "metadata": {},
     "source": [
      "We can also write this so that we have asingle `list` input that contains both $C_1$ and $C_2$. This will be the format we will need for optimization."
     ]
    },
    {
     "cell_type": "code",
     "collapsed": false,
     "input": [
      "def calc_pressure2(C1C2):\n",
      "    C1 = C1C2[0]\n",
      "    C2 = C1C2[1]\n",
      "    P = C1**2 + 1.2*C2**2 - 23*C1 - 15*C2 + 1200\n",
      "    return P"
     ],
     "language": "python",
     "metadata": {},
     "outputs": [],
     "prompt_number": 22
    },
    {
     "cell_type": "code",
     "collapsed": false,
     "input": [
      "print calc_pressure2([1,2])"
     ],
     "language": "python",
     "metadata": {},
     "outputs": [
      {
       "output_type": "stream",
       "stream": "stdout",
       "text": [
        "1152.8\n"
       ]
      }
     ],
     "prompt_number": 37
    },
    {
     "cell_type": "code",
     "collapsed": false,
     "input": [
      "# To start, we need to write an objective function\n",
      "# an objective function is the function we want to\n",
      "# minimize. We already have this: calc_pressure2.\n",
      "\n",
      "# We then need to provide guesses for the \n",
      "# concentrations that will minimize the pressure\n",
      "C1_0 = 1\n",
      "C2_0 = 1\n",
      "\n",
      "# Finally, we call scipy's optimizing function `minimize`\n",
      "soln = spo.minimize(calc_pressure2, [C1_0, C2_0])\n",
      "\n",
      "mysoln = soln.x\n",
      "print mysoln"
     ],
     "language": "python",
     "metadata": {},
     "outputs": [
      {
       "output_type": "stream",
       "stream": "stdout",
       "text": [
        "  status: 0\n",
        " success: True\n",
        "    njev: 5\n",
        "    nfev: 20\n",
        "     fun: 1020.8750000000023\n",
        "       x: array([ 11.49999868,   6.2499993 ])\n",
        " message: 'Optimization terminated successfully.'\n",
        "    hess: array([[ 0.69297152, -0.26801611],\n",
        "       [-0.26801611,  0.78891087]])\n",
        "     jac: array([ 0.,  0.])\n",
        "[ 11.49999868   6.2499993 ]\n"
       ]
      }
     ],
     "prompt_number": 41
    },
    {
     "cell_type": "markdown",
     "metadata": {},
     "source": [
      "**Checking the result**\n",
      "\n",
      "We should check that this is, indeed, the desired result. As a starting check, let's see if this value is *small* compared to the values we found before:"
     ]
    },
    {
     "cell_type": "code",
     "collapsed": false,
     "input": [
      "print calc_pressure2(mysoln)"
     ],
     "language": "python",
     "metadata": {},
     "outputs": [
      {
       "output_type": "stream",
       "stream": "stdout",
       "text": [
        "1020.875\n"
       ]
      }
     ],
     "prompt_number": 44
    },
    {
     "cell_type": "markdown",
     "metadata": {},
     "source": [
      "We can also get the value of the function at these optimal parameters from `soln.fun`:"
     ]
    },
    {
     "cell_type": "code",
     "collapsed": false,
     "input": [
      "print soln.fun"
     ],
     "language": "python",
     "metadata": {},
     "outputs": [
      {
       "output_type": "stream",
       "stream": "stdout",
       "text": [
        "1020.875\n"
       ]
      }
     ],
     "prompt_number": 45
    },
    {
     "cell_type": "markdown",
     "metadata": {},
     "source": [
      "These results tell us that we should operate the reactor at the following conditions to minimize the pressure: $C_{1} = 11.5$, $C_{2} = 6.25$.\n",
      "\n",
      "Of course, we should check these numbers, include and verify appropriate units and uncertainties, and perform a more complete analysis before proceeding."
     ]
    },
    {
     "cell_type": "markdown",
     "metadata": {},
     "source": [
      "---"
     ]
    },
    {
     "cell_type": "markdown",
     "metadata": {},
     "source": [
      "## Fitting Data to Functions\n",
      "\n",
      "Functions that can assist in fitting data to functions are part of the `scipy.optimize` module. "
     ]
    },
    {
     "cell_type": "markdown",
     "metadata": {},
     "source": [
      "#### Example\n",
      "\n",
      "Permeability is an important property governing the flow of liquids through soil. It has important implications in a number of areas, including pollutant transport in soils and aquifers.\n",
      "\n",
      "The permeability is given by the following definition:\n",
      "\n",
      "$$\\kappa  = K\\frac{\\mu }{{\\rho \\cdot g}}$$\n",
      "\n",
      "where\n",
      "\n",
      "* $\\kappa$ is the permeability, $m^{2}$\n",
      "* $K$ is the hydraulic conductivity, $\\frac{m}{s}$\n",
      "* $\\mu$ is the dynamic viscosity of the fluid, $\\frac{kg}{m \\cdot s}$\n",
      "* $\\rho$ is the density of the fluid, $\\frac{kg}{m^{3}}$\n",
      "* $g$ is the acceleration due to gravity, $\\frac{m}{s^{2}}$\n",
      "\n",
      "We take as a model for $K$ the expression developed by Kruger:\n",
      "\n",
      "$$K = 240\\frac{n}{{{{\\left( {1 - n} \\right)}^2}}}d_e^2$$\n",
      "\n",
      "where $d_{e}$ is the effective particle diameter in mm and $n$ is the fractional percent porosity. Here, $K$ has units of m/day.\n",
      "\n",
      "We would like to see if a more general model will describe the data more accurately. The proposed model is\n",
      "\n",
      "$$K = {c_1}\\frac{n}{{{{\\left( {1 - n} \\right)}^{{c_2}}}}}d_e^{c_{3}}$$\n",
      "\n",
      "where $c_{i}$ are the constants to be determined through curve fitting."
     ]
    },
    {
     "cell_type": "markdown",
     "metadata": {},
     "source": [
      "Before fitting the data, let's load them into a variable `soil_data` and plot them:"
     ]
    },
    {
     "cell_type": "code",
     "collapsed": false,
     "input": [
      "%run ./code/load_soil_data.py ./data/soil_data.csv"
     ],
     "language": "python",
     "metadata": {},
     "outputs": [
      {
       "metadata": {},
       "output_type": "display_data",
       "png": "[encoded data removed]",
       "text": [
        "<matplotlib.figure.Figure at 0x839d0b8>"
       ]
      }
     ],
     "prompt_number": 5
    },
    {
     "cell_type": "code",
     "collapsed": false,
     "input": [
      "soil_data[0:2,:]  # n, de, kappa"
     ],
     "language": "python",
     "metadata": {},
     "outputs": [
      {
       "metadata": {},
       "output_type": "pyout",
       "prompt_number": 6,
       "text": [
        "array([[  0.298 ,   0.0949,   1.955 ],\n",
        "       [  0.295 ,   0.3323,  16.668 ]])"
       ]
      }
     ],
     "prompt_number": 6
    },
    {
     "cell_type": "markdown",
     "metadata": {},
     "source": [
      "Let's use optimization to solve for the unknown parameters, $c_{1}$, $c_{2}$, $c_{3}$ and compare results of this 'new' model with those from the existing model from Kruger."
     ]
    },
    {
     "cell_type": "code",
     "collapsed": false,
     "input": [
      "def permeability(ci, n, de):\n",
      "    \"\"\"determine the soil permeability [=] m^2\n",
      "    \"\"\"\n",
      "    mu = 0.001003 # kg/m-s (20 degC)\n",
      "    rho = 998.29  # kg/m^3 (20 degC)\n",
      "    g = 9.81      # m/s^2\n",
      "    alpha = mu/(rho*g)\n",
      "    c1, c2, c3 = ci\n",
      "    K = c1*(n/(1-n)**c2)*de**c3\n",
      "    conversion = 1./(24*60*60)    # m/day to m/s\n",
      "    darcy_per_msq = 1.013249966e+12\n",
      "    K = K*conversion\n",
      "    perm = K*alpha*darcy_per_msq\n",
      "    return perm\n",
      "\n",
      "def diff_func(ci, n, de, perm_measured):\n",
      "    perm_model = permeability(ci, n, de)\n",
      "    ssq = ((perm_measured - perm_model)/perm_measured)**2\n",
      "    diff = np.sum(ssq)\n",
      "    return diff\n",
      "\n",
      "n = soil_data[:,0]\n",
      "de = soil_data[:,1]\n",
      "perm_measured = soil_data[:,2]\n",
      "\n",
      "# model with base params\n",
      "kruger_params = [240., 2., 2.]\n",
      "kruger_model = permeability(kruger_params, n, de)\n",
      "kruger_diff = diff_func(kruger_params, n, de, perm_measured)\n",
      "\n",
      "# model with proposed params\n",
      "ranges = [(0,1000), (-5,5), (0,5)]\n",
      "# there are many solvers in scipy.optimize.\n",
      "# 'brute' is a crude solver, but should find the global minimum\n",
      "new_params = spo.brute(diff_func, ranges, Ns=30, \n",
      "                            args=(n, de, perm_measured))\n",
      "new_model = permeability(new_params, n, de)\n",
      "new_diff = diff_func(new_params, n, de, perm_measured)\n",
      "\n",
      "print 'Kruger params:', kruger_params\n",
      "print 'New params:', new_params\n",
      "\n",
      "# display the results\n",
      "data_specs = [('Kruger', kruger_model, kruger_diff),\n",
      "              ('New', new_model, new_diff)]\n",
      "fig, axes = plt.subplots(1,len(data_specs))\n",
      "for i, (name, dat, err) in enumerate(data_specs):\n",
      "    axes[i].plot(perm_measured, dat, 'bo')\n",
      "    axes[i].plot([0.1,1000], [0.1,1000], 'r--')\n",
      "    axes[i].set_xscale('log')\n",
      "    axes[i].set_yscale('log')\n",
      "    axes[i].set_xlabel('Permeability - measured')\n",
      "    axes[i].set_ylabel('Permeability - model')\n",
      "    axes[i].set_title('%s model error = %.1f' % (name,err))\n",
      "plt.tight_layout()"
     ],
     "language": "python",
     "metadata": {},
     "outputs": [
      {
       "output_type": "stream",
       "stream": "stdout",
       "text": [
        "Kruger params: [240.0, 2.0, 2.0]\n",
        "New params: [ 1513.48876495    -2.10438554     1.97417381]\n"
       ]
      },
      {
       "metadata": {},
       "output_type": "display_data",
       "png": "[encoded data removed]",
       "text": [
        "<matplotlib.figure.Figure at 0x8b9db00>"
       ]
      }
     ],
     "prompt_number": 7
    },
    {
     "cell_type": "markdown",
     "metadata": {},
     "source": [
      "##### Exercise\n",
      "\n",
      "Develop an improved model for the hydraulic conductivity and test it in the framework above.\n",
      "\n",
      "How would you include a model with fewer (or greater) than three parameters?"
     ]
    },
    {
     "cell_type": "markdown",
     "metadata": {},
     "source": [
      "---"
     ]
    },
    {
     "cell_type": "markdown",
     "metadata": {},
     "source": [
      "## Ordinary Differential Equations\n",
      "\n",
      "An ordinary differential equation (ODE) is an equation containing a function of one independent variable and its derivatives. ODEs arise in almost every area of science and engineering, principally describing processes or phenomena whose properties vary over time or space.\n",
      "\n",
      "Most ODE systems cannot be solved in closed form and must be solved using numerical methods, like those in SciPy."
     ]
    },
    {
     "cell_type": "markdown",
     "metadata": {},
     "source": [
      "---"
     ]
    },
    {
     "cell_type": "markdown",
     "metadata": {},
     "source": [
      "Relevant function and/or module: `odeint` in `scipy.integrate`\n",
      "\n",
      "The documentation for this function is [here](http://docs.scipy.org/doc/scipy/reference/generated/scipy.integrate.odeint.html#scipy.integrate.odeint). \n",
      "\n",
      "Also remember that you can do the following in a Code cell:\n",
      "\n",
      "    from scipy.integrate import odeint\n",
      "    help(odeint)"
     ]
    },
    {
     "cell_type": "code",
     "collapsed": false,
     "input": [
      "import scipy.integrate as spi\n",
      "import numpy as np"
     ],
     "language": "python",
     "metadata": {},
     "outputs": [],
     "prompt_number": 8
    },
    {
     "cell_type": "markdown",
     "metadata": {},
     "source": [
      "#### Example\n",
      "\n",
      "**Predator-prey modeling**\n",
      "\n",
      "The Lotka-Volterra equations describe a predator-prey (or parasite-host) model. This model is used in a variety of applications, including ecology and economic theory.\n",
      "\n",
      "The model equations are\n",
      "\n",
      "$$\\begin{array}{l}\n",
      "\\frac{{dx}}{{dt}} = x(\\alpha  - \\beta y)\\\\\n",
      "\\frac{{dy}}{{dt}} =  - y(\\gamma  - \\delta x)\n",
      "\\end{array}$$\n",
      "\n",
      "where $x$ is the population of prey, $y$ is the population of predators, and $t$ is time\n",
      "\n",
      "The model parameters are\n",
      "\n",
      "* $\\alpha$ : the growth rate of prey\n",
      "* $\\beta$ : the rate at which predators destroy prey\n",
      "* $\\gamma$ : the death rate of predators\n",
      "* $\\delta$ : the rate at which predators increase by consuming prey"
     ]
    },
    {
     "cell_type": "markdown",
     "metadata": {},
     "source": [
      "Let's define a function defining the model equations and use the `odeint` function in `scipy.integrate` to solve the equation system."
     ]
    },
    {
     "cell_type": "code",
     "collapsed": false,
     "input": [
      "# define parameters\n",
      "alpha = 1.0\n",
      "beta = 0.2\n",
      "gamma = 1.5\n",
      "delta = 0.075\n",
      "\n",
      "num_prey = 10  # initial value of the prey population\n",
      "num_pred = 5   # initial value of the predator population\n",
      "\n",
      "# define the model equation system\n",
      "def model_eqns(vars, t):\n",
      "    x, y = vars[0], vars[1]\n",
      "    dx_dt = x * (alpha - beta * y)\n",
      "    dy_dt = -y * (gamma - delta * x) \n",
      "    dvars_dt = np.array([dx_dt, dy_dt]) \n",
      "    return dvars_dt\n",
      "\n",
      "# integrate the model equations\n",
      "time = np.linspace(0, 15,  1000)  # time\n",
      "vars0 = np.array([num_prey, num_pred])  # initial conditions\n",
      "\n",
      "#solve the system\n",
      "soln = spi.odeint(model_eqns, vars0, time)\n",
      "x, y = soln.T\n",
      "\n",
      "# plot the evolution of both populations\n",
      "fig, axes = plt.subplots()\n",
      "axes.plot(time, x, 'r-', label='Prey')\n",
      "axes.plot(time, y, 'b-', label='Predator')\n",
      "axes.grid()\n",
      "axes.legend(loc='best')\n",
      "axes.set_xlabel('Time')\n",
      "axes.set_ylabel('Population')\n",
      "axes.set_title('Interaction of predator and prey populations')\n",
      "fig.savefig('./results/pred_prey.png')"
     ],
     "language": "python",
     "metadata": {},
     "outputs": [
      {
       "metadata": {},
       "output_type": "display_data",
       "png": "[encoded data removed]",
       "text": [
        "<matplotlib.figure.Figure at 0x13054be0>"
       ]
      }
     ],
     "prompt_number": 32
    },
    {
     "cell_type": "markdown",
     "metadata": {},
     "source": [
      "##### Exercise\n",
      "\n",
      "With your partner, experiment with different parameter values to see the effect on the predator and prey populations.\n",
      "\n",
      "Under what conditions do the predators die out?\n",
      "\n",
      "Are there conditions in which the predator and prey populations remain constant at their initial values?"
     ]
    },
    {
     "cell_type": "markdown",
     "metadata": {},
     "source": [
      "---"
     ]
    },
    {
     "cell_type": "markdown",
     "metadata": {},
     "source": [
      "## Sympy\n",
      "\n",
      "![SymPy logo](files/graphics/sympy_logo.png)\n",
      "\n",
      "SymPy is a Python library for symbolic mathematics. It aims to become a full-featured computer algebra system (CAS) while keeping the code as simple as possible in order to be comprehensible and easily extensible. \n",
      "\n",
      "Aside from basic computer algebra, SymPy has functionality in\n",
      "\n",
      "* calculus\n",
      "* combinatorics\n",
      "* differential geometry\n",
      "* lie algebras\n",
      "* logic\n",
      "* number theory\n",
      "* physics\n",
      "* statistics\n",
      "* tensor analysis\n",
      "\n",
      "Below are a few examples. There are **many** more capabilities build into the SymPy package.\n",
      "\n",
      "A SymPy documentation can be found [here](http://docs.sympy.org/0.7.3/index.html).\n"
     ]
    },
    {
     "cell_type": "markdown",
     "metadata": {},
     "source": [
      "---"
     ]
    },
    {
     "cell_type": "code",
     "collapsed": false,
     "input": [
      "import sympy as syp\n",
      "syp.init_printing()\n",
      "x, y, w, z = syp.symbols('x y w z')"
     ],
     "language": "python",
     "metadata": {},
     "outputs": [],
     "prompt_number": 10
    },
    {
     "cell_type": "markdown",
     "metadata": {},
     "source": [
      "**Algebra**"
     ]
    },
    {
     "cell_type": "code",
     "collapsed": false,
     "input": [
      "syp.expand((5*x + 2)*(x - 3)*(x**2-4))"
     ],
     "language": "python",
     "metadata": {},
     "outputs": [
      {
       "latex": [
        "$$5 x^{4} - 13 x^{3} - 26 x^{2} + 52 x + 24$$"
       ],
       "metadata": {},
       "output_type": "pyout",
       "png": "[encoded data removed]",
       "prompt_number": 11,
       "text": [
        "   4       3       2            \n",
        "5\u22c5x  - 13\u22c5x  - 26\u22c5x  + 52\u22c5x + 24"
       ]
      }
     ],
     "prompt_number": 11
    },
    {
     "cell_type": "code",
     "collapsed": false,
     "input": [
      "syp.simplify((x**3 + x**2 - x - 1)/(x**2 + 2*x + 1))"
     ],
     "language": "python",
     "metadata": {},
     "outputs": [
      {
       "latex": [
        "$$x - 1$$"
       ],
       "metadata": {},
       "output_type": "pyout",
       "png": "[encoded data removed]",
       "prompt_number": 12,
       "text": [
        "x - 1"
       ]
      }
     ],
     "prompt_number": 12
    },
    {
     "cell_type": "markdown",
     "metadata": {},
     "source": [
      "**Calculus**"
     ]
    },
    {
     "cell_type": "code",
     "collapsed": false,
     "input": [
      "# differentiation\n",
      "syp.diff(syp.exp(z**2)*z**3*syp.cos(z**2)/(z*2*syp.exp(z)), z)"
     ],
     "language": "python",
     "metadata": {},
     "outputs": [
      {
       "latex": [
        "$$- z^{3} e^{- z} e^{z^{2}} \\sin{\\left (z^{2} \\right )} + z^{3} e^{- z} e^{z^{2}} \\cos{\\left (z^{2} \\right )} - \\frac{z^{2} e^{z^{2}}}{2} e^{- z} \\cos{\\left (z^{2} \\right )} + z e^{- z} e^{z^{2}} \\cos{\\left (z^{2} \\right )}$$"
       ],
       "metadata": {},
       "output_type": "pyout",
       "png": "[encoded data removed]",
       "prompt_number": 35,
       "text": [
        "                                                        \u239b 2\u239e                  \n",
        "          \u239b 2\u239e                   \u239b 2\u239e            2  -z  \u239dz \u23a0    \u239b 2\u239e          \n",
        "   3  -z  \u239dz \u23a0    \u239b 2\u239e    3  -z  \u239dz \u23a0    \u239b 2\u239e   z \u22c5\u212f  \u22c5\u212f    \u22c5cos\u239dz \u23a0      -z  \n",
        "- z \u22c5\u212f  \u22c5\u212f    \u22c5sin\u239dz \u23a0 + z \u22c5\u212f  \u22c5\u212f    \u22c5cos\u239dz \u23a0 - \u2500\u2500\u2500\u2500\u2500\u2500\u2500\u2500\u2500\u2500\u2500\u2500\u2500\u2500\u2500\u2500\u2500\u2500\u2500\u2500 + z\u22c5\u212f  \u22c5\u212f\n",
        "                                                         2                    \n",
        "\n",
        "            \n",
        "\u239b 2\u239e        \n",
        "\u239dz \u23a0    \u239b 2\u239e\n",
        "    \u22c5cos\u239dz \u23a0\n",
        "            "
       ]
      }
     ],
     "prompt_number": 35
    },
    {
     "cell_type": "code",
     "collapsed": false,
     "input": [
      "# integration\n",
      "syp.integrate(syp.cos(w)*syp.exp(w), w)"
     ],
     "language": "python",
     "metadata": {},
     "outputs": [
      {
       "latex": [
        "$$\\frac{e^{w}}{2} \\sin{\\left (w \\right )} + \\frac{e^{w}}{2} \\cos{\\left (w \\right )}$$"
       ],
       "metadata": {},
       "output_type": "pyout",
       "png": "[encoded data removed]",
       "prompt_number": 14,
       "text": [
        " w           w       \n",
        "\u212f \u22c5sin(w)   \u212f \u22c5cos(w)\n",
        "\u2500\u2500\u2500\u2500\u2500\u2500\u2500\u2500\u2500 + \u2500\u2500\u2500\u2500\u2500\u2500\u2500\u2500\u2500\n",
        "    2           2    "
       ]
      }
     ],
     "prompt_number": 14
    },
    {
     "cell_type": "markdown",
     "metadata": {},
     "source": [
      "**Differential Equations**\n",
      "\n",
      "$$f''(x) - 2f'(x) + f(x) = \\sin (x)$$"
     ]
    },
    {
     "cell_type": "code",
     "collapsed": false,
     "input": [
      "f, g = syp.symbols('f g', cls=syp.Function)\n",
      "diffeq = syp.Eq(f(x).diff(x, x) - 2*f(x).diff(x) + f(x), syp.sin(x))\n",
      "syp.dsolve(diffeq, f(x))"
     ],
     "language": "python",
     "metadata": {},
     "outputs": [
      {
       "latex": [
        "$$f{\\left (x \\right )} = \\left(C_{1} + C_{2} x\\right) e^{x} + \\frac{1}{2} \\cos{\\left (x \\right )}$$"
       ],
       "metadata": {},
       "output_type": "pyout",
       "png": "[encoded data removed]",
       "prompt_number": 15,
       "text": [
        "                    x   cos(x)\n",
        "f(x) = (C\u2081 + C\u2082\u22c5x)\u22c5\u212f  + \u2500\u2500\u2500\u2500\u2500\u2500\n",
        "                          2   "
       ]
      }
     ],
     "prompt_number": 15
    }
   ],
   "metadata": {}
  }
 ]
}