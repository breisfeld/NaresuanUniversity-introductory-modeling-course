{
 "metadata": {
  "name": ""
 },
 "nbformat": 3,
 "nbformat_minor": 0,
 "worksheets": [
  {
   "cells": [
    {
     "cell_type": "markdown",
     "metadata": {},
     "source": [
      "![Naresuan University logo](files/graphics/nu_logo.png)"
     ]
    },
    {
     "cell_type": "markdown",
     "metadata": {
      "module": {
       "author": "Brad Reisfeld",
       "author_email": "brad.reisfeld@colostate.edu",
       "notebook_title": "Application Examples"
      }
     },
     "source": [
      "# Application Examples and Exercises"
     ]
    },
    {
     "cell_type": "markdown",
     "metadata": {},
     "source": [
      "## Major Topics\n",
      "\n",
      "* modeling exercises in the IPython notebook\n",
      "* modeling exercises that use the Spyder IDE"
     ]
    },
    {
     "cell_type": "markdown",
     "metadata": {},
     "source": [
      "## Learning Objectives\n",
      "\n",
      "Students successfully completing this session will be able to...\n",
      "\n",
      "* conduct simple modeling exercises and/or data analysis tasks using the IPython notebook and SciPy IDE\n",
      "* import and manipulate data using Python and appropriate Python packages\n",
      "* demonstrate the use of Python packages, including matplotlib and SciPy, as part of quantitative modeling tasks"
     ]
    },
    {
     "cell_type": "markdown",
     "metadata": {},
     "source": [
      "---"
     ]
    },
    {
     "cell_type": "markdown",
     "metadata": {},
     "source": [
      "### Another example of the usefulness of computational modeling \n",
      "\n",
      "Pharmacokinetic/pharmacodynamic model of multi-drug treatment for *Mycobacterium tuberculosis* and predicted bacterial killing kinetics ([1]):\n",
      "\n",
      "![TB killing kinetics](files/graphics/tb_pkpd_killing_kinetics.png)"
     ]
    },
    {
     "cell_type": "markdown",
     "metadata": {},
     "source": [
      "---"
     ]
    },
    {
     "cell_type": "markdown",
     "metadata": {},
     "source": [
      "## Examples and exercises\n",
      "\n",
      "* Find a model to predict properties of a material based on experimental data \n",
      "* Estimate drug concentrations using a pharmacokinetic model\n",
      "* Predict the time course of a disease epidemic"
     ]
    },
    {
     "cell_type": "markdown",
     "metadata": {},
     "source": [
      "---"
     ]
    },
    {
     "cell_type": "markdown",
     "metadata": {},
     "source": [
      "#### Find a model to predict material properties based on experimental data \n",
      "\n",
      "We would like to fit some data to a model that will allow the prediction of properties of a chemical. The equation is\n",
      "\n",
      "$$X = c_{1} P  + c_{2} Q + c_{3} E_{s} + c_{4} $$\n",
      "\n",
      "where $X$ is the outcome of the experiment, $P$, $Q$, and $E_{s}$  are material properties, and $c_{i}$ are the unknowns to be fitted.\n",
      "\n"
     ]
    },
    {
     "cell_type": "markdown",
     "metadata": {},
     "source": [
      "##### Exercise\n",
      "\n",
      "The data are contained in the csv file \n",
      "\n",
      "`/ModelingCourses/CourseMaterials/MathematicalModeling/BasicCourse/IPythonNotebooks/data/QSAR_data.csv`\n",
      "\n",
      "or, relative to this notebook\n",
      "\n",
      "`./data/QSAR_data.csv`\n",
      "\n",
      "\n",
      "**Tasks**\n",
      "\n",
      "First, read these data into `pandas` using the `read_csv` function.\n",
      "\n",
      "`chem_data = pandas.read_csv(??)`\n",
      "\n",
      "Extract each of the needed columns, e.g. \n",
      "\n",
      "`X = chem_data[??]\n",
      "P = chem_data[??]\n",
      "...`\n",
      "\n",
      "\n",
      "Use the optimization and curve fitting procedures detailed in the notebook describing SciPy to find the unknowns in the equation above. Use 1.0 as the initial value for each of the unknowns, $c_i$."
     ]
    },
    {
     "cell_type": "markdown",
     "metadata": {},
     "source": [
      "---"
     ]
    },
    {
     "cell_type": "markdown",
     "metadata": {},
     "source": [
      "#### Estimate drug concentrations using a pharmacokinetic model\n",
      "\n",
      "\n",
      "Multiple doses of a drug are given to a patient by intravenous bolus. You wish to predict the time-course concentration of the drug in the patient's blood, assuming that a one-compartment model is appropriate.\n",
      "\n",
      "Assuming first order absorption, the system can be written as\n",
      "\n",
      "$$ C(t) = \\sum\\limits_{i = 1}^N {\\frac{{{D_i}}}{V}\\frac{{{k_a}}}{{{k_a} - k}}\\left[ {{e^{ - k\\left( {t - {t_{{D_i}}}} \\right)}} - {e^{ - {k_a}\\left( {t - {t_{{D_i}}}} \\right)}}} \\right]}  $$\n",
      "\n",
      "where\n",
      "\n",
      "* $C(t)$ is the concentration of the drug in the compartment over time, $t$.\n",
      "* $D_i$ is the $i$th dosage given\n",
      "* $V$ is the volume of distribution in the compartment\n",
      "* $k$ is the elimination rate constant\n",
      "* $k_a$ the absorption rate constant\n",
      "* $t_{D_i}$ is the time at which this dose is given\n",
      "* N is the number of doses\n",
      "* the equation predicts the contribution for $D_i$ only when $t > t_{{D_i}}$\n",
      "\n",
      "Assume that the delay between successive doses is constant and is greater than the infusion duration ($t_{D_{i+1}} - t_{D_{i}} = constant $ and $t_{D_{i+1}} -  t_{D_{i}} > T_{inf_{i}}$ ).\n"
     ]
    },
    {
     "cell_type": "markdown",
     "metadata": {},
     "source": [
      "##### Exercise\n",
      "\n",
      "Write a function that takes $t$, $D_i$, $t_{D_i}$, $V$, $k$, $k_a$ as inputs, computes $C$ at each point in $t$, and makes a plot of $C$ versus $t$.\n",
      "\n",
      "Your function should assume that the values of $t$, $D_i$, and $t_{D_i}$ are given as Python lists or numpy arrays.\n",
      "\n",
      "Demonstrate your function using the following values:\n",
      "\n",
      "* $k = 0.07$ 1/hr\n",
      "* $k_a = 0.25$ 1/hr\n",
      "* $V = 12$ L\n",
      "* $Di = [500, 500, 500]$ mg\n",
      "* $t_{D_{i}} = [4, 16, 22]$ hrs\n",
      "* $t = [0-48]$ hrs\n"
     ]
    },
    {
     "cell_type": "markdown",
     "metadata": {},
     "source": [
      "---"
     ]
    },
    {
     "cell_type": "markdown",
     "metadata": {},
     "source": [
      "#### Predict the time course of a disease epidemic\n",
      "\n",
      "The natural history of many directly transmitted infectious diseases can be appropriately described by a SIR-like model. SIR stands for Susceptible (S), Infected (I) and Recovered (R). Archetypal SIRs are measles or chickenpox, i.e., diseases that confer lifelong immunity. An individual starts his life in the S state and may progress to the I state. The rate of progression of individuals from S to I is called the incidence rate or force of infection, which is a function of contact rate, probability of transmission per contact, and density of infectious individuals. Individuals stay in the infectious period for a certain time and then move to the recovered state where they become immune to new infections. Generally, the removal rate from the infectious class is the inverse of the infectious period (i.e., it is assumed that the duration of infection is exponentially distributed).\n",
      "\n",
      "![SIR model graphic](files/graphics/sir_diagram.png)"
     ]
    },
    {
     "cell_type": "markdown",
     "metadata": {},
     "source": [
      "There are many types of SIR models, here we consider one of the simplest. \n",
      "A single epidemic outbreak is usually far more rapid than the vital dynamics (birth/death) of a population; thus, if the aim is to study the immediate consequences of a single epidemic, one may neglect the birth-death processes. In this case the SIR system described above can be expressed by the following set of ordinary differential equations:"
     ]
    },
    {
     "cell_type": "markdown",
     "metadata": {},
     "source": [
      "$$\\frac{{dS}}{{dt}} = -\\beta  \\cdot S \\cdot I$$\n",
      "\n",
      "$$\\frac{{dI}}{{dt}} = \\beta  \\cdot S \\cdot I - \\gamma  \\cdot I$$\n",
      "\n",
      "$$\\frac{{dR}}{{dt}} = \\gamma  \\cdot I$$"
     ]
    },
    {
     "cell_type": "markdown",
     "metadata": {},
     "source": [
      "Between populations $S$ and $I$, the transition rate is $\\beta \\cdot I$, where $\\beta$ is the contact rate, which takes into the account the probability of getting the disease in a contact between a susceptible and an infectious subject.\n",
      "\n",
      "Between populations $I$ and $R$, the transition rate is $\\gamma$, which is simply the rate of recovery. If the duration of the infection is denoted $D$, then $\\gamma = 1/D$, since an individual experiences one recovery in $D$ units of time.\n",
      "\n",
      "\n",
      "Because we are neglecting birth and death processes in the present model, $S(t) + I(t) + R(t) = {\\rm{Constant}} = N$, indicating that the population, N, is a constant.\n",
      "\n",
      "The dynamics of the infectious class depends on the ratio ${R_0} = N\\frac{\\beta }{\\gamma }$, which is known as the reproduction number (also called basic reproduction ratio). This ratio is derived as the expected number of new infections (these new infections are sometimes called secondary infections) from a single infection in a population where all subjects are susceptible.\n",
      "\n",
      "The role of the basic reproduction number is extremely important. In fact, upon rewriting the equation for infectious individuals as follows:\n",
      "\n",
      "$$\\frac{{dI}}{{dt}} = \\mu  \\cdot ({R_0}S - 1) \\cdot I$$\n",
      "\n",
      "This means that if ${R_0} > \\frac{1}{{S(0)}}$, then $\\frac{{dI}}{{dt}}(0) > 0$. In this case, there will be a proper epidemic outbreak with an increase of the number of the infected individuals. On the contrary, if ${R_0} < \\frac{1}{{S(0)}}$, then $\\frac{{dI}}{{dt}}(0) < 0$. In this case, independent of the initial size of the susceptible population, the disease can never cause a proper epidemic outbreak. "
     ]
    },
    {
     "cell_type": "markdown",
     "metadata": {},
     "source": [
      "##### Exercise\n",
      "\n",
      "With all of that background out of the way, let's conduct some simulations.\n",
      "\n",
      "Let's use the following starting populations:\n",
      "\n",
      "$$S_0 = 1.0$$\n",
      "$$I_0 = 0.1$$\n",
      "$$R_0 = 0.0$$\n",
      "\n",
      "and disease parameters:\n",
      "\n",
      "$$\\beta = 520/365.$$\n",
      "$$\\gamma = 1.0/7$$\n",
      "\n",
      "Once you have your simulations working **and you are confident that they make sense**, vary the disease parameters and see the effect. Try cases for which ${R_0}$ > $\\frac{1}{{S(0)}}$ and cases for which ${R_0}$ < $\\frac{1}{{S(0)}}$.  Do the results make sense?\n",
      "\n",
      "Refer to the lecture notes on 'Solving ordinary differential equations' in the SciPy module if you need a refresher of the appropriate syntax and functions to use.\n",
      "\n"
     ]
    },
    {
     "cell_type": "markdown",
     "metadata": {},
     "source": [
      "---"
     ]
    },
    {
     "cell_type": "markdown",
     "metadata": {},
     "source": [
      "## References\n",
      "\n",
      "[1] : Lyons *et al.*, Gordon Research Conference: Tuberculosis Drug Development, July 21-26, 2013\n",
      "\n"
     ]
    }
   ],
   "metadata": {}
  }
 ]
}