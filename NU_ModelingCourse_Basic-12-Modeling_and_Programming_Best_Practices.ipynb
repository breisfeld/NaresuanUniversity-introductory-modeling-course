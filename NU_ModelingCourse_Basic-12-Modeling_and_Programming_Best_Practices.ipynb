{
 "metadata": {
  "name": ""
 },
 "nbformat": 3,
 "nbformat_minor": 0,
 "worksheets": [
  {
   "cells": [
    {
     "cell_type": "markdown",
     "metadata": {},
     "source": [
      "![Naresuan University logo](files/graphics/nu_logo.png)"
     ]
    },
    {
     "cell_type": "markdown",
     "metadata": {
      "module": {
       "author": "Brad Reisfeld",
       "author_email": "brad.reisfeld@colostate.edu",
       "notebook_title": "Modeling and Programming Best Practices"
      }
     },
     "source": [
      "# Modeling and Programming Best Practices"
     ]
    },
    {
     "cell_type": "markdown",
     "metadata": {},
     "source": [
      "## Major Topics\n",
      "\n",
      "* Overview of best practices in modeling\n",
      "* Python packages for unit and uncertainty analysis\n",
      "* Reproducible research\n",
      "* Documentation\n",
      "* Testing\n",
      "* Revision control"
     ]
    },
    {
     "cell_type": "markdown",
     "metadata": {},
     "source": [
      "## Learning Objectives\n",
      "\n",
      "Students successfully completing this session will be able to...\n",
      "\n",
      "* list important elements of best practices in modeling\n",
      "* conduct a simple analysis including units and uncertainties using relevant Python packages\n",
      "* when modeling, employ practices consistent with reproducible research\n",
      "* demonstrate appropriate documentation in Python programming and IPython notebooks\n",
      "* explain the importance of comprehensive testing in computational research"
     ]
    },
    {
     "cell_type": "markdown",
     "metadata": {},
     "source": [
      "---"
     ]
    },
    {
     "cell_type": "markdown",
     "metadata": {},
     "source": [
      "## Other Useful Packages for Scientific Calculations\n",
      "\n",
      "The handling of units and uncertainties is extremely important in science, technology, engineering, and mathematics (STEM).\n",
      "\n",
      "There are a number of packages in Python to help in this area:\n",
      "\n",
      "* **uncertainties and error analysis:** uncertainties (http://pythonhosted.org/uncertainties/#installation-and-download), quantities (http://pythonhosted.org/quantities/user/tutorial.html)\n",
      "* **units:** quantities (http://pythonhosted.org/quantities/user/tutorial.html), pint (https://pint.readthedocs.org/en/latest/), magnitude (http://juanreyero.com/open/magnitude/), unum (https://bitbucket.org/kiv/unum/)\n"
     ]
    },
    {
     "cell_type": "code",
     "collapsed": false,
     "input": [
      "import uncertainties as unc\n",
      "import uncertainties.umath as umath\n",
      "\n",
      "x = unc.ufloat(0.202345, 0.01)  # x = 0.20 +/- 0.01\n",
      "y = unc.ufloat(0.5, 0.7)\n",
      "z = unc.ufloat(1.5433, 0.3)\n",
      "\n",
      "print x + y**2 / z\n",
      "\n",
      "print umath.exp(x * y)"
     ],
     "language": "python",
     "metadata": {},
     "outputs": [
      {
       "output_type": "stream",
       "stream": "stdout",
       "text": [
        "0.4+/-0.5\n",
        "1.11+/-0.16\n"
       ]
      }
     ],
     "prompt_number": 9
    },
    {
     "cell_type": "code",
     "collapsed": false,
     "input": [
      "import quantities as pq\n",
      "# 3.7 lbm of a chemical with molecular weight of 23.10 g/gmole\n",
      "# is added to a liquid, resulting in a final volume of 1.5 gallons.\n",
      "# Compute the molarity of the resulting solution.\n",
      "\n",
      "chemical_mass = 3.7 * pq.lb              # lb\n",
      "final_mixture_volume = 1.5 * pq.gallon   # gallons\n",
      "molecular_weight = 23.10 * (pq.g/pq.mol)  # g/g-mole\n",
      "\n",
      "number_of_moles = chemical_mass / molecular_weight\n",
      "concentration = number_of_moles / final_mixture_volume\n",
      "molarity = concentration.rescale('mole/l')\n",
      "\n",
      "print molarity"
     ],
     "language": "python",
     "metadata": {},
     "outputs": [
      {
       "output_type": "stream",
       "stream": "stdout",
       "text": [
        "12.7953183571 mol/L\n"
       ]
      }
     ],
     "prompt_number": 2
    },
    {
     "cell_type": "code",
     "collapsed": false,
     "input": [
      "d1 = 10.0 * pq.liter\n",
      "d2 = 5 * pq.gallon\n",
      "z = d1 + d2\n",
      "print z.rescale('gallon')"
     ],
     "language": "python",
     "metadata": {},
     "outputs": [
      {
       "output_type": "stream",
       "stream": "stdout",
       "text": [
        "7.64172052358 US_liquid_gallon\n"
       ]
      }
     ],
     "prompt_number": 8
    },
    {
     "cell_type": "markdown",
     "metadata": {},
     "source": [
      "Let's combine the two analyses:\n",
      "\n",
      "Compute the molarity of the solution assuming the following uncertainties:\n",
      "\n",
      "chemical_mass = $3.7 \\pm 0.2$ lbm\n",
      "\n",
      "final_mixture_volume = $1.5 \\pm .3$ gal\n",
      "\n",
      "molecular_weight = $23.10 \\pm 0.01$  g/g-mole"
     ]
    },
    {
     "cell_type": "code",
     "collapsed": false,
     "input": [
      "chemical_mass = pq.UncertainQuantity(3.7, 'lb', 0.2)    \n",
      "final_mixture_volume = pq.UncertainQuantity(1.5, 'gallon', 0.3) \n",
      "molecular_weight = pq.UncertainQuantity(23.10, 'g/mol',0.01)\n",
      "\n",
      "number_of_moles = chemical_mass / molecular_weight\n",
      "concentration = number_of_moles / final_mixture_volume\n",
      "molarity = concentration.rescale('mole/l')\n",
      "\n",
      "print molarity"
     ],
     "language": "python",
     "metadata": {},
     "outputs": [
      {
       "output_type": "stream",
       "stream": "stdout",
       "text": [
        "12.7953183571 mol/L\n",
        "+/-2.65088698878 mol/L (1 sigma)\n"
       ]
      }
     ],
     "prompt_number": 3
    },
    {
     "cell_type": "markdown",
     "metadata": {},
     "source": [
      "##### Exercise\n",
      "\n",
      "Look in the documentation for the package `uncertainties`.\n",
      "\n",
      "Try out some examples using different types of arithmetic operations (+, -, *, /) with numbers having various levels on uncertainty.\n",
      "\n",
      "Look in the documentation for the `quantities` package.\n",
      "\n",
      "What units are built into this system?\n",
      "\n",
      "Try out some conversions of \n",
      "\n",
      "* length (e.g., inches -> mega meters)\n",
      "* mass (e.g., kg -> ounces)\n",
      "* velocity (miles per day -> meters per second) "
     ]
    },
    {
     "cell_type": "code",
     "collapsed": false,
     "input": [],
     "language": "python",
     "metadata": {},
     "outputs": [],
     "prompt_number": 3
    },
    {
     "cell_type": "markdown",
     "metadata": {},
     "source": [
      "## Reproducible Research Involving Modeling\n",
      "\n",
      "There are a number of important elements for reproducing research, including\n",
      "\n",
      "* documentation\n",
      "* testing\n",
      "* revision control"
     ]
    },
    {
     "cell_type": "markdown",
     "metadata": {},
     "source": [
      "## Documentation\n",
      "\n",
      "Adding useful comments about your analysis and computer code is essential if you want to be able to reproduce your analysis in the future or have someone else replicate your work. This is especially important when writing scientifc papers."
     ]
    },
    {
     "cell_type": "markdown",
     "metadata": {},
     "source": [
      "### Code documentation\n",
      "\n",
      "Include the following in your code as comments or Python `docstrings`.\n",
      "\n",
      "* What is the purpose of the code?\n",
      "* Who wrote it?\n",
      "* When was it written?\n",
      "* When was it last updated?\n",
      "* What are the inputs and outputs and what are their units?\n",
      "* What special methods are being used in the code?\n",
      "\n",
      "It is often useful to include examples of how to use your code."
     ]
    },
    {
     "cell_type": "markdown",
     "metadata": {},
     "source": [
      "### Papers and other resources you are using in the project\n",
      "\n",
      "List all of the relevant articles and other resources you are using.\n",
      "\n",
      "Ideally, if you have pdf files, do can link to them here, like this:\n",
      "\n",
      "**papers**\n",
      "\n",
      "[phenytoin study by Richens et al. (1975)](files/articles/Richens_Epilepsia_16_1975.PDF)\n",
      "\n",
      "**data**\n",
      "\n",
      "[QSAR laboratory data](files/data/QSAR_data.csv)\n"
     ]
    },
    {
     "cell_type": "markdown",
     "metadata": {},
     "source": [
      "## Testing"
     ]
    },
    {
     "cell_type": "markdown",
     "metadata": {},
     "source": [
      "**` TEST YOUR PROGRAM THOROUGHLY BEFORE USING IT! THIS IS ESSENTIAL!`**\n",
      "\n",
      "You need to assure that any program you write gives the correct answers over the range of possible consitions under which it will be run.\n",
      "\n",
      "One of the first things you should do, even before writing any code, is to gather some test cases. Determine what 'answer' your program should give under a set of known conditions. \n",
      "\n",
      "Make sure that you run your tests after making any changes to a working program.\n"
     ]
    },
    {
     "cell_type": "markdown",
     "metadata": {},
     "source": [
      "Python has a number of packages that can be used for automated testing:\n",
      "\n",
      "* [unittest](http://docs.python.org/2/library/unittest.html#assert-methods)\n",
      "* [pytest](http://pytest.org/latest/)\n",
      "* [nose](http://nose.readthedocs.org/en/latest/)\n",
      "\n",
      "It is easy to check whether your program passes or fails your predefined tests by using any of these packages."
     ]
    },
    {
     "cell_type": "markdown",
     "metadata": {},
     "source": [
      "## Revision Control\n",
      "\n",
      "\n",
      "It is **essential** that the **exact** set of tools and data that produced a results are documented, tracked, and stored. This documentation can be done using a variety of methods, including a lab notebook, file(s) on your computer, and IPython notebooks.\n",
      "\n",
      "The tools and data themselves should be backed up and time-stamped regularly.\n",
      "\n",
      "\n",
      "### Timestamped directories of files:\n",
      "\n",
      "* C:\\MyProjects\\clearance_analysis\\20130423\n",
      "* C:\\MyProjects\\clearance_analysis\\20130502\n",
      "* C:\\MyProjects\\clearance_analysis\\20130504\n",
      "* C:\\MyProjects\\clearance_analysis\\20130609\\manuscript_submitted_to_Science_magazine_201306010\n",
      "* C:\\MyProjects\\clearance_analysis\\20130809\\manuscript_revision_submitted_to_Science_magazine_20130811\n",
      "\n",
      "\n",
      "**The contents of these 'historical' folders should never be changed!**\n",
      "\n",
      "It is advisable to archive (zip) the folders as well.\n",
      "\n",
      "### Revision control systems\n",
      "\n",
      "Tools: [git](http://git-scm.com/), [mercurial](http://mercurial.selenic.com/), or [subversion](http://subversion.tigris.org/)\n",
      "\n",
      "These tools allow a very formalized way to track changes and return to previous revisions when necessary.\n",
      "\n",
      "With these tools, it is also possible to *tag* important versions (e.g. ''submitted_to_Science_magazine')."
     ]
    },
    {
     "cell_type": "code",
     "collapsed": false,
     "input": [],
     "language": "python",
     "metadata": {},
     "outputs": [],
     "prompt_number": 3
    }
   ],
   "metadata": {}
  }
 ]
}