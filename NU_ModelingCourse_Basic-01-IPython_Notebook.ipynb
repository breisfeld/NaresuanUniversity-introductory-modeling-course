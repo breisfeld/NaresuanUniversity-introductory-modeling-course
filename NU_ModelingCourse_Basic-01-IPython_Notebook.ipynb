{
 "metadata": {
  "name": ""
 },
 "nbformat": 3,
 "nbformat_minor": 0,
 "worksheets": [
  {
   "cells": [
    {
     "cell_type": "markdown",
     "metadata": {},
     "source": [
      "![Naresuan University logo](files/graphics/nu_logo.png)"
     ]
    },
    {
     "cell_type": "markdown",
     "metadata": {
      "module": {
       "author": "Brad Reisfeld",
       "author_email": "brad.reisfeld@colostate.edu",
       "notebook_title": "IPython Notebook"
      }
     },
     "source": [
      "# IPython Notebook  - part 1"
     ]
    },
    {
     "cell_type": "markdown",
     "metadata": {},
     "source": [
      "## Major Topics\n",
      "\n",
      "* Overview of the IPython notebook for this course\n",
      "* Adding notes\n"
     ]
    },
    {
     "cell_type": "markdown",
     "metadata": {},
     "source": [
      "## Learning Objectives\n",
      "\n",
      "Students successfully completing this session will be able to...\n",
      "\n",
      "* explain the use of the IPython notebook for this course \n",
      "* add comments and notes to an existing notebook\n",
      "* create new cells and execute Markdown cells and Code cells in an IPython notebook"
     ]
    },
    {
     "cell_type": "markdown",
     "metadata": {},
     "source": [
      "---"
     ]
    },
    {
     "cell_type": "markdown",
     "metadata": {},
     "source": [
      "## Introduction\n",
      "\n",
      "**The IPython notebook will be used for almost all of the lecture notes, examples, and exercises for this course.**\n",
      "\n",
      "We will have a more complete session on the IPython notebook later, but below are a few hints to get you started.\n",
      "\n"
     ]
    },
    {
     "cell_type": "markdown",
     "metadata": {},
     "source": [
      "---"
     ]
    },
    {
     "cell_type": "markdown",
     "metadata": {},
     "source": [
      "The IPython notebook consists of cells.\n",
      "\n",
      "There are several types of cells: *Markdown*, *Code*, *Raw Text*, and *Headings*.\n",
      "\n",
      "For this course, we will focus on Markdown cells and Code cells.\n",
      "\n",
      "**Markdown cells** can contain text, headings, notes, comments, equations, images, and a number of other features.\n",
      "\n",
      "**Code cells** contain Python code and the output from running that code."
     ]
    },
    {
     "cell_type": "markdown",
     "metadata": {},
     "source": [
      "---"
     ]
    },
    {
     "cell_type": "markdown",
     "metadata": {},
     "source": [
      "To **edit** a cell, just *click* or *double click* on the cell and make changes.\n",
      "\n",
      "To **execute** or **run** the cell, press *Shift-Enter*.\n",
      "\n",
      "To start a new cell, go to the **Insert** menu and select either *Insert Cell Above* or *Insert Cell Below*.\n",
      "\n",
      "You can also use the ![uparrow](files/graphics/uparrow.png) and ![downarrow](files/graphics/downarrow.png) buttons.\n",
      "\n",
      "To make this cell a **Markdown Cell**, go to drop-down menu above and select *Markdown*."
     ]
    },
    {
     "cell_type": "markdown",
     "metadata": {},
     "source": [
      "##### Exercise\n",
      "\n",
      "Insert a cell below this one. Make it a Markdown cell.\n",
      "\n",
      "Type the following text into it:\n",
      "\n",
      "    ### Notes\n",
      "    \n",
      "    These are some notes.\n",
      "    \n",
      "    * Note 1\n",
      "    * Note 2\n",
      "    \n",
      "Then press `Shift-Enter`.\n",
      "    \n",
      "    "
     ]
    },
    {
     "cell_type": "markdown",
     "metadata": {},
     "source": [
      "---"
     ]
    },
    {
     "cell_type": "markdown",
     "metadata": {},
     "source": [
      "In the presentation materials for this course, you can add or edit any cells you would like.\n",
      "\n",
      "There is no need for paper notes. You can add your notes right to the lecture materials.\n",
      "\n",
      "I suggest using Markdown cells and labeling them *Notes* or *Comments*."
     ]
    },
    {
     "cell_type": "markdown",
     "metadata": {},
     "source": [
      "---"
     ]
    },
    {
     "cell_type": "markdown",
     "metadata": {},
     "source": [
      "To finish the software install, if needed, let's execute the following cell (`Shift-Enter`)"
     ]
    },
    {
     "cell_type": "code",
     "collapsed": false,
     "input": [
      "from IPython.external import mathjax\n",
      "mathjax.install_mathjax()"
     ],
     "language": "python",
     "metadata": {},
     "outputs": [
      {
       "output_type": "stream",
       "stream": "stdout",
       "text": [
        "offline MathJax apparently already installed\n"
       ]
      }
     ],
     "prompt_number": 1
    }
   ],
   "metadata": {}
  }
 ]
}